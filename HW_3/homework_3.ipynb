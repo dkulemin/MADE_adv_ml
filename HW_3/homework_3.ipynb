{
 "cells": [
  {
   "cell_type": "code",
   "execution_count": 696,
   "metadata": {},
   "outputs": [],
   "source": [
    "import random\n",
    "import itertools\n",
    "import numpy as np\n",
    "from tqdm import tqdm\n",
    "from collections import Counter"
   ]
  },
  {
   "cell_type": "markdown",
   "metadata": {},
   "source": [
    "# Задание 1\n",
    "\n",
    "Реализуйте базовый частотный метод по Шерлоку Холмсу:\n",
    "\n",
    "* подсчитайте частоты букв по корпусам (пунктуацию и капитализацию можно просто опустить, а вот пробелы лучше оставить);\n",
    "* возьмите какие-нибудь тестовые тексты (нужно взять по меньшей мере 2-3 предложения, иначе вряд ли сработает), зашифруйте их посредством случайной перестановки символов;\n",
    "* расшифруйте их таким частотным методом.\n"
   ]
  },
  {
   "cell_type": "code",
   "execution_count": 11,
   "metadata": {},
   "outputs": [],
   "source": [
    "with open(\"corpora/AnnaKarenina.txt\") as fin:\n",
    "    karenina = fin.read()\n",
    "    \n",
    "with open(\"corpora/WarAndPeace.txt\") as fin:\n",
    "    war_and_peace = fin.read()\n",
    "    \n",
    "with open(\"corpora/WarAndPeaceEng.txt\") as fin:\n",
    "    war_and_peace_eng = fin.read()"
   ]
  },
  {
   "cell_type": "code",
   "execution_count": 670,
   "metadata": {},
   "outputs": [],
   "source": [
    "russian_alphabet = [' ']  + [chr(x) for x in range(1072, 1104)]\n",
    "english_alphabet = [' ']  + [chr(x) for x in range(97, 123)]"
   ]
  },
  {
   "cell_type": "code",
   "execution_count": 780,
   "metadata": {},
   "outputs": [],
   "source": [
    "def preprocess_text(text, alphabet):\n",
    "    result = \"\"\n",
    "    text = text.lower()\n",
    "    for elem in text:\n",
    "        if elem in alphabet:\n",
    "            result += elem\n",
    "    return result"
   ]
  },
  {
   "cell_type": "code",
   "execution_count": 785,
   "metadata": {},
   "outputs": [],
   "source": [
    "karenina = preprocess_text(karenina, russian_alphabet)\n",
    "war_and_peace = preprocess_text(war_and_peace, russian_alphabet)\n",
    "war_and_peace_eng = preprocess_text(war_and_peace_eng, english_alphabet)"
   ]
  },
  {
   "cell_type": "code",
   "execution_count": 671,
   "metadata": {},
   "outputs": [],
   "source": [
    "def count_char_freq(text, alphabet):\n",
    "    text_cnt = Counter()\n",
    "    for text_char in text:\n",
    "        if text_char in alphabet:\n",
    "            text_cnt[text_char] += 1\n",
    "    return sorted(text_cnt.items(), key=lambda x: x[1], reverse=True)"
   ]
  },
  {
   "cell_type": "code",
   "execution_count": 672,
   "metadata": {},
   "outputs": [],
   "source": [
    "karenina_cnt = count_char_freq(karenina, russian_alphabet)\n",
    "war_and_peace_cnt = count_char_freq(war_and_peace, russian_alphabet)\n",
    "war_and_peace_eng_cnt = count_char_freq(war_and_peace_eng, english_alphabet)"
   ]
  },
  {
   "cell_type": "code",
   "execution_count": 88,
   "metadata": {},
   "outputs": [],
   "source": [
    "with open('data/test.txt') as fin:\n",
    "    test_text = fin.read()"
   ]
  },
  {
   "cell_type": "code",
   "execution_count": 89,
   "metadata": {},
   "outputs": [],
   "source": [
    "test_text = ''.join([c for c in test_text.lower() if c in russian_alphabet])"
   ]
  },
  {
   "cell_type": "code",
   "execution_count": 697,
   "metadata": {},
   "outputs": [
    {
     "data": {
      "text/plain": [
       "'скопули захватили восемь дней назад и джули мао наконец приготовилась умеретьчтобы дойти до точки ей понадобились все восемь дней заключения в шкафукладовой первые два она провела без движения в уверенности что вооруженные люди кинувшие ее сюда не шутили несколько часов сразу после абордажа корабль на который ее перевели не включал тяги так что она плавала в шкафу тихонько отталкиваясь от стен и скафандров разделявших с ней тесное пространство когда корабль пришел в движение тяга придала вес ее телу после этого она тихо стояла пока судорога не свела ноги потом села свернувшись в позе эмбриона она мочилась в тренировочные штаны не беспокоясь ни о теплой щиплющей влаге ни о запахе и думая только как бы не поскользнуться на мокром пятне оставшемся на полу шуметь было нельзя застрелят'"
      ]
     },
     "execution_count": 697,
     "metadata": {},
     "output_type": "execute_result"
    }
   ],
   "source": [
    "test_text"
   ]
  },
  {
   "cell_type": "code",
   "execution_count": 702,
   "metadata": {},
   "outputs": [],
   "source": [
    "def create_cipher_key(seq):\n",
    "    tmp_seq = seq.copy()\n",
    "    random.shuffle(tmp_seq)\n",
    "    return dict(zip(seq, tmp_seq))"
   ]
  },
  {
   "cell_type": "code",
   "execution_count": 703,
   "metadata": {},
   "outputs": [],
   "source": [
    "def encrypt_text(text, cipher):\n",
    "    result = \"\"\n",
    "    for elem in text:\n",
    "        result += cipher[elem]\n",
    "    return result"
   ]
  },
  {
   "cell_type": "code",
   "execution_count": 704,
   "metadata": {},
   "outputs": [],
   "source": [
    "cipher_key = create_cipher_key(russian_alphabet)"
   ]
  },
  {
   "cell_type": "code",
   "execution_count": 705,
   "metadata": {},
   "outputs": [],
   "source": [
    "cipher_text = encrypt_text(test_text, cipher_key)"
   ]
  },
  {
   "cell_type": "code",
   "execution_count": 706,
   "metadata": {},
   "outputs": [],
   "source": [
    "def decrypt_text_by_freq(cipher_text, freq_cnt, alphabet):\n",
    "    result = \"\"\n",
    "    cipher_freq = count_char_freq(cipher_text, alphabet)\n",
    "    key = {enc_char: dec_char for (enc_char, _), (dec_char, _) in zip(cipher_freq, freq_cnt)}\n",
    "    for elem in cipher_text:\n",
    "        result += key[elem]\n",
    "    return result"
   ]
  },
  {
   "cell_type": "code",
   "execution_count": 707,
   "metadata": {},
   "outputs": [
    {
     "data": {
      "text/plain": [
       "'лродпти ыашвасити волеьу мнеч наыам и мхпти ьао наронеф дкижосовиталу пьекесузсогй мочси мо созри еч донамогитилу вле волеьу мнеч ыартюзения в браэпртамовоч деквйе мва она дковета геы мвихения в пвекеннолси зсо воокпхеннйе тюми ринпвбие ее люма не бпсити нелротуро залов лкаып долте агокмаха рокагту на росокйч ее декевети не вртюзат сяжи сар зсо она дтавата в браэп сишонуро оссатриваялу ос лсен и лраэанмков каыметявбиш л неч селное дколсканлсво рожма рокагту дкибет в мвихение сяжа дкимата вел ее сетп долте цсожо она сишо лсоята дора лпмокожа не лвета ножи досоь лета лвекнпвбилу в доые цьгкиона она ьозиталу в скениковознйе бсанй не гелдороялу ни о седточ щидтющеч втаже ни о ыадаше и мпьая сотуро рар гй не долротуынпсуля на ьоркоь дясне олсавбеьля на дотп бпьесу гйто нетуыя ыалскетяс'"
      ]
     },
     "execution_count": 707,
     "metadata": {},
     "output_type": "execute_result"
    }
   ],
   "source": [
    "karenina_freq_test = decrypt_text_by_freq(cipher_text, karenina_cnt, russian_alphabet)\n",
    "karenina_freq_test"
   ]
  },
  {
   "cell_type": "code",
   "execution_count": 708,
   "metadata": {},
   "outputs": [
    {
     "data": {
      "text/plain": [
       "'лводптн ьешреснтн ролагм уиаб иеьеу н ухптн гео иевоиаф дкнйосорнтелм пгакасмчсоыж уобсн уо сочвн аб доиеуоынтнлм рла ролагм уиаб ьевтючаиня р звецпвтеуороб дакржа уре оие дкорате ыаь урнхаиня р пракаииолсн чсо роокпхаиижа тюун внипрзна аа люуе иа зпснтн иалвотмво челор лкеьп долта еыокуехе вокеытм ие восокжб аа дакаратн иа рвтючет сяйн сев чсо оие дтерете р звецп сншоимво оссетвнреялм ос лсаи н лвецеиукор кеьуатярзнш л иаб салиоа дколскеилсро войуе вокеытм дкнзат р урнхаина сяйе дкнуете рал аа сатп долта щсойо оие сншо лсояте дове лпуокойе иа лрате иойн досог лате лракипрзнлм р доьа щгыкноие оие гочнтелм р скаинкорочижа зсеиж иа ыалдовоялм ин о садтоб эндтюэаб ртейа ин о ьедеша н упгея сотмво вев ыж иа долвотмьипсмля ие говког дясиа олсерзагля ие дотп зпгасм ыжто иатмья ьелскатяс'"
      ]
     },
     "execution_count": 708,
     "metadata": {},
     "output_type": "execute_result"
    }
   ],
   "source": [
    "war_and_peace_freq_test = decrypt_text_by_freq(cipher_text, war_and_peace_cnt, russian_alphabet)\n",
    "war_and_peace_freq_test"
   ]
  },
  {
   "cell_type": "markdown",
   "metadata": {},
   "source": [
    "# Задание 2\n",
    "\n",
    "Вряд ли в результате получилась такая уж хорошая расшифровка, разве что если вы брали в качестве тестовых данных целые рассказы. Но и Шерлок Холмс был не так уж прост: после буквы E, которая действительно выделяется частотой, дальше он анализировал уже конкретные слова и пытался угадать, какими они могли бы быть. Я не знаю, как запрограммировать такой интуитивный анализ, так что давайте просто сделаем следующий логический шаг:\n",
    "* подсчитайте частоты биграмм (т.е. пар последовательных букв) по корпусам;\n",
    "* проведите тестирование аналогично п.1, но при помощи биграмм.\n"
   ]
  },
  {
   "cell_type": "code",
   "execution_count": 709,
   "metadata": {},
   "outputs": [],
   "source": [
    "russian_bigrams = [x + y for x, y in itertools.product(russian_alphabet, russian_alphabet)]\n",
    "english_bigrams = [x + y for x, y in itertools.product(english_alphabet, english_alphabet)]"
   ]
  },
  {
   "cell_type": "code",
   "execution_count": 710,
   "metadata": {},
   "outputs": [],
   "source": [
    "def count_bigram_freq(text, bigrams):\n",
    "    text_cnt = Counter()\n",
    "    for text_idx in range(len(text)):\n",
    "        if text[text_idx: text_idx + 2] in bigrams:\n",
    "            text_cnt[text[text_idx: text_idx + 2]] += 1\n",
    "    return sorted(text_cnt.items(), key=lambda x: x[1], reverse=True)"
   ]
  },
  {
   "cell_type": "code",
   "execution_count": 711,
   "metadata": {},
   "outputs": [],
   "source": [
    "karenina_bigram_cnt = count_bigram_freq(karenina, russian_bigrams)\n",
    "war_and_peace_bigram_cnt = count_bigram_freq(war_and_peace, russian_bigrams)\n",
    "war_and_peace_eng_bigram_cnt = count_bigram_freq(war_and_peace_eng, english_bigrams)"
   ]
  },
  {
   "cell_type": "code",
   "execution_count": 712,
   "metadata": {},
   "outputs": [],
   "source": [
    "def decrypt_text_by_bigram_freq(cipher_text, bigram_cnt, bigrams):\n",
    "    result = \"\"\n",
    "    cipher_freq = count_bigram_freq(cipher_text, bigrams)\n",
    "    key = {enc_char: dec_char for (enc_char, _), (dec_char, _) in zip(cipher_freq, bigram_cnt)}\n",
    "    for text_idx in range(0, len(cipher_text), 2):\n",
    "        if cipher_text[text_idx: text_idx + 2] in bigrams:\n",
    "            result += key[cipher_text[text_idx: text_idx + 2]]\n",
    "    return result"
   ]
  },
  {
   "cell_type": "code",
   "execution_count": 713,
   "metadata": {},
   "outputs": [
    {
     "data": {
      "text/plain": [
       "'ериямо н чсвнял  нон емеал влана чуж нспмо нсьа на п видлоднел тл ом оу ол эшинек аланкаала негл нос сничтылл с  о яо он емеал вла ч уэтовмии вареое учт тан солкуо есе ние ло тпое ейепессловмии му дорки ккааснеи ийтыдакитисиед н здов ием о чивитоо тркаь тоет ппр пасом тнозаош с к лньрылсыйе  пзасо онаотелтььнм о евор дь тоо езтаамю машесттеаснея на с иск ии вареоестойнивса елн гдажхороя уленоводнорепаоп бкозабрпонсчеаеис влалеутоз с бензалюжна  пусе  пзасо олоывпои албыдавоо мах  с мви ии етм о леар с к лзннеимя настойа енож и ссяе ыей  бх тоо бепое  рше селпенопое беолдов с  окогоксзнеч мние ние боря ирои сторво бонрьтиван льтоо еймысяожрото на леы анясгатаицлаха ао воя либанно  нежсьранепр поттеогже в с к ппроюаяпиранаинся бичехбло  кн в акизтое гоарвау  э ок дутопоекра ченорну'"
      ]
     },
     "execution_count": 713,
     "metadata": {},
     "output_type": "execute_result"
    }
   ],
   "source": [
    "karenina_bigram_test = decrypt_text_by_bigram_freq(cipher_text, karenina_bigram_cnt, russian_bigrams)\n",
    "karenina_bigram_test"
   ]
  },
  {
   "cell_type": "code",
   "execution_count": 714,
   "metadata": {},
   "outputs": [
    {
     "data": {
      "text/plain": [
       "'такрны порднси б полтьобала носторту пожны пнн нсте а ду д желен бом оемреисяз к ралойвоал н кзн п ти ову ая бди обоо олтьобала ноор еамь метой вас  еу енойи рерыо ав сов с денпо сивийаввыь метоимлаонкиковон  ктоутятнякиесшама петтиатну чо внск во едвоер воге лое н оменгозаоши копе аочгрвш се зах  остлиелролы чо сеонлаер во ще миеейсоылнаилн  кнести  ири итой вас навиовин нелк чикучал небркаь  згова ябуотя зазьпоывитцеада нодерямни отказаопеб не  х се зах  о дехпотоаласняосо содри в ск итоог чо деэти копеуд квснестнави нкаши ии ся сгапротдр во бепо сегыли елкнгопо сберетиатди оя раукудекв ов сов сидпа ил тонаоносотолсмесй к сь во ивьесяшил  в п ндечтойечые мтннояльсо оснем озруо  пузннни клое лиил г уа и кое лоае лыхнистдасяотлягдуво кок атвеик в сраэтй емис о рсв впоихниоркаоное'"
      ]
     },
     "execution_count": 714,
     "metadata": {},
     "output_type": "execute_result"
    }
   ],
   "source": [
    "war_and_peace_bigram_test = decrypt_text_by_bigram_freq(cipher_text, war_and_peace_bigram_cnt, russian_bigrams)\n",
    "war_and_peace_bigram_test"
   ]
  },
  {
   "cell_type": "code",
   "execution_count": 715,
   "metadata": {},
   "outputs": [],
   "source": [
    "def count_right(text, decrypted_text):\n",
    "    result = 0\n",
    "    for u, v in zip(text[:len(decrypted_text)], decrypted_text):\n",
    "        result += 1 if u == v else 0\n",
    "    return result"
   ]
  },
  {
   "cell_type": "code",
   "execution_count": 716,
   "metadata": {},
   "outputs": [
    {
     "data": {
      "text/plain": [
       "(88, 67)"
      ]
     },
     "execution_count": 716,
     "metadata": {},
     "output_type": "execute_result"
    }
   ],
   "source": [
    "count_right(test_text, karenina_bigram_test), count_right(test_text, war_and_peace_bigram_test)"
   ]
  },
  {
   "cell_type": "code",
   "execution_count": 717,
   "metadata": {},
   "outputs": [
    {
     "data": {
      "text/plain": [
       "(460, 226)"
      ]
     },
     "execution_count": 717,
     "metadata": {},
     "output_type": "execute_result"
    }
   ],
   "source": [
    "count_right(test_text, karenina_freq_test), count_right(test_text, war_and_peace_freq_test)"
   ]
  },
  {
   "cell_type": "markdown",
   "metadata": {},
   "source": [
    "Что-то, биграммы показали себя хуже чем обычный частотный анализ..."
   ]
  },
  {
   "cell_type": "markdown",
   "metadata": {},
   "source": [
    "# Задание 3\n",
    "\n",
    "Но и это ещё не всё: биграммы скорее всего тоже далеко не всегда работают. Основная часть задания — в том, как можно их улучшить:\n",
    "* предложите метод обучения перестановки символов в этом задании, основанный на MCMC-сэмплировании, но по-прежнему работающий на основе статистики биграмм;\n",
    "* реализуйте и протестируйте его, убедитесь, что результаты улучшились."
   ]
  },
  {
   "cell_type": "markdown",
   "metadata": {},
   "source": [
    "Идея: так как текст зашифрован некоторой перестановкой, будем пытаться подбирать перестановку методом MCMC-сэмплирования. В качестве метрики качества будет считать произведение вероятностей встреченных биграмм в расшифрованном тексте:\n",
    "\n",
    "$$Score = \\prod P(c1, c2)$$\n",
    "\n",
    "Далее используем `Metropolis-Hastings` алгоритм, где параметр $a$ будем вычислять по следующей формуле:\n",
    "\n",
    "$$a = \\exp \\left (\\log \\frac{Score(new)}{Score(current)} \\right )$$\n",
    "\n",
    "Если $a \\geq  1$, то принимаем новое значение $key$, иначе принимаем значение $key$ с вероятностью $1 - a$.\n",
    "\n",
    "Также запустим несколько раундов расшифровки и возьмем значение $key$ с лучшим значением правдоподобия."
   ]
  },
  {
   "cell_type": "code",
   "execution_count": 718,
   "metadata": {},
   "outputs": [],
   "source": [
    "def n_gram_probs_smooth(n_gram_cnt):\n",
    "    n_gram_sum = sum(map(lambda x: x[1], n_gram_cnt))\n",
    "    return {k: (v + 1) / n_gram_sum for (k, v) in n_gram_cnt}"
   ]
  },
  {
   "cell_type": "code",
   "execution_count": 719,
   "metadata": {},
   "outputs": [],
   "source": [
    "def sample_cipher_key(key):\n",
    "    new_key = key.copy()\n",
    "    char_1 = char_2 = 0\n",
    "    while char_1 == char_2:\n",
    "        char_1 = random.choice(list(new_key))\n",
    "        char_2 = random.choice(list(new_key))\n",
    "    new_key[char_1], new_key[char_2] = new_key[char_2], new_key[char_1]\n",
    "    return new_key"
   ]
  },
  {
   "cell_type": "code",
   "execution_count": 720,
   "metadata": {},
   "outputs": [],
   "source": [
    "def decrypt_text_by_sample(cipher_text, key):\n",
    "    result = \"\"\n",
    "    inverse_key = {v: k for k, v in key.items()}\n",
    "    for elem in cipher_text:\n",
    "        result += inverse_key[elem]\n",
    "    return result"
   ]
  },
  {
   "cell_type": "code",
   "execution_count": 863,
   "metadata": {},
   "outputs": [],
   "source": [
    "def get_cipher_score(cipher_text, key, alphabet, n_gram_probs, n=2):\n",
    "    decrypted_text = decrypt_text_by_sample(cipher_text, key)\n",
    "    score = 0\n",
    "    for i in range(len(decrypted_text) - n + 1):\n",
    "        n_gram = decrypted_text[i: i + n]\n",
    "        n_gram_proba = n_gram_probs.get(n_gram)\n",
    "        if not n_gram_proba:\n",
    "            n_gram_proba = 1 / (len(decrypted_text) + len(alphabet)**n)  \n",
    "        score += np.log(n_gram_proba)\n",
    "    return score"
   ]
  },
  {
   "cell_type": "code",
   "execution_count": 932,
   "metadata": {},
   "outputs": [],
   "source": [
    "def MCMC(cipher_text, alphabet, n_grams, n_gram_probs, n=2, steps=10000, rounds=1):\n",
    "    all_tries_best_states = []\n",
    "    all_tries_best_scores = []\n",
    "    \n",
    "    for i in range(1, rounds + 1):\n",
    "        current_key = create_cipher_key(alphabet)\n",
    "        best_state = ''\n",
    "        best_score = -np.inf\n",
    "        score_current = get_cipher_score(cipher_text, current_key, alphabet, n_gram_probs, n)\n",
    "        for _ in range(steps):\n",
    "            new_key = sample_cipher_key(current_key)\n",
    "            score_new = get_cipher_score(cipher_text, new_key, alphabet, n_gram_probs, n)\n",
    "            acceptance_param = np.exp(score_new - score_current)\n",
    "            if random.uniform(0, 1) <= acceptance_param:\n",
    "                current_key = new_key\n",
    "                score_current = score_new\n",
    "            if score_current > best_score:\n",
    "                best_state = current_key\n",
    "                best_score = score_current\n",
    "        print(f'раунд: {i}, лучший score: {best_score}')\n",
    "        print(decrypt_text_by_sample(cipher_text, best_state)[:100])\n",
    "        all_tries_best_states.append(best_state)\n",
    "        all_tries_best_scores.append(best_score)\n",
    "    best_of_the_best_score = max(all_tries_best_scores)\n",
    "    best_of_the_best_state = all_tries_best_states[all_tries_best_scores.index(best_of_the_best_score)]\n",
    "    print(f'лучший score: {best_of_the_best_score}')\n",
    "    print(decrypt_text_by_sample(cipher_text, best_of_the_best_state)[:100])\n",
    "    return best_of_the_best_state, best_of_the_best_score"
   ]
  },
  {
   "cell_type": "code",
   "execution_count": 748,
   "metadata": {},
   "outputs": [],
   "source": [
    "karenina_bigram_probs = n_gram_probs_smooth(karenina_bigram_cnt)\n",
    "war_and_peace_bigram_probs = n_gram_probs_smooth(war_and_peace_bigram_cnt)"
   ]
  },
  {
   "cell_type": "code",
   "execution_count": 934,
   "metadata": {},
   "outputs": [
    {
     "name": "stdout",
     "output_type": "stream",
     "text": [
      "раунд: 1, лучший score: -5078.165919263841\n",
      "скамбович шл явовиласнйтиденщие ч дивидубовий аие каенцимывзаяалво стибйнынятьяаъридащявидаияаьквинщ\n",
      "раунд: 2, лучший score: -4982.039615436787\n",
      "чя мгавоъныснтвавос члкроделпоенъндоводьгавокн оеня елхомиву т сванчрогклилтржт збод птвод от жяволп\n",
      "раунд: 3, лучший score: -4378.621786843969\n",
      "скопули захватили восемь дней назад и дшули мао наконец приготовилась умеретьжтобы дойти до тожки ей\n",
      "раунд: 4, лучший score: -4377.555604362893\n",
      "скопули захватили восемь дней назад и дшули мао наконец приготовилась умеретьчтобы дойти до точки ей\n",
      "раунд: 5, лучший score: -4372.226345949895\n",
      "скопули захватили восемь дней назад и джули мао наконею приготовилась умеретьчтобы дойти до точки ей\n",
      "раунд: 6, лучший score: -5142.708333592899\n",
      "итрдчусня па есуснарилгжнколйно я кнснкбчуснг рно тролюндьсврерасу ижнчгльлежэеръшнкрйеснкрнерэтснлй\n",
      "раунд: 7, лучший score: -4375.440818313938\n",
      "скопули захватили восегь дней назад и дшули гао наконею примотовилась угеретьчтобы дойти до точки ей\n",
      "раунд: 8, лучший score: -5130.062042450132\n",
      "тв ьринспеэаеянинса тлыйсколъсоепекснскщринсые соев олюсьунз я аниетйсрылуляйжя мгск ъянск ся жвнслъ\n",
      "раунд: 9, лучший score: -5094.9801753439915\n",
      "сылкшовиьнэанявовиалс чтиде пиеньндивидйшовичнлиеныле бикувглялавонстишч у ятхялъмидлпявидлиялхыви п\n",
      "раунд: 10, лучший score: -4549.484002374096\n",
      "степука гошловака лесичя дний ногод а дъука чое нотених прамевелакося учиривязвебь дейва де везта ий\n",
      "лучший score: -4372.226345949895\n",
      "скопули захватили восемь дней назад и джули мао наконею приготовилась умеретьчтобы дойти до точки ей\n",
      "CPU times: user 3min 28s, sys: 31.8 ms, total: 3min 28s\n",
      "Wall time: 3min 28s\n"
     ]
    }
   ],
   "source": [
    "%%time\n",
    "best_bigram_test_state, best_bigram_test_score = MCMC(\n",
    "    cipher_text, \n",
    "    russian_alphabet, \n",
    "    russian_bigrams, \n",
    "    karenina_bigram_probs,\n",
    "    steps=10000, \n",
    "    rounds=10\n",
    ")"
   ]
  },
  {
   "cell_type": "code",
   "execution_count": 867,
   "metadata": {},
   "outputs": [
    {
     "data": {
      "text/plain": [
       "'скопули захватили восемь дней назад и джули мао наконею приготовилась умеретьчтобы дойти до точки ей понадобились все восемь дней заклъчения в шкацукладовой первые два она провела без движения в уверенности что вооруженные лъди кинувшие ее съда не шутили несколько часов сразу после абордажа корабль на который ее перевели не вклъчал тяги так что она плавала в шкацу тихонько отталкиваясь от стен и скацандров разделявших с ней тесное пространство когда корабль пришел в движение тяга придала вес ее телу после этого она тихо стояла пока судорога не свела ноги потом села свернувшись в позе эмбриона она мочилась в тренировочные штаны не беспокоясь ни о теплой щиплъщей влаге ни о запахе и думая только как бы не поскользнуться на мокром пятне оставшемся на полу шуметь было нельзя застрелят'"
      ]
     },
     "execution_count": 867,
     "metadata": {},
     "output_type": "execute_result"
    }
   ],
   "source": [
    "decrypt_text_by_sample(cipher_text, best_bigram_test_state)"
   ]
  },
  {
   "cell_type": "markdown",
   "metadata": {},
   "source": [
    "# Задание 4\n",
    "\n",
    "Расшифруйте сообщение:\n",
    "←⇠⇒↟↹↷⇊↹↷↟↤↟↨←↹↝⇛⇯↳⇴⇒⇈↝⇊↾↹↟⇒↟↹⇷⇛⇞↨↟↹↝⇛⇯↳⇴⇒⇈↝⇊↾↹↨←⇌⇠↨↹⇙↹⇸↨⇛↙⇛↹⇠⇛⇛↲⇆←↝↟↞↹⇌⇛↨⇛⇯⇊↾↹⇒←↙⇌⇛↹⇷⇯⇛⇞↟↨⇴↨⇈↹⇠⇌⇛⇯←←↹↷⇠←↙⇛↹↷⇊↹↷⇠←↹⇠↤←⇒⇴⇒↟↹⇷⇯⇴↷↟⇒⇈↝⇛↹↟↹⇷⇛⇒⇙⇞↟↨←↹↳⇴⇌⇠↟↳⇴⇒⇈↝⇊↾↹↲⇴⇒⇒↹⇰⇴↹⇷⇛⇠⇒←↤↝←←↹⇞←↨↷←⇯↨⇛←↹⇰⇴↤⇴↝↟←↹⇌⇙⇯⇠⇴↹↘⇛↨↞↹⇌⇛↝←⇞↝⇛↹↞↹↝↟⇞←↙⇛↹↝←↹⇛↲←⇆⇴⇏"
   ]
  },
  {
   "cell_type": "code",
   "execution_count": 820,
   "metadata": {},
   "outputs": [],
   "source": [
    "def accuracy(predicted_text, true_text):\n",
    "    result = 0\n",
    "    for i in range(len(predicted_text)):\n",
    "        if predicted_text[i] == true_text[i]:\n",
    "            result += 1\n",
    "    return result / len(true_text)"
   ]
  },
  {
   "cell_type": "code",
   "execution_count": 410,
   "metadata": {},
   "outputs": [],
   "source": [
    "some_text = \"←⇠⇒↟↹↷⇊↹↷↟↤↟↨←↹↝⇛⇯↳⇴⇒⇈↝⇊↾↹↟⇒↟↹⇷⇛⇞↨↟↹↝⇛⇯↳⇴⇒⇈↝⇊↾↹↨←⇌⇠↨↹⇙↹⇸↨⇛↙⇛↹⇠⇛⇛↲⇆←↝↟↞↹⇌⇛↨⇛⇯⇊↾↹⇒←↙⇌⇛↹⇷⇯⇛⇞↟↨⇴↨⇈↹⇠⇌⇛⇯←←↹↷⇠←↙⇛↹↷⇊↹↷⇠←↹⇠↤←⇒⇴⇒↟↹⇷⇯⇴↷↟⇒⇈↝⇛↹↟↹⇷⇛⇒⇙⇞↟↨←↹↳⇴⇌⇠↟↳⇴⇒⇈↝⇊↾↹↲⇴⇒⇒↹⇰⇴↹⇷⇛⇠⇒←↤↝←←↹⇞←↨↷←⇯↨⇛←↹⇰⇴↤⇴↝↟←↹⇌⇙⇯⇠⇴↹↘⇛↨↞↹⇌⇛↝←⇞↝⇛↹↞↹↝↟⇞←↙⇛↹↝←↹⇛↲←⇆⇴⇏\""
   ]
  },
  {
   "cell_type": "code",
   "execution_count": 727,
   "metadata": {},
   "outputs": [],
   "source": [
    "def prepare_text(cipher_text, alphabet):\n",
    "    to_chars = dict(zip(set(cipher_text), alphabet[:len(cipher_text)]))\n",
    "    result = \"\"\n",
    "    for elem in cipher_text:\n",
    "        result += to_chars[elem]\n",
    "    return result"
   ]
  },
  {
   "cell_type": "code",
   "execution_count": 728,
   "metadata": {},
   "outputs": [],
   "source": [
    "ciphered_text = prepare_text(some_text, russian_alphabet)"
   ]
  },
  {
   "cell_type": "code",
   "execution_count": 935,
   "metadata": {},
   "outputs": [
    {
     "name": "stdout",
     "output_type": "stream",
     "text": [
      "раунд: 1, лучший score: -1370.181572650172\n",
      "еитонпънпогосенл вратьлъзнотоны дсонл вратьлъзнсейиснунцс м ни  чжелокнй с възнтемй ныв досасьний ве\n",
      "раунд: 2, лучший score: -1269.3271795967853\n",
      "ерни сь сишиве лотчаныльй ини кодви лотчаныльй вепрв у жвого роомэелия повотьй негпо ктодивавы рпоте\n",
      "раунд: 3, лучший score: -1347.4409296930387\n",
      "нвитоспостытаное уьрилепготитом чатое уьрилепгоанйваоъоза я ов  дцнеткой а упгоиняй ому чтараловй ун\n",
      "раунд: 4, лучший score: -1252.6160158708376\n",
      "если бы бимите норкальный или подти норкальный тевст у этого соочшения воторый легво продитать своре\n",
      "раунд: 5, лучший score: -1359.6434621064711\n",
      "нсекоъпоъкякино таглем прокекойтьико таглем проинчсиодожитутосттвын кхочтитапроенучтойатькилимосчтан\n",
      "раунд: 6, лучший score: -1238.530036779551\n",
      "если вы вимите нордальный или почти нордальный текст у этого соошжения который легко прочитать скоре\n",
      "раунд: 7, лучший score: -1262.1836681939224\n",
      "если чй читине вормалывйь или подни вормалывйь нексн у бного соожшевия конорйь легко продинаны скоре\n",
      "раунд: 8, лучший score: -1423.876892546051\n",
      " лотнамнатктр ниебыъовимднтотнэесртниебыъовимднр плрнчнцреженлеейя итьнперебмдно жпенэбестрървнлпеб \n",
      "раунд: 9, лучший score: -1236.1331921831995\n",
      "если вы вимите нордальный или почти нордальный текст у этого соожшения который легко прочитать скоре\n",
      "раунд: 10, лучший score: -1399.48852905647\n",
      "нс левшевляланеытори бышдел лектьалеытори бышдеанчсаегезатутесттйънылжечтатошде нучтекотьлаиабесчтон\n",
      "раунд: 11, лучший score: -1373.2944259886972\n",
      " власйусйаман стерыолитушсаласпекнастерыолитушсн двнсьсцнежесвеегэ таясденерушсл ждеспреканонисвдер \n",
      "раунд: 12, лучший score: -1349.4743584182118\n",
      " влесяьсяечен стордалитьъселескомнестордалитьъсн пвнсусцногосвоойэ теыспонорьъсл гпоскроменанисвпор \n",
      "раунд: 13, лучший score: -1384.3394805436612\n",
      "нйилодродлялсноеваь имерголилотвыслоеваь имергоснпйсобоъсвувойввзэнелкопвсваргоинупвотавылс смойпван\n",
      "раунд: 14, лучший score: -1412.2598102878744\n",
      " нелризриляло ратчждеказпрлелрэтволратчждеказпро унорърготстрнттым альрутотчзпре сутрэчтвлодокрнутч \n",
      "раунд: 15, лучший score: -1344.7915198768537\n",
      "овниеруеридитоел сканылужеиниеь гтиел сканылужетойвтеъеэт м ев  пболичей т суженомй еьс гитатыевй со\n",
      "раунд: 16, лучший score: -1251.7759223270682\n",
      "евли сь сичине торкалэтьй или помни торкалэтьй недвн у жного вообыетия донорьй легдо проминанэ вдоре\n",
      "раунд: 17, лучший score: -1377.4340646038315\n",
      " онаткэтказас твелъинывэчтанатьедсатвелъинывэчтс ростутцсепетоеемх ваятреселэчтн претьледасисыторел \n",
      "раунд: 18, лучший score: -1383.6526150842647\n",
      "нятоегпегодовнес иматыспреотоей квоес иматыспревнлявеьежв у ея  чънсошел в ипретнул ейи ковавыеял ин\n",
      "раунд: 19, лучший score: -1234.8310383392952\n",
      "если вы вимите нордальный или почти нордальный текст у этого соожшения который легко прочитать скоре\n",
      "раунд: 20, лучший score: -1421.2310574878175\n",
      "нко елчел э тнеасибыорачже о евсят еасибыорачжетнъктемещтсусекссьйна деъстсичжеонуъсевися тытрекъсин\n",
      "лучший score: -1234.8310383392952\n",
      "если вы вимите нордальный или почти нордальный текст у этого соожшения который легко прочитать скоре\n",
      "CPU times: user 2min 3s, sys: 27.9 ms, total: 2min 3s\n",
      "Wall time: 2min 3s\n"
     ]
    }
   ],
   "source": [
    "%%time\n",
    "best_bigram_state, best_bigram_score = MCMC(\n",
    "    ciphered_text, \n",
    "    russian_alphabet, \n",
    "    russian_bigrams, \n",
    "    karenina_bigram_probs, \n",
    "    steps=10000, \n",
    "    rounds=20\n",
    ")"
   ]
  },
  {
   "cell_type": "code",
   "execution_count": 936,
   "metadata": {},
   "outputs": [
    {
     "data": {
      "text/plain": [
       "'если вы вимите нордальный или почти нордальный текст у этого соожшения который легко прочитать скорее всего вы все смелали правильно и получите даксидальный жалл за послемнее четвертое замание курса ботя конечно я ничего не ожешаю'"
      ]
     },
     "execution_count": 936,
     "metadata": {},
     "output_type": "execute_result"
    }
   ],
   "source": [
    "decrypt_text_by_sample(ciphered_text, best_bigram_state)"
   ]
  },
  {
   "cell_type": "code",
   "execution_count": 809,
   "metadata": {},
   "outputs": [],
   "source": [
    "true_text = \"если вы видите нормальный или почти нормальный текст у этого сообщения который легко прочитать скорее всего вы все сделали правильно и получите максимальный балл за последнее четвертое задание курса хотя конечно я ничего не обещаю\""
   ]
  },
  {
   "cell_type": "code",
   "execution_count": 937,
   "metadata": {},
   "outputs": [
    {
     "data": {
      "text/plain": [
       "0.9391304347826087"
      ]
     },
     "execution_count": 937,
     "metadata": {},
     "output_type": "execute_result"
    }
   ],
   "source": [
    "accuracy(decrypt_text_by_sample(ciphered_text, best_bigram_state), true_text)"
   ]
  },
  {
   "cell_type": "markdown",
   "metadata": {},
   "source": [
    "# Задание 5\n",
    "\n",
    "Бонус: а что если от биграмм перейти к триграммам (тройкам букв) или даже больше? Улучшатся ли результаты? Когда улучшатся, а когда нет? Чтобы ответить на этот вопрос эмпирически, уже может понадобиться погенерировать много тестовых перестановок и последить за метриками, глазами может быть и не видно."
   ]
  },
  {
   "cell_type": "code",
   "execution_count": 772,
   "metadata": {},
   "outputs": [],
   "source": [
    "def count_n_gram_freq(text, n_grams, n=2):\n",
    "    text_cnt = Counter()\n",
    "    for text_idx in range(len(text) - n):\n",
    "        if text[text_idx: text_idx + n] in n_grams:\n",
    "            text_cnt[text[text_idx: text_idx + n]] += 1\n",
    "    return sorted(text_cnt.items(), key=lambda x: x[1], reverse=True)"
   ]
  },
  {
   "cell_type": "code",
   "execution_count": 757,
   "metadata": {},
   "outputs": [],
   "source": [
    "def create_ngrams(alphabet, n):\n",
    "    return [''.join(x) for x in list(itertools.product(*[alphabet for _ in range(n)]))]"
   ]
  },
  {
   "cell_type": "code",
   "execution_count": 758,
   "metadata": {},
   "outputs": [],
   "source": [
    "russian_trigrams = create_ngrams(russian_alphabet, 3)"
   ]
  },
  {
   "cell_type": "code",
   "execution_count": 799,
   "metadata": {},
   "outputs": [],
   "source": [
    "karenina_trigram_cnt = count_n_gram_freq(karenina, russian_trigrams, n=3)\n",
    "karenina_trigram_probs = n_gram_probs_smooth(karenina_trigram_cnt)"
   ]
  },
  {
   "cell_type": "code",
   "execution_count": 788,
   "metadata": {},
   "outputs": [],
   "source": [
    "war_and_peace_trigram_cnt = count_n_gram_freq(war_and_peace, russian_trigrams, n=3)"
   ]
  },
  {
   "cell_type": "code",
   "execution_count": 789,
   "metadata": {},
   "outputs": [],
   "source": [
    "war_and_peace_trigram_probs = n_gram_probs_smooth(war_and_peace_trigram_cnt)"
   ]
  },
  {
   "cell_type": "code",
   "execution_count": 938,
   "metadata": {},
   "outputs": [
    {
     "name": "stdout",
     "output_type": "stream",
     "text": [
      "раунд: 1, лучший score: -2132.7546890180374\n",
      "со итвнтвичийстелька деняти итылшйителька денятйсмойтбтхйлплтоллцзсеифтмлйльнят спмлтыьлшийайдтомльс\n",
      "раунд: 2, лучший score: -2065.453204307563\n",
      " лстояуоятпти орначескруготстожнйиторначескругои длиохофинзнолнным ртводнинаугос здножанйтиеиколдна \n",
      "раунд: 3, лучший score: -2039.0898925510228\n",
      "рдатобсобтыткрои узналиспотатом шктои узналиспокредкогоък ь од  чэритвое к успоарье ому шткнклоде ур\n",
      "раунд: 4, лучший score: -2099.9485766780062\n",
      "еуматвотвачаяетр нэымпростамати кяатр нэымпростяеьуятгтбя л ту  дзеражть я ностмель тин каяыяптуь не\n",
      "раунд: 5, лучший score: -2071.3458154694417\n",
      "не кочпочкъкзностами вспрок койтжзкостами вспрозныезобоьзтутоеттдщнсклоытзтапро нуытойатжкзизвоеытан\n",
      "раунд: 6, лучший score: -2095.048351619545\n",
      "рговедуедвиваре сльной ужевовексыаве сльной ужеаршгаебечасэсегсстяр вмешсаслужеорэшсеклсыванайегшслр\n",
      "раунд: 7, лучший score: -2062.6597910850473\n",
      "недрошаошрзрином кьгдумалордров пиром кьгдумалоинтеиобожи я ое  сынмрхот и калоднят овк пригиуоет кн\n",
      "раунд: 8, лучший score: -2043.0994901082133\n",
      "нтелодходляланос упрексхцолелом залос упрексхцоанйтаощожа и от  вчнслгой а ухцоений ому зларакотй ун\n",
      "раунд: 9, лучший score: -1766.5512703353127\n",
      "если ву видите нормальную или почти нормальную текст ж этого сообщения которую легко прочитать скоре\n",
      "раунд: 10, лучший score: -2160.1236454674217\n",
      "сло манма и всмещжчтобеным о мущяв мещжчтобенымвсклвмдмювщьщмлщщэцсе пмкщвщжнымоськщмужщя втвбмлкщжс\n",
      "раунд: 11, лучший score: -1742.7463664428424\n",
      "если вы видите нормальный или почти нормальный текст у этого сообщения который легко прочитать скоре\n",
      "раунд: 12, лучший score: -1730.683854057061\n",
      "если вы видите нормальный или почти нормальный текст у этого сообщения который легко прочитать скоре\n",
      "раунд: 13, лучший score: -2137.5999628580494\n",
      "синоерьерого седвыханпдьшеоноеэвл оедвыханпдьше сти ещей взвеиввжксдочетв выьшенсзтвеэывло а пеитвыс\n",
      "раунд: 14, лучший score: -2087.880312686956\n",
      " милсктсклзло саняюдиватьслилсжныолсаняюдиватьсо емосбсрончнсмннуг алшсенонятьси ченсжянылодовсменя \n",
      "раунд: 15, лучший score: -2107.4936692829383\n",
      "сх акъякъазанскредли пряфка акоетнакредли пряфкнсчхнкэкыневекхеемусраькченедяфк свчекодетанинпкхчедс\n",
      "раунд: 16, лучший score: -2122.6655921291795\n",
      "вигтнжснжтзтовна думгласюнтгтне котна думгласюновйионяншо ы ни  прватчнй о дсюнгвый нед ктомолний дв\n",
      "раунд: 17, лучший score: -2056.812537933963\n",
      "ткадобыобдщдетон углавныходадом седон углавныхоетйкеоьоже и ок  чштндрой е уыхоатий ому сделевокй ут\n",
      "раунд: 18, лучший score: -2080.0804582990404\n",
      "нровачкачвьвина тщздом кфавоваютяива тщздом кфаинериагашитстарттжын влаетитщкфаонсетающтявидимаретщн\n",
      "раунд: 19, лучший score: -2138.967516835919\n",
      "сла ейчей к всеиномыаричше а егнув еиномыаричшевсжлведеьвнтнелннщфси пежнвночшеастжнегону выврелжнос\n",
      "раунд: 20, лучший score: -2101.0089253370747\n",
      "ндетазуазтятина кьпрей уматеталкоита кьпрей умаиншдиагажикскадккюън твашкикьумаенсшкалькотирийадшкьн\n",
      "лучший score: -1730.683854057061\n",
      "если вы видите нормальный или почти нормальный текст у этого сообщения который легко прочитать скоре\n",
      "CPU times: user 2min 9s, sys: 63.9 ms, total: 2min 9s\n",
      "Wall time: 2min 9s\n"
     ]
    }
   ],
   "source": [
    "%%time\n",
    "best_trigram_state, best_trigram_score = MCMC(\n",
    "    ciphered_text,\n",
    "    russian_alphabet,\n",
    "    russian_trigrams,\n",
    "    karenina_trigram_probs,\n",
    "    n=3,\n",
    "    steps=10000,\n",
    "    rounds=20\n",
    ")"
   ]
  },
  {
   "cell_type": "code",
   "execution_count": 939,
   "metadata": {},
   "outputs": [
    {
     "data": {
      "text/plain": [
       "'если вы видите нормальный или почти нормальный текст у этого сообщения который легко прочитать скорее всего вы все сделали правильно и получите максимальный балл за последнее четвертое задание курса хотя конечно я ничего не обещац'"
      ]
     },
     "execution_count": 939,
     "metadata": {},
     "output_type": "execute_result"
    }
   ],
   "source": [
    "decrypt_text_by_sample(ciphered_text, best_trigram_state)"
   ]
  },
  {
   "cell_type": "code",
   "execution_count": 940,
   "metadata": {},
   "outputs": [
    {
     "data": {
      "text/plain": [
       "0.9956521739130435"
      ]
     },
     "execution_count": 940,
     "metadata": {},
     "output_type": "execute_result"
    }
   ],
   "source": [
    "accuracy(decrypt_text_by_sample(ciphered_text, best_trigram_state), true_text)"
   ]
  },
  {
   "cell_type": "markdown",
   "metadata": {},
   "source": [
    "Качество выросло, ошибка только в одной букве.\n",
    "\n",
    "Посмотрим как изменится качество на первом тестовом тексте. Качество для биграмм:"
   ]
  },
  {
   "cell_type": "code",
   "execution_count": 941,
   "metadata": {},
   "outputs": [
    {
     "data": {
      "text/plain": [
       "0.988621997471555"
      ]
     },
     "execution_count": 941,
     "metadata": {},
     "output_type": "execute_result"
    }
   ],
   "source": [
    "accuracy(decrypt_text_by_sample(cipher_text, best_bigram_test_state), test_text)"
   ]
  },
  {
   "cell_type": "code",
   "execution_count": 942,
   "metadata": {},
   "outputs": [
    {
     "name": "stdout",
     "output_type": "stream",
     "text": [
      "раунд: 1, лучший score: -6092.375785541183\n",
      "скопули захватили восемь дней назад и джули мао наконею приготовилась умеретьчтобы дойти до точки ей\n",
      "раунд: 2, лучший score: -7272.993373732416\n",
      "же мзакоглывлякаков жтднойстрослглйокойщзакодл осле стхомику я вкалжноздтитянбя чэой рякой оя бекотр\n",
      "раунд: 3, лучший score: -7580.160229619921\n",
      "бвопшиеся гк леиескобрьщснтруст я нсеснжшиесь ост вотрфспйемолокеи бщсшьрйрлщалодъсноулеснослоавесру\n",
      "раунд: 4, лучший score: -7437.40124961846\n",
      "свндзалой ьт жлалотнсрчпомергое й моломузалоч ное внерщодилынжнтла спозчриржпяжнбкомнгжломножнявлорг\n",
      "раунд: 5, лучший score: -6091.525868201964\n",
      "скопули захватили восемь дней назад и джули мао наконец приготовилась умеретьчтобы дойти до точки ей\n",
      "раунд: 6, лучший score: -7576.1177623508665\n",
      "аятспониышщлшвнонилта гриче киешышчиничьпонигштиешяте бисунжтвтлношарипг у врмвтхйичтквничтивтмяни к\n",
      "раунд: 7, лучший score: -6091.525868201964\n",
      "скопули захватили восемь дней назад и джули мао наконец приготовилась умеретьчтобы дойти до точки ей\n",
      "раунд: 8, лучший score: -6091.525868201964\n",
      "скопули захватили восемь дней назад и джули мао наконец приготовилась умеретьчтобы дойти до точки ей\n",
      "раунд: 9, лучший score: -6091.525868201964\n",
      "скопули захватили восемь дней назад и джули мао наконец приготовилась умеретьчтобы дойти до точки ей\n",
      "раунд: 10, лучший score: -7565.936471866654\n",
      "оърблстнпвуиветстниро дмнжа знавпвжнтнжьлстндврнавъра энбктшреритсвомнлд к емыерхянжрзетнжрнерыътн з\n",
      "лучший score: -6091.525868201964\n",
      "скопули захватили восемь дней назад и джули мао наконец приготовилась умеретьчтобы дойти до точки ей\n",
      "CPU times: user 3min 40s, sys: 39.8 ms, total: 3min 40s\n",
      "Wall time: 3min 40s\n"
     ]
    }
   ],
   "source": [
    "%%time\n",
    "best_trigram_test_state, best_trigram_test_score = MCMC(\n",
    "    cipher_text,\n",
    "    russian_alphabet,\n",
    "    russian_trigrams,\n",
    "    karenina_trigram_probs,\n",
    "    n=3,\n",
    "    steps=10000,\n",
    "    rounds=10\n",
    ")"
   ]
  },
  {
   "cell_type": "code",
   "execution_count": 943,
   "metadata": {},
   "outputs": [
    {
     "data": {
      "text/plain": [
       "'скопули захватили восемь дней назад и джули мао наконец приготовилась умеретьчтобы дойти до точки ей понадобились все восемь дней заключения в шкаъукладовой первые два она провела без движения в уверенности что вооруженные люди кинувшие ее сюда не шутили несколько часов сразу после абордажа корабль на который ее перевели не включал тяги так что она плавала в шкаъу тихонько отталкиваясь от стен и скаъандров разделявших с ней тесное пространство когда корабль пришел в движение тяга придала вес ее телу после этого она тихо стояла пока судорога не свела ноги потом села свернувшись в позе эмбриона она мочилась в тренировочные штаны не беспокоясь ни о теплой фиплюфей влаге ни о запахе и думая только как бы не поскользнуться на мокром пятне оставшемся на полу шуметь было нельзя застрелят'"
      ]
     },
     "execution_count": 943,
     "metadata": {},
     "output_type": "execute_result"
    }
   ],
   "source": [
    "decrypt_text_by_sample(cipher_text, best_trigram_test_state)"
   ]
  },
  {
   "cell_type": "code",
   "execution_count": 944,
   "metadata": {},
   "outputs": [
    {
     "data": {
      "text/plain": [
       "0.9936788874841972"
      ]
     },
     "execution_count": 944,
     "metadata": {},
     "output_type": "execute_result"
    }
   ],
   "source": [
    "accuracy(decrypt_text_by_sample(cipher_text, best_trigram_test_state), test_text)"
   ]
  },
  {
   "cell_type": "markdown",
   "metadata": {},
   "source": [
    "Для триграмм качество выросло."
   ]
  },
  {
   "cell_type": "markdown",
   "metadata": {},
   "source": [
    "Теперь возьмем какой нибудь другой тескт, меньшего размера:"
   ]
  },
  {
   "cell_type": "code",
   "execution_count": 899,
   "metadata": {},
   "outputs": [],
   "source": [
    "with open('data/small.txt') as fin:\n",
    "    small_text = fin.read()"
   ]
  },
  {
   "cell_type": "code",
   "execution_count": 900,
   "metadata": {},
   "outputs": [],
   "source": [
    "small_text = ''.join([c for c in small_text.lower() if c in russian_alphabet])"
   ]
  },
  {
   "cell_type": "code",
   "execution_count": 901,
   "metadata": {},
   "outputs": [
    {
     "data": {
      "text/plain": [
       "'молодой рыцарь повернулся к седому оруженосцу побитые морозом листья с шелестом пролетели мимо и конь ройса беспокойно шевельнулся'"
      ]
     },
     "execution_count": 901,
     "metadata": {},
     "output_type": "execute_result"
    }
   ],
   "source": [
    "small_text"
   ]
  },
  {
   "cell_type": "code",
   "execution_count": 902,
   "metadata": {},
   "outputs": [],
   "source": [
    "small_encrypted = encrypt_text(small_text, create_cipher_key(russian_alphabet))"
   ]
  },
  {
   "cell_type": "markdown",
   "metadata": {},
   "source": [
    "Сначала биграммы:"
   ]
  },
  {
   "cell_type": "code",
   "execution_count": 945,
   "metadata": {},
   "outputs": [
    {
     "name": "stdout",
     "output_type": "stream",
     "text": [
      "раунд: 1, лучший score: -1343.121100649966\n",
      "эызыаышуюгтьючуйыняюолзхпумухяаыэлуыюлсяоыхтлуйыжикгяуэыюыбыэузихкчпуху язяхкыэуйюызякязиуэиэыуиумыо\n",
      "раунд: 2, лучший score: -1343.121100649966\n",
      "ижюжежпатгщзтлабжоутнмюыкаэаыуежимажтмхунжыщмабжчвргуаижтжшжиаювырлкаыафуюуыржиабтжюуруюваивижаваэжн\n",
      "раунд: 3, лучший score: -1343.121100649966\n",
      "епцпвпачзм нзбчфпжлзьюцэъчщчэлвпеючпзюильпэ ючфпйтямлчепзпупечцтэябъчэчклцлэяпечфзпцлялцтчетепчтчщпь\n",
      "раунд: 4, лучший score: -1343.121100649966\n",
      "тзезызъэщйиьщгэвзюущчселпэрэлуызтсэзщсмучзлисэвзя фйуэтзщзцзтэе лфгпэлэхуеулфзтэвщзеуфуе эт тзэ эрзч\n",
      "раунд: 5, лучший score: -1343.121100649966\n",
      "есжсрсвтдаъндзтфсохдяужьйтбтьхрсеутсду хясьъутфсцимахтесдслсетжиьмзйтьтэхжхьмсетфдсжхмхжитеиеститбся\n",
      "раунд: 6, лучший score: -1343.121100649966\n",
      "пъдъмъоунефыншужъьцн гдсзулусцмъпгуънгюц ъсфгужърихецупънъйъпудисхшзусуацдцсхъпужнъдцхцдиупипъуиулъ \n",
      "раунд: 7, лучший score: -1343.121100649966\n",
      "орырирлаъфьэъха рбцъезышдакашцирозаръзщцершьза рчтюфцаорърнроаытшюхдашапцыцшюроа ърыцюцытаоторатакре\n",
      "раунд: 8, лучший score: -1343.121100649966\n",
      "ьгйгщгячнэхтндчигбрншцйылчъчырщгьцчгнцмршгыхцчигкфуэрчьгнг гьчйфыудлчычжрйрыугьчингйрурйфчьфьгчфчъгш\n",
      "раунд: 9, лучший score: -1343.121100649966\n",
      "ящбщсщхтпживпатзщолпе бйэтутйлсщя тщп флещйи тзщнюржлтящпщдщятбюйраэтйтклблйрщятзпщблрлбютяюящтютуще\n",
      "раунд: 10, лучший score: -1343.121100649966\n",
      "уеце епчътажъбчкеьяъылцщючмчщя еулчеълхяыещалчкервэтячуеъесеучцвщэбючщчняцящэеучкъецяэяцвчувуечвчмеы\n",
      "лучший score: -1343.121100649966\n",
      "эызыаышуюгтьючуйыняюолзхпумухяаыэлуыюлсяоыхтлуйыжикгяуэыюыбыэузихкчпуху язяхкыэуйюызякязиуэиэыуиумыо\n",
      "CPU times: user 1min 21s, sys: 15.9 ms, total: 1min 21s\n",
      "Wall time: 1min 21s\n"
     ]
    }
   ],
   "source": [
    "%%time\n",
    "best_bigram_small_state, best_bigram_small_score = MCMC(\n",
    "    small_encrypted,\n",
    "    russian_alphabet,\n",
    "    russian_bigrams,\n",
    "    karenina_bigram_probs,\n",
    "    n=3,\n",
    "    steps=20000,\n",
    "    rounds=10\n",
    ")"
   ]
  },
  {
   "cell_type": "code",
   "execution_count": 946,
   "metadata": {},
   "outputs": [
    {
     "data": {
      "text/plain": [
       "'эызыаышуюгтьючуйыняюолзхпумухяаыэлуыюлсяоыхтлуйыжикгяуэыюыбыэузихкчпуху язяхкыэуйюызякязиуэиэыуиумыочуюышхьужяхйымышоыу янязчолзхп'"
      ]
     },
     "execution_count": 946,
     "metadata": {},
     "output_type": "execute_result"
    }
   ],
   "source": [
    "decrypt_text_by_sample(small_encrypted, best_bigram_small_state)"
   ]
  },
  {
   "cell_type": "code",
   "execution_count": 947,
   "metadata": {},
   "outputs": [
    {
     "data": {
      "text/plain": [
       "0.038461538461538464"
      ]
     },
     "execution_count": 947,
     "metadata": {},
     "output_type": "execute_result"
    }
   ],
   "source": [
    "accuracy(decrypt_text_by_sample(small_encrypted, best_bigram_small_state), small_text)"
   ]
  },
  {
   "cell_type": "markdown",
   "metadata": {},
   "source": [
    "Попробуем триграммы:"
   ]
  },
  {
   "cell_type": "code",
   "execution_count": 948,
   "metadata": {},
   "outputs": [
    {
     "name": "stdout",
     "output_type": "stream",
     "text": [
      "раунд: 1, лучший score: -1117.7781839659674\n",
      "немечегосльшсповея сдкмтхорот ченкоеску детьковещаил онесебеноматипхотой м тиеновсем и маонанеоаоред\n",
      "раунд: 2, лучший score: -1125.3598237844203\n",
      "интнжно ахмйаь знбрасятел к ержния наяърснемя знгвдхр инаныни тведьл е пртредни зантрдртв ивин в кнс\n",
      "раунд: 3, лучший score: -1009.489518629742\n",
      "мологой рыъьра потернулся в сегому орубеносъу пожикые морошом лиская с делеском пролекели мимо и вон\n",
      "раунд: 4, лучший score: -1126.2872109551301\n",
      "онандня егфбез мнчкеываль и лкднов невшкынлфв мнутргк оненжно атлрзь л скаклрно менакркат отон т ины\n",
      "раунд: 5, лучший score: -1021.5684151046828\n",
      "малабав ршжерь кахорнулся з собаму аругонасжу кадитшо марачам листья с полостам кралотоли мима и зан\n",
      "раунд: 6, лучший score: -1127.3102929121073\n",
      "тиличисе кую жениго прлдшемедочитреи рыопидуренихавкоети изителадвжшедеболодвитен иловолаетатиеаемип\n",
      "раунд: 7, лучший score: -1064.653517382821\n",
      "таначас рыхмри кадерльной в оечать арьшелаохь капужые таразат нуожий о бенеожат кранежену тута у вал\n",
      "раунд: 8, лучший score: -993.3393415911594\n",
      "вологой рызхрь помернался к сегова ораженосза подитые воробов листья с челестов пролетели виво и кон\n",
      "раунд: 9, лучший score: -1051.791549738855\n",
      "нележей схгясь вечастолку д кажено есоматекго веризха несебен ликзьу к палакзен вселазали нине и дет\n",
      "раунд: 10, лучший score: -1132.5284025899175\n",
      "в к а пеифбдишем зниыскорелеона все исьны обсем чтйфнев и я вектойшреоегнкной веми кнйнктевтв етел ы\n",
      "лучший score: -993.3393415911594\n",
      "вологой рызхрь помернался к сегова ораженосза подитые воробов листья с челестов пролетели виво и кон\n",
      "CPU times: user 1min 13s, sys: 19.9 ms, total: 1min 13s\n",
      "Wall time: 1min 13s\n"
     ]
    }
   ],
   "source": [
    "%%time\n",
    "best_trigram_small_state, best_trigram_small_score = MCMC(\n",
    "    small_encrypted,\n",
    "    russian_alphabet,\n",
    "    russian_trigrams,\n",
    "    karenina_trigram_probs,\n",
    "    n=3,\n",
    "    steps=20000,\n",
    "    rounds=10\n",
    ")"
   ]
  },
  {
   "cell_type": "code",
   "execution_count": 949,
   "metadata": {},
   "outputs": [
    {
     "data": {
      "text/plain": [
       "'вологой рызхрь помернался к сегова ораженосза подитые воробов листья с челестов пролетели виво и конь ройсх деспокойно чемельнался'"
      ]
     },
     "execution_count": 949,
     "metadata": {},
     "output_type": "execute_result"
    }
   ],
   "source": [
    "decrypt_text_by_sample(small_encrypted, best_trigram_small_state)"
   ]
  },
  {
   "cell_type": "code",
   "execution_count": 950,
   "metadata": {},
   "outputs": [
    {
     "data": {
      "text/plain": [
       "0.8076923076923077"
      ]
     },
     "execution_count": 950,
     "metadata": {},
     "output_type": "execute_result"
    }
   ],
   "source": [
    "accuracy(decrypt_text_by_sample(small_encrypted, best_trigram_small_state), small_text)"
   ]
  },
  {
   "cell_type": "markdown",
   "metadata": {},
   "source": [
    "И наконец 4-граммы, только возьмем корпус поменьше из-за долгого подсчета частот."
   ]
  },
  {
   "cell_type": "code",
   "execution_count": 917,
   "metadata": {},
   "outputs": [
    {
     "name": "stdout",
     "output_type": "stream",
     "text": [
      "CPU times: user 1h 52min 13s, sys: 6.38 s, total: 1h 52min 20s\n",
      "Wall time: 1h 52min 19s\n"
     ]
    }
   ],
   "source": [
    "%%time\n",
    "russian_fourgrams = create_ngrams(russian_alphabet, 4)\n",
    "war_and_peace_fourgram_cnt = count_n_gram_freq(war_and_peace, russian_fourgrams, n=4)"
   ]
  },
  {
   "cell_type": "code",
   "execution_count": 918,
   "metadata": {},
   "outputs": [],
   "source": [
    "war_and_peace_fourgram_probs = n_gram_probs_smooth(war_and_peace_fourgram_cnt)"
   ]
  },
  {
   "cell_type": "code",
   "execution_count": 951,
   "metadata": {},
   "outputs": [
    {
     "name": "stdout",
     "output_type": "stream",
     "text": [
      "раунд: 1, лучший score: -1398.87358958633\n",
      "ладамас ныцьно заженкудтй в темалу анущекатцу запирые ланачал дитрой т бедетрал знадереди лила и вак\n",
      "раунд: 2, лучший score: -1489.4558327396733\n",
      "матазакехяпжхыерашихвот небе изамоеаходива поеральсяиемахагаметь сыне ещити самерхатиситьемьмаеьебав\n",
      "раунд: 3, лучший score: -1374.033112549329\n",
      "калабав ручюрь загорнился д собаки арихонасчи заметуо карафак лестья с полостак зралотоле кека е дан\n",
      "раунд: 4, лучший score: -1486.4870816247671\n",
      "ло обоженщфынчетоминая спересиболяеоняюиаосфяетойвкщиелоноголе вскчпеседи исколетно ики велвлоевероа\n",
      "раунд: 5, лучший score: -1547.7168652259766\n",
      "орурпржтвлюбвстаря ведумчтктм продтрвдз ермюдтарынил торврйротунмисчтмть у миротавру и унтонортнткре\n",
      "раунд: 6, лучший score: -1382.376069602435\n",
      "ларадам выняву качевгорсю з седало авошегасно кабитые лаважал ристую с перестал кваретери лила и заг\n",
      "раунд: 7, лучший score: -1250.667039788092\n",
      "молодой рыцьра почернулся к седому оруженосцу побитые морогом листая с велестом пролетели мимо и кон\n",
      "раунд: 8, лучший score: -1591.0112635483565\n",
      "инсненылажпбазлкньдарос глял дениолнаоцдрн полкнутвждлинанмнилст взгл людсд внилкансдвдстлитинлтлянр\n",
      "раунд: 9, лучший score: -1551.4477127986704\n",
      "ераркрмдолгйоздпри оставшдждв кретдроть срвгтдпрянул дерорбреданвузшдвды а вуредпора у анденерднджрс\n",
      "раунд: 10, лучший score: -1486.3763668705228\n",
      "тавабагспымщпуская провилсзси батосапой раимоскажены стападатсвеинулсись в инатскпав н вестетасесзар\n",
      "лучший score: -1250.667039788092\n",
      "молодой рыцьра почернулся к седому оруженосцу побитые морогом листая с велестом пролетели мимо и кон\n",
      "CPU times: user 1min 16s, sys: 27.9 ms, total: 1min 16s\n",
      "Wall time: 1min 16s\n"
     ]
    }
   ],
   "source": [
    "%%time\n",
    "best_fourgram_small_state, best_fourgram_small_score = MCMC(\n",
    "    small_encrypted,\n",
    "    russian_alphabet,\n",
    "    russian_fourgrams,\n",
    "    war_and_peace_fourgram_probs,\n",
    "    n=4,\n",
    "    steps=20000,\n",
    "    rounds=10\n",
    ")"
   ]
  },
  {
   "cell_type": "code",
   "execution_count": 952,
   "metadata": {},
   "outputs": [
    {
     "data": {
      "text/plain": [
       "'молодой рыцьра почернулся к седому оруженосцу побитые морогом листая с велестом пролетели мимо и кона ройсь беспокойно вечеланулся'"
      ]
     },
     "execution_count": 952,
     "metadata": {},
     "output_type": "execute_result"
    }
   ],
   "source": [
    "decrypt_text_by_sample(small_encrypted, best_fourgram_small_state)"
   ]
  },
  {
   "cell_type": "code",
   "execution_count": 953,
   "metadata": {},
   "outputs": [
    {
     "data": {
      "text/plain": [
       "0.9153846153846154"
      ]
     },
     "execution_count": 953,
     "metadata": {},
     "output_type": "execute_result"
    }
   ],
   "source": [
    "accuracy(decrypt_text_by_sample(small_encrypted, best_fourgram_small_state), small_text)"
   ]
  },
  {
   "cell_type": "markdown",
   "metadata": {},
   "source": [
    "Вывод: с увеличением количества символов в n-граммах качество растет, особенно это хорошо видно на текстах маленького размера."
   ]
  },
  {
   "cell_type": "markdown",
   "metadata": {},
   "source": [
    "# Задание 6\n",
    "\n",
    "Бонус: какие вы можете придумать применения для этой модели? Пляшущие человечки ведь не так часто встречаются в жизни (хотя встречаются! и это самое потрясающее во всей этой истории, но об этом я расскажу потом)."
   ]
  },
  {
   "cell_type": "markdown",
   "metadata": {},
   "source": [
    "Скорее всего, MCMC-сэмплирование можно применить в раскодировании ДНК, древних текстов утраченных языков."
   ]
  },
  {
   "cell_type": "code",
   "execution_count": null,
   "metadata": {},
   "outputs": [],
   "source": []
  }
 ],
 "metadata": {
  "kernelspec": {
   "display_name": "Python 3",
   "language": "python",
   "name": "python3"
  },
  "language_info": {
   "codemirror_mode": {
    "name": "ipython",
    "version": 3
   },
   "file_extension": ".py",
   "mimetype": "text/x-python",
   "name": "python",
   "nbconvert_exporter": "python",
   "pygments_lexer": "ipython3",
   "version": "3.8.5"
  }
 },
 "nbformat": 4,
 "nbformat_minor": 4
}
