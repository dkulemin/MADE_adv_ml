{
 "cells": [
  {
   "cell_type": "code",
   "execution_count": 1,
   "metadata": {},
   "outputs": [],
   "source": [
    "import random\n",
    "import itertools\n",
    "import numpy as np\n",
    "from tqdm import tqdm\n",
    "from collections import Counter"
   ]
  },
  {
   "cell_type": "markdown",
   "metadata": {},
   "source": [
    "# Задание 1\n",
    "\n",
    "Реализуйте базовый частотный метод по Шерлоку Холмсу:\n",
    "\n",
    "* подсчитайте частоты букв по корпусам (пунктуацию и капитализацию можно просто опустить, а вот пробелы лучше оставить);\n",
    "* возьмите какие-нибудь тестовые тексты (нужно взять по меньшей мере 2-3 предложения, иначе вряд ли сработает), зашифруйте их посредством случайной перестановки символов;\n",
    "* расшифруйте их таким частотным методом.\n"
   ]
  },
  {
   "cell_type": "code",
   "execution_count": 2,
   "metadata": {},
   "outputs": [],
   "source": [
    "def preprocess_text(text, alphabet):\n",
    "    result = \"\"\n",
    "    text = text.lower()\n",
    "    for elem in text:\n",
    "        if elem in alphabet:\n",
    "            result += elem\n",
    "    return result"
   ]
  },
  {
   "cell_type": "code",
   "execution_count": 3,
   "metadata": {},
   "outputs": [],
   "source": [
    "def count_char_freq(text, alphabet):\n",
    "    text_cnt = Counter()\n",
    "    for text_char in text:\n",
    "        if text_char in alphabet:\n",
    "            text_cnt[text_char] += 1\n",
    "    return sorted(text_cnt.items(), key=lambda x: x[1], reverse=True)"
   ]
  },
  {
   "cell_type": "code",
   "execution_count": 4,
   "metadata": {},
   "outputs": [],
   "source": [
    "with open(\"corpora/AnnaKarenina.txt\") as fin:\n",
    "    karenina = fin.read()\n",
    "    \n",
    "with open(\"corpora/WarAndPeace.txt\") as fin:\n",
    "    war_and_peace = fin.read()\n",
    "    \n",
    "with open(\"corpora/WarAndPeaceEng.txt\") as fin:\n",
    "    war_and_peace_eng = fin.read()"
   ]
  },
  {
   "cell_type": "code",
   "execution_count": 5,
   "metadata": {},
   "outputs": [],
   "source": [
    "russian_alphabet = [' ']  + [chr(x) for x in range(1072, 1104)]\n",
    "english_alphabet = [' ']  + [chr(x) for x in range(97, 123)]"
   ]
  },
  {
   "cell_type": "code",
   "execution_count": 6,
   "metadata": {},
   "outputs": [],
   "source": [
    "karenina = preprocess_text(karenina, russian_alphabet)\n",
    "war_and_peace = preprocess_text(war_and_peace, russian_alphabet)\n",
    "war_and_peace_eng = preprocess_text(war_and_peace_eng, english_alphabet)"
   ]
  },
  {
   "cell_type": "code",
   "execution_count": 7,
   "metadata": {},
   "outputs": [],
   "source": [
    "karenina_cnt = count_char_freq(karenina, russian_alphabet)\n",
    "war_and_peace_cnt = count_char_freq(war_and_peace, russian_alphabet)\n",
    "war_and_peace_eng_cnt = count_char_freq(war_and_peace_eng, english_alphabet)"
   ]
  },
  {
   "cell_type": "code",
   "execution_count": 8,
   "metadata": {},
   "outputs": [],
   "source": [
    "with open('data/test.txt') as fin:\n",
    "    test_text = fin.read()"
   ]
  },
  {
   "cell_type": "code",
   "execution_count": 9,
   "metadata": {},
   "outputs": [],
   "source": [
    "test_text = ''.join([c for c in test_text.lower() if c in russian_alphabet])"
   ]
  },
  {
   "cell_type": "code",
   "execution_count": 10,
   "metadata": {},
   "outputs": [
    {
     "data": {
      "text/plain": [
       "'скопули захватили восемь дней назад и джули мао наконец приготовилась умеретьчтобы дойти до точки ей понадобились все восемь дней заключения в шкафукладовой первые два она провела без движения в уверенности что вооруженные люди кинувшие ее сюда не шутили несколько часов сразу после абордажа корабль на который ее перевели не включал тяги так что она плавала в шкафу тихонько отталкиваясь от стен и скафандров разделявших с ней тесное пространство когда корабль пришел в движение тяга придала вес ее телу после этого она тихо стояла пока судорога не свела ноги потом села свернувшись в позе эмбриона она мочилась в тренировочные штаны не беспокоясь ни о теплой щиплющей влаге ни о запахе и думая только как бы не поскользнуться на мокром пятне оставшемся на полу шуметь было нельзя застрелят'"
      ]
     },
     "execution_count": 10,
     "metadata": {},
     "output_type": "execute_result"
    }
   ],
   "source": [
    "test_text"
   ]
  },
  {
   "cell_type": "code",
   "execution_count": 11,
   "metadata": {},
   "outputs": [],
   "source": [
    "def create_cipher_key(seq):\n",
    "    tmp_seq = seq.copy()\n",
    "    random.shuffle(tmp_seq)\n",
    "    return dict(zip(seq, tmp_seq))"
   ]
  },
  {
   "cell_type": "code",
   "execution_count": 12,
   "metadata": {},
   "outputs": [],
   "source": [
    "def encrypt_text(text, cipher):\n",
    "    result = \"\"\n",
    "    for elem in text:\n",
    "        result += cipher[elem]\n",
    "    return result"
   ]
  },
  {
   "cell_type": "code",
   "execution_count": 13,
   "metadata": {},
   "outputs": [],
   "source": [
    "def decrypt_text_by_freq(cipher_text, freq_cnt, alphabet):\n",
    "    result = \"\"\n",
    "    cipher_freq = count_char_freq(cipher_text, alphabet)\n",
    "    key = {enc_char: dec_char for (enc_char, _), (dec_char, _) in zip(cipher_freq, freq_cnt)}\n",
    "    for elem in cipher_text:\n",
    "        result += key[elem]\n",
    "    return result"
   ]
  },
  {
   "cell_type": "code",
   "execution_count": 14,
   "metadata": {},
   "outputs": [],
   "source": [
    "cipher_key = create_cipher_key(russian_alphabet)"
   ]
  },
  {
   "cell_type": "code",
   "execution_count": 15,
   "metadata": {},
   "outputs": [
    {
     "data": {
      "text/plain": [
       "'еиунщлзкдэштэфзлзктуехбпкяцхгкцэдэякзкямщлзкбэукцэиуцх кнйзыуфутзлэепкщбхйхфпафучвкяугфзкяукфуаизкхгкнуцэяучзлзепктехктуехбпкяцхгкдэилсахцзокткьиэющилэяутугкнхйтвхкятэкуцэкнйутхлэкчхдкятзмхцзокткщтхйхццуефзкафуктууйщмхццвхклсязкизцщтьзхкххкесяэкцхкьщфзлзкцхеиулпиукаэеуткейэдщкнуелхкэчуйяэмэкиуйэчлпкцэкиуфуйвгкххкнхйхтхлзкцхктилсаэлкфоызкфэикафукуцэкнлэтэлэкткьиэющкфзшуцпиукуффэлизтэоепкуфкефхцкзкеиэюэцяйуткйэдяхлотьзшкекцхгкфхецухкнйуефйэцефтукиуыяэкиуйэчлпкнйзьхлкткятзмхцзхкфоыэкнйзяэлэктхекххкфхлщкнуелхкрфуыукуцэкфзшукефуолэкнуиэкещяуйуыэкцхкетхлэкцуызкнуфубкехлэкетхйцщтьзепкткнудхкрбчйзуцэкуцэкбуазлэепкткфйхцзйутуацвхкьфэцвкцхкчхенуиуоепкцзкукфхнлугкъзнлсъхгктлэыхкцзкукдэнэшхкзкящбэокфулпиукиэикчвкцхкнуеиулпдцщфпеокцэкбуийубкнофцхкуефэтьхбеокцэкнулщкьщбхфпкчвлукцхлпдокдэефйхлоф'"
      ]
     },
     "execution_count": 15,
     "metadata": {},
     "output_type": "execute_result"
    }
   ],
   "source": [
    "cipher_text = encrypt_text(test_text, cipher_key)\n",
    "cipher_text"
   ]
  },
  {
   "cell_type": "code",
   "execution_count": 16,
   "metadata": {},
   "outputs": [
    {
     "data": {
      "text/plain": [
       "'лродпти ыашвасити волеьу мнеч наыам и мхпти ьао наронеф дкижосовиталу пьекесузсогй мочси мо созри еч донамогитилу вле волеьу мнеч ыартюзения в браэпртамовоч деквйе мва она дковета геы мвихения в пвекеннолси зсо воокпхеннйе тюми ринпвбие ее люма не бпсити нелротуро залов лкаып долте агокмаха рокагту на росокйч ее декевети не вртюзат сяжи сар зсо она дтавата в браэп сишонуро оссатриваялу ос лсен и лраэанмков каыметявбиш л неч селное дколсканлсво рожма рокагту дкибет в мвихение сяжа дкимата вел ее сетп долте щсожо она сишо лсоята дора лпмокожа не лвета ножи досоь лета лвекнпвбилу в доые щьгкиона она ьозиталу в скениковознйе бсанй не гелдороялу ни о седточ цидтюцеч втаже ни о ыадаше и мпьая сотуро рар гй не долротуынпсуля на ьоркоь дясне олсавбеьля на дотп бпьесу гйто нетуыя ыалскетяс'"
      ]
     },
     "execution_count": 16,
     "metadata": {},
     "output_type": "execute_result"
    }
   ],
   "source": [
    "karenina_freq_test = decrypt_text_by_freq(cipher_text, karenina_cnt, russian_alphabet)\n",
    "karenina_freq_test"
   ]
  },
  {
   "cell_type": "code",
   "execution_count": 17,
   "metadata": {},
   "outputs": [
    {
     "data": {
      "text/plain": [
       "'лродптн ьешвеснтн волагу миаб иеьем н мхптн гео иероиаф дкнйосовнтелу пгакасучсоыж мобсн мо сочрн аб доиемоынтнлу вла волагу миаб ьертючаиня в зрецпртемовоб даквжа мве оие дковате ыаь мвнхаиня в пвакаииолсн чсо воокпхаиижа тюмн рнипвзна аа люме иа зпснтн иалротуро челов лкеьп долта еыокмехе рокеыту ие росокжб аа дакаватн иа вртючет сяйн сер чсо оие дтевете в зрецп сншоиуро оссетрнвеялу ос лсаи н лрецеимков кеьматявзнш л иаб салиоа дколскеилсво ройме рокеыту дкнзат в мвнхаина сяйе дкнмете вал аа сатп долта эсойо оие сншо лсояте доре лпмокойе иа лвате иойн досог лате лвакипвзнлу в доьа эгыкноие оие гочнтелу в скаинковочижа зсеиж иа ыалдороялу ин о садтоб щндтющаб втейа ин о ьедеша н мпгея сотуро рер ыж иа долротуьипсуля ие горког дясиа олсевзагля ие дотп зпгасу ыжто иатуья ьелскатяс'"
      ]
     },
     "execution_count": 17,
     "metadata": {},
     "output_type": "execute_result"
    }
   ],
   "source": [
    "war_and_peace_freq_test = decrypt_text_by_freq(cipher_text, war_and_peace_cnt, russian_alphabet)\n",
    "war_and_peace_freq_test"
   ]
  },
  {
   "cell_type": "markdown",
   "metadata": {},
   "source": [
    "# Задание 2\n",
    "\n",
    "Вряд ли в результате получилась такая уж хорошая расшифровка, разве что если вы брали в качестве тестовых данных целые рассказы. Но и Шерлок Холмс был не так уж прост: после буквы E, которая действительно выделяется частотой, дальше он анализировал уже конкретные слова и пытался угадать, какими они могли бы быть. Я не знаю, как запрограммировать такой интуитивный анализ, так что давайте просто сделаем следующий логический шаг:\n",
    "* подсчитайте частоты биграмм (т.е. пар последовательных букв) по корпусам;\n",
    "* проведите тестирование аналогично п.1, но при помощи биграмм.\n"
   ]
  },
  {
   "cell_type": "code",
   "execution_count": 18,
   "metadata": {},
   "outputs": [],
   "source": [
    "def create_ngrams(alphabet, n):\n",
    "    return [''.join(x) for x in list(itertools.product(*[alphabet for _ in range(n)]))]"
   ]
  },
  {
   "cell_type": "code",
   "execution_count": 19,
   "metadata": {},
   "outputs": [],
   "source": [
    "def count_bigram_freq(text, bigrams):\n",
    "    text_cnt = Counter()\n",
    "    for text_idx in range(len(text)):\n",
    "        if text[text_idx: text_idx + 2] in bigrams:\n",
    "            text_cnt[text[text_idx: text_idx + 2]] += 1\n",
    "    return sorted(text_cnt.items(), key=lambda x: x[1], reverse=True)"
   ]
  },
  {
   "cell_type": "code",
   "execution_count": 20,
   "metadata": {},
   "outputs": [],
   "source": [
    "def decrypt_text_by_bigram_freq(cipher_text, bigram_cnt, bigrams):\n",
    "    result = \"\"\n",
    "    cipher_freq = count_bigram_freq(cipher_text, bigrams)\n",
    "    key = {enc_char: dec_char for (enc_char, _), (dec_char, _) in zip(cipher_freq, bigram_cnt)}\n",
    "    for text_idx in range(0, len(cipher_text), 2):\n",
    "        if cipher_text[text_idx: text_idx + 2] in bigrams:\n",
    "            result += key[cipher_text[text_idx: text_idx + 2]]\n",
    "    return result"
   ]
  },
  {
   "cell_type": "code",
   "execution_count": 21,
   "metadata": {},
   "outputs": [],
   "source": [
    "def count_right(text, decrypted_text):\n",
    "    result = 0\n",
    "    for u, v in zip(text[:len(decrypted_text)], decrypted_text):\n",
    "        result += 1 if u == v else 0\n",
    "    return result"
   ]
  },
  {
   "cell_type": "code",
   "execution_count": 22,
   "metadata": {},
   "outputs": [],
   "source": [
    "russian_bigrams = create_ngrams(russian_alphabet, 2)"
   ]
  },
  {
   "cell_type": "code",
   "execution_count": 23,
   "metadata": {},
   "outputs": [],
   "source": [
    "karenina_bigram_cnt = count_bigram_freq(karenina, russian_bigrams)"
   ]
  },
  {
   "cell_type": "code",
   "execution_count": 24,
   "metadata": {},
   "outputs": [
    {
     "data": {
      "text/plain": [
       "'оризмои отсаеку и овза ане поня отияи лямои ся вя то почтьикпрену ле овеосс окстакнеы лане вст хи  ча пори эу ки оудо овза ане понотинэткось с молмуинриены а остыо жее пое тьен ке ивкужетвкось сннроломиголатист сжакремми зепыли быдоте ж ео ихта но сллака н  то бтотилеень ваеба гомамнвношнье товаед оя рапрм ьк ео х лорока но ыйерейнутрамналитисталя а  ин  и с молмунаобполь впрогезтуар далымникосеь олопгдво твааж ктнегврча понетвшнса вониваутае втоозе товаед отьус к снет емл о тр яа рета и с   ео етада гомаеестмеаля наоб вниис иа ю е ывелво я но пе ке  рама прдиь  ке пеосдотеки о тнод ееснрепое пое боеш и д сналол воовчу з могит но ившаю ис д ни  ветвсы учрьерахонаюгао л алв ьсаво и ялсяй ст бторалискат па гото бсмевицй я чтю вобезвбло гоогтедеич не ноад мвес  оакзн н кожй отнилоше'"
      ]
     },
     "execution_count": 24,
     "metadata": {},
     "output_type": "execute_result"
    }
   ],
   "source": [
    "karenina_bigram_test = decrypt_text_by_bigram_freq(cipher_text, karenina_bigram_cnt, russian_bigrams)\n",
    "karenina_bigram_test"
   ]
  },
  {
   "cell_type": "code",
   "execution_count": 25,
   "metadata": {},
   "outputs": [
    {
     "name": "stdout",
     "output_type": "stream",
     "text": [
      "Число правильно предсказанных букв с биграммами: 111\n"
     ]
    }
   ],
   "source": [
    "print(f'Число правильно предсказанных букв с биграммами: {count_right(test_text, karenina_bigram_test)}')"
   ]
  },
  {
   "cell_type": "code",
   "execution_count": 26,
   "metadata": {},
   "outputs": [
    {
     "name": "stdout",
     "output_type": "stream",
     "text": [
      "Число правильно предсказанных букв частотным методом: 458\n"
     ]
    }
   ],
   "source": [
    "print(f'Число правильно предсказанных букв частотным методом: {count_right(test_text, karenina_freq_test)}')"
   ]
  },
  {
   "cell_type": "markdown",
   "metadata": {},
   "source": [
    "Результат при использовании биграмм оказался хуже, чем частотный метод, так как вариаций биграмм значительно больше. Возможно результат был бы лучше при использовании текста большего размера."
   ]
  },
  {
   "cell_type": "markdown",
   "metadata": {},
   "source": [
    "# Задание 3\n",
    "\n",
    "Но и это ещё не всё: биграммы скорее всего тоже далеко не всегда работают. Основная часть задания — в том, как можно их улучшить:\n",
    "* предложите метод обучения перестановки символов в этом задании, основанный на MCMC-сэмплировании, но по-прежнему работающий на основе статистики биграмм;\n",
    "* реализуйте и протестируйте его, убедитесь, что результаты улучшились."
   ]
  },
  {
   "cell_type": "markdown",
   "metadata": {},
   "source": [
    "Идея: так как текст зашифрован некоторой перестановкой, будем пытаться подбирать перестановку методом MCMC-сэмплирования. В качестве метрики качества будет считать произведение вероятностей встреченных биграмм в расшифрованном тексте:\n",
    "\n",
    "$$Score = \\prod P(c1, c2)$$\n",
    "\n",
    "Далее используем `Metropolis-Hastings` алгоритм, где параметр $a$ будем вычислять по следующей формуле:\n",
    "\n",
    "$$a = \\exp \\left (\\log \\frac{Score(new)}{Score(current)} \\right )$$\n",
    "\n",
    "Если $a \\geq  1$, то принимаем новое значение $key$, иначе принимаем значение $key$ с вероятностью $1 - a$.\n",
    "\n",
    "Также запустим несколько раундов расшифровки и возьмем значение $key$ с лучшим значением правдоподобия."
   ]
  },
  {
   "cell_type": "code",
   "execution_count": 27,
   "metadata": {},
   "outputs": [],
   "source": [
    "def n_gram_probs_smooth(n_gram_cnt):\n",
    "    n_gram_sum = sum(map(lambda x: x[1], n_gram_cnt))\n",
    "    return {k: (v + 1) / n_gram_sum for (k, v) in n_gram_cnt}"
   ]
  },
  {
   "cell_type": "code",
   "execution_count": 28,
   "metadata": {},
   "outputs": [],
   "source": [
    "def sample_cipher_key(key):\n",
    "    new_key = key.copy()\n",
    "    char_1 = char_2 = 0\n",
    "    while char_1 == char_2:\n",
    "        char_1 = random.choice(list(new_key))\n",
    "        char_2 = random.choice(list(new_key))\n",
    "    new_key[char_1], new_key[char_2] = new_key[char_2], new_key[char_1]\n",
    "    return new_key"
   ]
  },
  {
   "cell_type": "code",
   "execution_count": 29,
   "metadata": {},
   "outputs": [],
   "source": [
    "def decrypt_text_by_sample(cipher_text, key):\n",
    "    result = \"\"\n",
    "    inverse_key = {v: k for k, v in key.items()}\n",
    "    for elem in cipher_text:\n",
    "        result += inverse_key[elem]\n",
    "    return result"
   ]
  },
  {
   "cell_type": "code",
   "execution_count": 30,
   "metadata": {},
   "outputs": [],
   "source": [
    "def get_cipher_score(cipher_text, key, alphabet, n_gram_probs, n=2):\n",
    "    decrypted_text = decrypt_text_by_sample(cipher_text, key)\n",
    "    score = 0\n",
    "    for i in range(len(decrypted_text) - n + 1):\n",
    "        n_gram = decrypted_text[i: i + n]\n",
    "        n_gram_proba = n_gram_probs.get(n_gram)\n",
    "        if not n_gram_proba:\n",
    "            n_gram_proba = 1 / (len(decrypted_text) + len(alphabet)**n)  \n",
    "        score += np.log(n_gram_proba)\n",
    "    return score"
   ]
  },
  {
   "cell_type": "code",
   "execution_count": 31,
   "metadata": {},
   "outputs": [],
   "source": [
    "def MCMC(cipher_text, alphabet, n_grams, n_gram_probs, n=2, steps=10000, rounds=1):\n",
    "    all_tries_best_states = []\n",
    "    all_tries_best_scores = []\n",
    "    \n",
    "    for i in range(1, rounds + 1):\n",
    "        current_key = create_cipher_key(alphabet)\n",
    "        best_state = ''\n",
    "        best_score = -np.inf\n",
    "        score_current = get_cipher_score(cipher_text, current_key, alphabet, n_gram_probs, n)\n",
    "        for _ in range(steps):\n",
    "            new_key = sample_cipher_key(current_key)\n",
    "            score_new = get_cipher_score(cipher_text, new_key, alphabet, n_gram_probs, n)\n",
    "            acceptance_param = np.exp(score_new - score_current)\n",
    "            if random.uniform(0, 1) <= acceptance_param:\n",
    "                current_key = new_key\n",
    "                score_current = score_new\n",
    "            if score_current > best_score:\n",
    "                best_state = current_key\n",
    "                best_score = score_current\n",
    "        print(f'раунд: {i}, лучший score: {best_score}')\n",
    "        print(decrypt_text_by_sample(cipher_text, best_state)[:100])\n",
    "        all_tries_best_states.append(best_state)\n",
    "        all_tries_best_scores.append(best_score)\n",
    "    best_of_the_best_score = max(all_tries_best_scores)\n",
    "    best_of_the_best_state = all_tries_best_states[all_tries_best_scores.index(best_of_the_best_score)]\n",
    "    print(f'лучший score: {best_of_the_best_score}')\n",
    "    print(decrypt_text_by_sample(cipher_text, best_of_the_best_state)[:100])\n",
    "    return best_of_the_best_state, best_of_the_best_score"
   ]
  },
  {
   "cell_type": "code",
   "execution_count": 32,
   "metadata": {},
   "outputs": [],
   "source": [
    "karenina_bigram_probs = n_gram_probs_smooth(karenina_bigram_cnt)"
   ]
  },
  {
   "cell_type": "code",
   "execution_count": 33,
   "metadata": {},
   "outputs": [
    {
     "name": "stdout",
     "output_type": "stream",
     "text": [
      "раунд: 1, лучший score: -4372.766672092572\n",
      "скопули захватили восемь дней назад и джули мао наконец приготовилась умеретьчтобы дойти до точки ей\n",
      "раунд: 2, лучший score: -5080.013929165824\n",
      "скомъанигрувртнанивос блиде жиергрдинидыъаниброиеркое фимпнзотовнарслиъб п тлчтойхидожтнидоиточкни ж\n",
      "раунд: 3, лучший score: -4379.665834156867\n",
      "скопули захватили восемь дней назад и дшули мао наконец приготовилась умеретьътобы дойти до тоъки ей\n",
      "раунд: 4, лучший score: -4484.084088958269\n",
      "скопути захлавити лосегь днем назад и дшути гао наконею прибоволитась угеревьъвочы домви до воъки ем\n",
      "раунд: 5, лучший score: -4372.766672092572\n",
      "скопули захватили восемь дней назад и джули мао наконец приготовилась умеретьчтобы дойти до точки ей\n",
      "раунд: 6, лучший score: -4372.766672092572\n",
      "скопули захватили восемь дней назад и джули мао наконец приготовилась умеретьчтобы дойти до точки ей\n",
      "раунд: 7, лучший score: -4372.766672092572\n",
      "скопули захватили восемь дней назад и джули мао наконец приготовилась умеретьчтобы дойти до точки ей\n",
      "раунд: 8, лучший score: -5117.734062576915\n",
      "ядеыъранпошиосараниея чжнкт знтопокнанкюъранчоентодет энылабесеиарояжнъч л сжвсегьнкезсанкенсевдан з\n",
      "раунд: 9, лучший score: -4422.742710230614\n",
      "скопули захматили моседь вней назав и вшули дао наконею приготомилась удеретьчтобы войти во точки ей\n",
      "раунд: 10, лучший score: -4908.266530823088\n",
      "сувпжат глюилетат ивсням конй олглк т къжат ялв олувонц пртывевиталсм жянрнемшевзд квйет кв евшут нй\n",
      "лучший score: -4372.766672092572\n",
      "скопули захватили восемь дней назад и джули мао наконец приготовилась умеретьчтобы дойти до точки ей\n",
      "CPU times: user 3min 26s, sys: 26.9 ms, total: 3min 26s\n",
      "Wall time: 3min 26s\n"
     ]
    }
   ],
   "source": [
    "%%time\n",
    "best_bigram_test_state, best_bigram_test_score = MCMC(\n",
    "    cipher_text, \n",
    "    russian_alphabet, \n",
    "    russian_bigrams, \n",
    "    karenina_bigram_probs,\n",
    "    steps=10000, \n",
    "    rounds=10\n",
    ")"
   ]
  },
  {
   "cell_type": "code",
   "execution_count": 34,
   "metadata": {},
   "outputs": [
    {
     "data": {
      "text/plain": [
       "'скопули захватили восемь дней назад и джули мао наконец приготовилась умеретьчтобы дойти до точки ей понадобились все восемь дней заключения в шкаъукладовой первые два она провела без движения в уверенности что вооруженные люди кинувшие ее сюда не шутили несколько часов сразу после абордажа корабль на который ее перевели не включал тяги так что она плавала в шкаъу тихонько отталкиваясь от стен и скаъандров разделявших с ней тесное пространство когда корабль пришел в движение тяга придала вес ее телу после этого она тихо стояла пока судорога не свела ноги потом села свернувшись в позе эмбриона она мочилась в тренировочные штаны не беспокоясь ни о теплой щиплющей влаге ни о запахе и думая только как бы не поскользнуться на мокром пятне оставшемся на полу шуметь было нельзя застрелят'"
      ]
     },
     "execution_count": 34,
     "metadata": {},
     "output_type": "execute_result"
    }
   ],
   "source": [
    "test_bigram_decrypted = decrypt_text_by_sample(cipher_text, best_bigram_test_state)\n",
    "test_bigram_decrypted"
   ]
  },
  {
   "cell_type": "markdown",
   "metadata": {},
   "source": [
    "Получилось очень хорошо, расшифрованный текст можно легко прочитать."
   ]
  },
  {
   "cell_type": "markdown",
   "metadata": {},
   "source": [
    "# Задание 4\n",
    "\n",
    "Расшифруйте сообщение:\n",
    "←⇠⇒↟↹↷⇊↹↷↟↤↟↨←↹↝⇛⇯↳⇴⇒⇈↝⇊↾↹↟⇒↟↹⇷⇛⇞↨↟↹↝⇛⇯↳⇴⇒⇈↝⇊↾↹↨←⇌⇠↨↹⇙↹⇸↨⇛↙⇛↹⇠⇛⇛↲⇆←↝↟↞↹⇌⇛↨⇛⇯⇊↾↹⇒←↙⇌⇛↹⇷⇯⇛⇞↟↨⇴↨⇈↹⇠⇌⇛⇯←←↹↷⇠←↙⇛↹↷⇊↹↷⇠←↹⇠↤←⇒⇴⇒↟↹⇷⇯⇴↷↟⇒⇈↝⇛↹↟↹⇷⇛⇒⇙⇞↟↨←↹↳⇴⇌⇠↟↳⇴⇒⇈↝⇊↾↹↲⇴⇒⇒↹⇰⇴↹⇷⇛⇠⇒←↤↝←←↹⇞←↨↷←⇯↨⇛←↹⇰⇴↤⇴↝↟←↹⇌⇙⇯⇠⇴↹↘⇛↨↞↹⇌⇛↝←⇞↝⇛↹↞↹↝↟⇞←↙⇛↹↝←↹⇛↲←⇆⇴⇏"
   ]
  },
  {
   "cell_type": "code",
   "execution_count": 35,
   "metadata": {},
   "outputs": [],
   "source": [
    "def accuracy(predicted_text, true_text):\n",
    "    result = 0\n",
    "    for i in range(len(predicted_text)):\n",
    "        if predicted_text[i] == true_text[i]:\n",
    "            result += 1\n",
    "    return result / len(true_text)"
   ]
  },
  {
   "cell_type": "code",
   "execution_count": 36,
   "metadata": {},
   "outputs": [],
   "source": [
    "def prepare_text(cipher_text, alphabet):\n",
    "    to_chars = dict(zip(set(cipher_text), alphabet[:len(cipher_text)]))\n",
    "    result = \"\"\n",
    "    for elem in cipher_text:\n",
    "        result += to_chars[elem]\n",
    "    return result"
   ]
  },
  {
   "cell_type": "code",
   "execution_count": 37,
   "metadata": {},
   "outputs": [],
   "source": [
    "some_text = \"←⇠⇒↟↹↷⇊↹↷↟↤↟↨←↹↝⇛⇯↳⇴⇒⇈↝⇊↾↹↟⇒↟↹⇷⇛⇞↨↟↹↝⇛⇯↳⇴⇒⇈↝⇊↾↹↨←⇌⇠↨↹⇙↹⇸↨⇛↙⇛↹⇠⇛⇛↲⇆←↝↟↞↹⇌⇛↨⇛⇯⇊↾↹⇒←↙⇌⇛↹⇷⇯⇛⇞↟↨⇴↨⇈↹⇠⇌⇛⇯←←↹↷⇠←↙⇛↹↷⇊↹↷⇠←↹⇠↤←⇒⇴⇒↟↹⇷⇯⇴↷↟⇒⇈↝⇛↹↟↹⇷⇛⇒⇙⇞↟↨←↹↳⇴⇌⇠↟↳⇴⇒⇈↝⇊↾↹↲⇴⇒⇒↹⇰⇴↹⇷⇛⇠⇒←↤↝←←↹⇞←↨↷←⇯↨⇛←↹⇰⇴↤⇴↝↟←↹⇌⇙⇯⇠⇴↹↘⇛↨↞↹⇌⇛↝←⇞↝⇛↹↞↹↝↟⇞←↙⇛↹↝←↹⇛↲←⇆⇴⇏\""
   ]
  },
  {
   "cell_type": "code",
   "execution_count": 38,
   "metadata": {},
   "outputs": [],
   "source": [
    "ciphered_text = prepare_text(some_text, russian_alphabet)"
   ]
  },
  {
   "cell_type": "code",
   "execution_count": 39,
   "metadata": {},
   "outputs": [
    {
     "name": "stdout",
     "output_type": "stream",
     "text": [
      "раунд: 1, лучший score: -1402.8748428450026\n",
      " виретьетрпра еонуылидоьшериремнкареонуылидоьшеа сваечезанъневнняб оржеснануьшеи ъснемункраладевсну \n",
      "раунд: 2, лучший score: -1409.688799545617\n",
      " иентьътьнгна тосмылепоъэтнентускантосмылепоъэта виатртцасдстиссяз ончтвсасмъэте двстумскналаптивсм \n",
      "раунд: 3, лучший score: -1382.3831245641616\n",
      "тривокчоквувсто нашлим чховиводнысво нашлим чхостерсогойсньнорннъят впоенсначхоитьеноданывслсморенат\n",
      "раунд: 4, лучший score: -1310.8123291865372\n",
      "евло пи помосе натчыльних оло эадсо натчыльних сервс у ясаза ваажщенок расатих лезра этадосысь врате\n",
      "раунд: 5, лучший score: -1255.3082321452343\n",
      "евли сь сичине торкалытьй или помни торкалытьй недвн у бного воожшетия донорьй легдо проминаны вдоре\n",
      "раунд: 6, лучший score: -1365.5001551457176\n",
      "тсавоъпоъвывитое узналепговавом ривое узналепгоитьсиокоби я ос  чйтевдоь и упгоатяь ому рвинилось ут\n",
      "раунд: 7, лучший score: -1374.877689715577\n",
      "овнатрътразакотл сженулъэтанать дкатл сженулъэткоивктятщк м тв  пголачти к съэтноми тьс дакекутви со\n",
      "раунд: 8, лучший score: -1281.7589215927708\n",
      "ерто пы поголе наскитьный ото вамло наскитьный ледрл у блаза раажшеноя даласый тезда всамолиль рдасе\n",
      "раунд: 9, лучший score: -1358.5725748398374\n",
      "ткивоспосвувето нашлим провиводныево нашлим проетйкеохоченьнокнняът вгойненапроитьйноданывелемокйнат\n",
      "раунд: 10, лучший score: -1357.1423959727242\n",
      "тсановповньнитое уъкалепронаном чиное уъкалепроитйсиогоши я ос  жытендой и упроатяй ому чникилосй ут\n",
      "раунд: 11, лучший score: -1255.083716089627\n",
      "евли сь сичине торкалытьй или помни торкалытьй недвн у ъного воожшетия донорьй легдо проминаны вдоре\n",
      "раунд: 12, лучший score: -1244.4326890978343\n",
      "если вы вимите норчальный или подти норчальный текст у этого соожшения который легко продитать скоре\n",
      "раунд: 13, лучший score: -1293.647705920596\n",
      "ерна зы задале товшинятыь ана посла товшинятыь лекрл у хлого роочжетам коловыь негко пвосалиля ркове\n",
      "раунд: 14, лучший score: -1380.2045340341447\n",
      " итаксяксамал кнодыетьняфкатакговлакнодыетьняфкл рилкукщлопокиоочж наъкролодяфкт прокгдовалелькирод \n",
      "раунд: 15, лучший score: -1380.082974135061\n",
      "тналобпоблылетов иъказвпролалом селов иъказвпроетянеодоже ь он  чутвлгоя е ипроатья оми слекезоня ит\n",
      "раунд: 16, лучший score: -1417.4339353572475\n",
      "от иесдесикилоеныъза жндреи иейымлиеныъза жндреловтлепещлыбыетыышгоничевылыъдре обвыейъымилалжетвыъо\n",
      "раунд: 17, лучший score: -1375.1567192405348\n",
      " инесьшсьемел сворыънавшщсенестодлесворыънавшщсл килсусблогосиоойж веясколоршщсн гкостроделъласикор \n",
      "раунд: 18, лучший score: -1361.3974246252783\n",
      "ндсторъортатенои уывслиъпотстом четои уывслиъпоенйдеокобе я од  зьнитгой е уъпосняй ому чтевелодй ун\n",
      "раунд: 19, лучший score: -1439.4523516116926\n",
      "ныс импим г дниевакостепри с извяд иевакостеприднъыдичийдвувиыввльне шиъвдваприснуъвизавя додтиыъван\n",
      "раунд: 20, лучший score: -1345.3178448100539\n",
      "нкитоспостытаное удвилепротитом чатое удвилепроанькаошоба я ок  жънетгоь а упроиняь ому чтавалокь ун\n",
      "лучший score: -1244.4326890978343\n",
      "если вы вимите норчальный или подти норчальный текст у этого соожшения который легко продитать скоре\n",
      "CPU times: user 2min 4s, sys: 12 ms, total: 2min 4s\n",
      "Wall time: 2min 4s\n"
     ]
    }
   ],
   "source": [
    "%%time\n",
    "best_bigram_state, best_bigram_score = MCMC(\n",
    "    ciphered_text, \n",
    "    russian_alphabet, \n",
    "    russian_bigrams, \n",
    "    karenina_bigram_probs, \n",
    "    steps=10000, \n",
    "    rounds=20\n",
    ")"
   ]
  },
  {
   "cell_type": "code",
   "execution_count": 40,
   "metadata": {},
   "outputs": [
    {
     "data": {
      "text/plain": [
       "'если вы вимите норчальный или подти норчальный текст у этого соожшения который легко продитать скорее всего вы все смелали правильно и полудите чаксичальный жалл за послемнее детвертое замание курса ъотя конедно я нидего не ожешац'"
      ]
     },
     "execution_count": 40,
     "metadata": {},
     "output_type": "execute_result"
    }
   ],
   "source": [
    "text_bigram_decrypted = decrypt_text_by_sample(ciphered_text, best_bigram_state)\n",
    "text_bigram_decrypted"
   ]
  },
  {
   "cell_type": "code",
   "execution_count": 41,
   "metadata": {},
   "outputs": [],
   "source": [
    "true_text = \"если вы видите нормальный или почти нормальный текст у этого сообщения который легко прочитать скорее всего вы все сделали правильно и получите максимальный балл за последнее четвертое задание курса хотя конечно я ничего не обещаю\""
   ]
  },
  {
   "cell_type": "code",
   "execution_count": 42,
   "metadata": {},
   "outputs": [
    {
     "name": "stdout",
     "output_type": "stream",
     "text": [
      "Точность расшифровки на биграммах: 0.908695652173913\n"
     ]
    }
   ],
   "source": [
    "print(f\"Точность расшифровки на биграммах: {accuracy(text_bigram_decrypted, true_text)}\")"
   ]
  },
  {
   "cell_type": "markdown",
   "metadata": {},
   "source": [
    "Считаю, что результат очень не плохой и надеюсь на максимальный бал за это задание :)"
   ]
  },
  {
   "cell_type": "markdown",
   "metadata": {},
   "source": [
    "# Задание 5\n",
    "\n",
    "Бонус: а что если от биграмм перейти к триграммам (тройкам букв) или даже больше? Улучшатся ли результаты? Когда улучшатся, а когда нет? Чтобы ответить на этот вопрос эмпирически, уже может понадобиться погенерировать много тестовых перестановок и последить за метриками, глазами может быть и не видно."
   ]
  },
  {
   "cell_type": "code",
   "execution_count": 43,
   "metadata": {},
   "outputs": [],
   "source": [
    "def count_n_gram_freq(text, n_grams, n=2):\n",
    "    text_cnt = Counter()\n",
    "    for text_idx in range(len(text) - n):\n",
    "        if text[text_idx: text_idx + n] in n_grams:\n",
    "            text_cnt[text[text_idx: text_idx + n]] += 1\n",
    "    return sorted(text_cnt.items(), key=lambda x: x[1], reverse=True)"
   ]
  },
  {
   "cell_type": "code",
   "execution_count": 44,
   "metadata": {},
   "outputs": [],
   "source": [
    "russian_trigrams = create_ngrams(russian_alphabet, 3)"
   ]
  },
  {
   "cell_type": "code",
   "execution_count": 45,
   "metadata": {},
   "outputs": [],
   "source": [
    "karenina_trigram_cnt = count_n_gram_freq(karenina, russian_trigrams, n=3)\n",
    "karenina_trigram_probs = n_gram_probs_smooth(karenina_trigram_cnt)"
   ]
  },
  {
   "cell_type": "code",
   "execution_count": 46,
   "metadata": {},
   "outputs": [
    {
     "name": "stdout",
     "output_type": "stream",
     "text": [
      "раунд: 1, лучший score: -2077.382439272905\n",
      "нйсворыорвщвеноб изчсгбыловсвот девоб изчсгбылоенмйеоуоже а ой  кянбвпом е иылоснам оти двечегойм ин\n",
      "раунд: 2, лучший score: -2022.9150348627704\n",
      " ынасзьсзачал стогденитьъсанасковластогденитьъсл рылсхсшлопосыоому таясрологьъсн проскговалелисырог \n",
      "раунд: 3, лучший score: -2118.0877279595657\n",
      "дътелюблюемердл аности былетельаврел аности былрджърлглуразалъаайэд еялжаранбылтдзжальнаверсрилъжанд\n",
      "раунд: 4, лучший score: -1730.683854057061\n",
      "если вы видите нормальный или почти нормальный текст у этого сообщения который легко прочитать скоре\n",
      "раунд: 5, лучший score: -2017.320038916366\n",
      "ьлит да дтгтнь сервоихсам тит пежнт сервоихсам ньблн у знеше лееъйьстя бенерам иьшбе прежтнонх лберь\n",
      "раунд: 6, лучший score: -1982.3440434814427\n",
      "ьгма ки казать невромуний ама селта невромуний тьдгт ы чтеше геехъьная детевий мьшде свелатоту гдевь\n",
      "раунд: 7, лучший score: -1730.683854057061\n",
      "если вы видите нормальный или почти нормальный текст у этого сообщения который легко прочитать скоре\n",
      "раунд: 8, лучший score: -2107.049018241028\n",
      "тьс надна к чтноемувсподхн с ниеяч ноемувсподхнчтшьчнлнжчереньеефэто бншечемдхнстршенимея чвчпньшемт\n",
      "раунд: 9, лучший score: -2135.150630546691\n",
      " уенкгжкгндна ковыстеложикненкзвманковыстеложика руакщкбавпвкуввйч онькрвавыжике првкзывмнаталкурвы \n",
      "раунд: 10, лучший score: -2117.2796943398184\n",
      " кынебребнзно еатьйдываршенынелтмонеатьйдываршео скоеюепотитекттжу анчестотьршеы истельтмнодовексть \n",
      "раунд: 11, лучший score: -2061.817472347124\n",
      "ей отьитьоголетраску приято отчавлотраску приятленйлтдтцлазатйаашмерощтналасият езнатчсаволулптйнасе\n",
      "раунд: 12, лучший score: -2096.1840148790757\n",
      " лукнизникбко натвдругазжнкукнятьокнатвдругазжно елонынхотстнлттйп акмнетотвзжну сетнявтькорогнлетв \n",
      "раунд: 13, лучший score: -2086.4575823533537\n",
      " панодходнмне оилыбратихщонановляеноилыбратихщое спеогочелулоплльз инкослелыхщоа условылянеретопслы \n",
      "раунд: 14, лучший score: -2033.5518546602334\n",
      "нтядоспосдчданой углябйпродядом задой углябйпроанетаоцожа и от  вынйдкое а упрояние ому здалаботе ун\n",
      "раунд: 15, лучший score: -2121.6284355406206\n",
      " изводподвчвм оалежъзнапровзвошлкмвоалежъзнапром симотоймлылоиллья авгослмлепроз ыслошелквмъмноисле \n",
      "раунд: 16, лучший score: -2059.861893502856\n",
      "нмитежпежтятонес былишспретитей чотес былишспреонкмоехего а ем  зьнствек о бпреинак ейб чтолошемк бн\n",
      "раунд: 17, лучший score: -2089.8357702952967\n",
      "свантчбтчниндст опязал бытнантъоеднт опязал бытдсрвдтжтэдокотвоомшс нутродопбытаскротъпоендздлтвропс\n",
      "раунд: 18, лучший score: -2080.98328984313\n",
      "н чтомпомтктеносльшдчэспротчтоялзетосльшдчэспроени еохоцелало ллжйнствоилельпрочнаилояьлзтедеэо ильн\n",
      "раунд: 19, лучший score: -2080.427866971174\n",
      " явениониечел нтакызвстомневеньадлентакызвстомнл рялнйнглапаняааюж тебнралакомнв пранькаделзлснярак \n",
      "раунд: 20, лучший score: -1730.683854057061\n",
      "если вы видите нормальный или почти нормальный текст у этого сообщения который легко прочитать скоре\n",
      "лучший score: -1730.683854057061\n",
      "если вы видите нормальный или почти нормальный текст у этого сообщения который легко прочитать скоре\n",
      "CPU times: user 2min 11s, sys: 4 ms, total: 2min 11s\n",
      "Wall time: 2min 11s\n"
     ]
    }
   ],
   "source": [
    "%%time\n",
    "best_trigram_state, best_trigram_score = MCMC(\n",
    "    ciphered_text,\n",
    "    russian_alphabet,\n",
    "    russian_trigrams,\n",
    "    karenina_trigram_probs,\n",
    "    n=3,\n",
    "    steps=10000,\n",
    "    rounds=20\n",
    ")"
   ]
  },
  {
   "cell_type": "code",
   "execution_count": 47,
   "metadata": {},
   "outputs": [
    {
     "data": {
      "text/plain": [
       "'если вы видите нормальный или почти нормальный текст у этого сообщения который легко прочитать скорее всего вы все сделали правильно и получите максимальный балл за последнее четвертое задание курса хотя конечно я ничего не обещаъ'"
      ]
     },
     "execution_count": 47,
     "metadata": {},
     "output_type": "execute_result"
    }
   ],
   "source": [
    "text_trigram_decrypted = decrypt_text_by_sample(ciphered_text, best_trigram_state)\n",
    "text_trigram_decrypted"
   ]
  },
  {
   "cell_type": "code",
   "execution_count": 48,
   "metadata": {},
   "outputs": [
    {
     "name": "stdout",
     "output_type": "stream",
     "text": [
      "Точность расшифровки на триграммах: 0.9956521739130435\n"
     ]
    }
   ],
   "source": [
    "print(f\"Точность расшифровки на триграммах: {accuracy(text_trigram_decrypted, true_text)}\")"
   ]
  },
  {
   "cell_type": "markdown",
   "metadata": {},
   "source": [
    "Качество выросло, ошибка только в одной букве.\n",
    "\n",
    "Посмотрим как изменится качество на первом тестовом тексте."
   ]
  },
  {
   "cell_type": "code",
   "execution_count": 49,
   "metadata": {},
   "outputs": [
    {
     "name": "stdout",
     "output_type": "stream",
     "text": [
      "Точность расшифровки тестового текста на биграммах: 0.9962073324905183\n"
     ]
    }
   ],
   "source": [
    "print(f\"Точность расшифровки тестового текста на биграммах: {accuracy(test_bigram_decrypted, test_text)}\")"
   ]
  },
  {
   "cell_type": "code",
   "execution_count": 50,
   "metadata": {},
   "outputs": [
    {
     "name": "stdout",
     "output_type": "stream",
     "text": [
      "раунд: 1, лучший score: -7542.009443877874\n",
      "ну ьщмстреяиеосмсти нъчатлвъэтверелтстлпщмстче твеу въфтьбсд о исменатщчъбъоако жытл эостл то кустъэ\n",
      "раунд: 2, лучший score: -6091.525868201964\n",
      "скопули захватили восемь дней назад и джули мао наконец приготовилась умеретьчтобы дойти до точки ей\n",
      "раунд: 3, лучший score: -7467.570418527847\n",
      "снечыблогрюдртлблодес мхошв повргршолошяыбломреоврнев эочилаетедлбрсхоым и тхжтейуошептлошеотежнло п\n",
      "раунд: 4, лучший score: -7523.91737790215\n",
      "сь оъвылчайяаиывыля сектлхнедлначахлылхжъвылка лнаь негломыб и яывастлъкемеитри зцлх диылх ли рьылед\n",
      "раунд: 5, лучший score: -7279.654000694078\n",
      "де мхатоыньвнитатов длгройслкоснынйотойщхатогн осне слцомутч и втандрохглулиржи бпой китой ои жетолк\n",
      "раунд: 6, лучший score: -6092.375785541183\n",
      "скопули захватили восемь дней назад и джули мао наконею приготовилась умеретьчтобы дойти до точки ей\n",
      "раунд: 7, лучший score: -6092.375785541183\n",
      "скопули захватили восемь дней назад и джули мао наконею приготовилась умеретьчтобы дойти до точки ей\n",
      "раунд: 8, лучший score: -6091.525868201964\n",
      "скопули захватили восемь дней назад и джули мао наконец приготовилась умеретьчтобы дойти до точки ей\n",
      "раунд: 9, лучший score: -7457.413710511495\n",
      "езвгматобкь китато венялойснъоскбкйотойуматояквоскзвснщогытэвив такеломянынилшивждойвъитойвоившзтонъ\n",
      "раунд: 10, лучший score: -7600.041653683835\n",
      "ло ивчснэдьыдасчсны лзятнуезжнедэдунснуцвчсняд недо езфниксб а ысчдлтнвязкзатра гшну жасну на роснзж\n",
      "лучший score: -6091.525868201964\n",
      "скопули захватили восемь дней назад и джули мао наконец приготовилась умеретьчтобы дойти до точки ей\n",
      "CPU times: user 3min 45s, sys: 20 ms, total: 3min 45s\n",
      "Wall time: 3min 45s\n"
     ]
    }
   ],
   "source": [
    "%%time\n",
    "best_trigram_test_state, best_trigram_test_score = MCMC(\n",
    "    cipher_text,\n",
    "    russian_alphabet,\n",
    "    russian_trigrams,\n",
    "    karenina_trigram_probs,\n",
    "    n=3,\n",
    "    steps=10000,\n",
    "    rounds=10\n",
    ")"
   ]
  },
  {
   "cell_type": "code",
   "execution_count": 51,
   "metadata": {},
   "outputs": [
    {
     "data": {
      "text/plain": [
       "'скопули захватили восемь дней назад и джули мао наконец приготовилась умеретьчтобы дойти до точки ей понадобились все восемь дней заключения в шкаъукладовой первые два она провела без движения в уверенности что вооруженные люди кинувшие ее сюда не шутили несколько часов сразу после абордажа корабль на который ее перевели не включал тяги так что она плавала в шкаъу тихонько отталкиваясь от стен и скаъандров разделявших с ней тесное пространство когда корабль пришел в движение тяга придала вес ее телу после этого она тихо стояла пока судорога не свела ноги потом села свернувшись в позе эмбриона она мочилась в тренировочные штаны не беспокоясь ни о теплой фиплюфей влаге ни о запахе и думая только как бы не поскользнуться на мокром пятне оставшемся на полу шуметь было нельзя застрелят'"
      ]
     },
     "execution_count": 51,
     "metadata": {},
     "output_type": "execute_result"
    }
   ],
   "source": [
    "test_trigram_decrypted = decrypt_text_by_sample(cipher_text, best_trigram_test_state)\n",
    "test_trigram_decrypted"
   ]
  },
  {
   "cell_type": "code",
   "execution_count": 52,
   "metadata": {},
   "outputs": [
    {
     "name": "stdout",
     "output_type": "stream",
     "text": [
      "Точность расшифровки тестового текста на триграммах: 0.9936788874841972\n"
     ]
    }
   ],
   "source": [
    "print(f\"Точность расшифровки тестового текста на триграммах: {accuracy(test_trigram_decrypted, test_text)}\")"
   ]
  },
  {
   "cell_type": "markdown",
   "metadata": {},
   "source": [
    "Для триграмм качество выросло."
   ]
  },
  {
   "cell_type": "markdown",
   "metadata": {},
   "source": [
    "Теперь возьмем какой нибудь другой тескт, меньшего размера:"
   ]
  },
  {
   "cell_type": "code",
   "execution_count": 53,
   "metadata": {},
   "outputs": [],
   "source": [
    "with open('data/small.txt') as fin:\n",
    "    small_text = fin.read()"
   ]
  },
  {
   "cell_type": "code",
   "execution_count": 54,
   "metadata": {},
   "outputs": [],
   "source": [
    "small_text = ''.join([c for c in small_text.lower() if c in russian_alphabet])"
   ]
  },
  {
   "cell_type": "code",
   "execution_count": 55,
   "metadata": {},
   "outputs": [
    {
     "data": {
      "text/plain": [
       "'молодой рыцарь повернулся к седому оруженосцу побитые морозом листья с шелестом пролетели мимо и конь ройса беспокойно шевельнулся'"
      ]
     },
     "execution_count": 55,
     "metadata": {},
     "output_type": "execute_result"
    }
   ],
   "source": [
    "small_text"
   ]
  },
  {
   "cell_type": "code",
   "execution_count": 56,
   "metadata": {},
   "outputs": [
    {
     "data": {
      "text/plain": [
       "'йысыцыьюмшврмкюэычямфасщлю ющяцыйаюымаояфыщваюэыбеншяюйымыжыйюсещнклющюиясящныйюэмысянясеюйейыюею ыфкюмыьщрюбящэы ыьфыюиячяскфасщл'"
      ]
     },
     "execution_count": 56,
     "metadata": {},
     "output_type": "execute_result"
    }
   ],
   "source": [
    "small_encrypted = encrypt_text(small_text, create_cipher_key(russian_alphabet))\n",
    "small_encrypted"
   ]
  },
  {
   "cell_type": "markdown",
   "metadata": {},
   "source": [
    "Сначала биграммы:"
   ]
  },
  {
   "cell_type": "code",
   "execution_count": 57,
   "metadata": {},
   "outputs": [
    {
     "name": "stdout",
     "output_type": "stream",
     "text": [
      "раунд: 1, лучший score: -1343.121100649966\n",
      "щтутэтфъаюцнаиъмтйбаекучпълъчбэтщкътакьбетчцкъмтгждюбъщтат тщъужчдипъчъзбубчдтщъматубдбужъщжщтъжълте\n",
      "раунд: 2, лучший score: -1343.121100649966\n",
      "воиорочжцйщгцыжьоезцплибсжъжбзровлжоцлнзпобщлжьоу хйзжвоцоаовжи бхысжбжфзизбховжьцоизхзи жв вож жъоп\n",
      "раунд: 3, лучший score: -1343.121100649966\n",
      "ьшвшышгеаэътауефшмиабзвчяехечиышьзешазсибшчъзефшдцкэиеьшашщшьевцчкуяечеоивичкшьефашвикивцеьцьшецехшб\n",
      "раунд: 4, лучший score: -1343.121100649966\n",
      "ер рьрхдзскязшдгржазъы ойдвдоаьреыдрзыэаърокыдгрунисадерзртред ноишйдодюа аоиредгзр аиа нденердндвръ\n",
      "раунд: 5, лучший score: -1343.121100649966\n",
      "йыьыэыцармивржакысщрбзьюшаоающэыйзаырзпщбыюизакыя хмщайырыдыйаь юхжшаюалщьщюхыйакрыьщхщь ай йыа аоыб\n",
      "раунд: 6, лучший score: -1343.121100649966\n",
      "думу уэпыгсныкпиуалыеямцьпрпцл удяпуыяюлеуцсяпиушйбглпдуыуфудпмйцбкьпцптлмлцбудпиыумлблмйпдйдупйпруе\n",
      "раунд: 7, лучший score: -1343.121100649966\n",
      "цмгмфмяьитпвиеьлмабинхгзюь ьзбфмцхьмихкбнмзпхьлмысчтбьцмимщмцьгсзчеюьзьдбгбзчмцьлимгбчбгсьцсцмьсь мн\n",
      "раунд: 8, лучший score: -1343.121100649966\n",
      "йюлюжюфсч пячбсиюмхчудлщшсьсщхжюйдсючдвхующпдсиютрз хсйючюгюйслрщзбшсщснхлхщзюйсичюлхзхлрсйрйюсрсьюу\n",
      "раунд: 9, лучший score: -1343.121100649966\n",
      "щэвэсэмзоунлошзеэхфоижвдызпздфсэщжзэожтфиэднжзеэцъйуфзщэоэгэщзвъдйшыздзчфвфдйэщзеоэвфйфвъзщъщэзъзпэи\n",
      "раунд: 10, лучший score: -1343.121100649966\n",
      "хцщцлцшгмыдьмчгсцякмпащ огиг клцхагцмафкпц дагсцэурыкгхцмцжцхгщу рчог гнкщк рцхгсмцщкркщугхухцгугицп\n",
      "лучший score: -1343.121100649966\n",
      "щтутэтфъаюцнаиъмтйбаекучпълъчбэтщкътакьбетчцкъмтгждюбъщтат тщъужчдипъчъзбубчдтщъматубдбужъщжщтъжълте\n",
      "CPU times: user 1min 23s, sys: 8 ms, total: 1min 23s\n",
      "Wall time: 1min 23s\n"
     ]
    }
   ],
   "source": [
    "%%time\n",
    "best_bigram_small_state, best_bigram_small_score = MCMC(\n",
    "    small_encrypted,\n",
    "    russian_alphabet,\n",
    "    russian_bigrams,\n",
    "    karenina_bigram_probs,\n",
    "    n=3,\n",
    "    steps=20000,\n",
    "    rounds=10\n",
    ")"
   ]
  },
  {
   "cell_type": "code",
   "execution_count": 58,
   "metadata": {},
   "outputs": [
    {
     "data": {
      "text/plain": [
       "'щтутэтфъаюцнаиъмтйбаекучпълъчбэтщкътакьбетчцкъмтгждюбъщтат тщъужчдипъчъзбубчдтщъматубдбужъщжщтъжълтеиъатфчнъгбчмтлтфетъзбйбуиекучп'"
      ]
     },
     "execution_count": 58,
     "metadata": {},
     "output_type": "execute_result"
    }
   ],
   "source": [
    "small_bigram_decrypted = decrypt_text_by_sample(small_encrypted, best_bigram_small_state)\n",
    "small_bigram_decrypted"
   ]
  },
  {
   "cell_type": "code",
   "execution_count": 59,
   "metadata": {},
   "outputs": [
    {
     "name": "stdout",
     "output_type": "stream",
     "text": [
      "Точность расшифровки короткого текста на биграммах: 0.015384615384615385\n"
     ]
    }
   ],
   "source": [
    "print(f\"Точность расшифровки короткого текста на биграммах: {accuracy(small_bigram_decrypted, small_text)}\")"
   ]
  },
  {
   "cell_type": "markdown",
   "metadata": {},
   "source": [
    "Попробуем триграммы:"
   ]
  },
  {
   "cell_type": "code",
   "execution_count": 60,
   "metadata": {},
   "outputs": [
    {
     "name": "stdout",
     "output_type": "stream",
     "text": [
      "раунд: 1, лучший score: -1014.1312877313228\n",
      "нологой вызювь подевшался к сегона овамешосза почитые новорон листья с желестон пволетели нино и кош\n",
      "раунд: 2, лучший score: -1138.5852958045346\n",
      "твавшвыоибупирожвяниела мого ншвтловильнев уложвчксбнотвивъвтоак срмо однан свтоживанснакотктвокогве\n",
      "раунд: 3, лучший score: -993.3393415911594\n",
      "вологой рызхрь помернался к сегова ораженосза подитые воробов листья с челестов пролетели виво и кон\n",
      "раунд: 4, лучший score: -1021.5684151046828\n",
      "малабав ршжерь кахорнулся з собаму аругонасжу кадитшо марачам листья с полостам кралотоли мима и зан\n",
      "раунд: 5, лучший score: -989.7311266139932\n",
      "вологой рымьра подернулся к сегову оруженосму почитые ворохов листая с белестов пролетели виво и кон\n",
      "раунд: 6, лучший score: -989.3737434536533\n",
      "вологой рьюыра помернулся к сегову оруженосюу подитье воробов листая с челестов пролетели виво и кон\n",
      "раунд: 7, лучший score: -1123.3153823091502\n",
      "и т м снвжюбвьно завлдткхнянкам идн вдчал кюдно пержани в у интекрьхнкныатакр инов таратениеи неня л\n",
      "раунд: 8, лучший score: -1109.9374235163211\n",
      "инлндну егфюеь мнкоезйлся в содний нейхознсфй мнратго иненыни ластья с полостни менлотола иаин а внз\n",
      "раунд: 9, лучший score: -1114.2949170004806\n",
      "к в м чтожыбость пеойгвнятитнем кгт огдей ныгть залжетк о у ктванлсятнтревенл ктьо велеваткак тати й\n",
      "раунд: 10, лучший score: -1159.8011142165383\n",
      "ерирпрщнскгбслноря свшитьнднт прешнрсшй вртгшнорумак нерсрзренимтальнтны и тареносри а имнемернмндрв\n",
      "лучший score: -989.3737434536533\n",
      "вологой рьюыра помернулся к сегову оруженосюу подитье воробов листая с челестов пролетели виво и кон\n",
      "CPU times: user 1min 15s, sys: 16 ms, total: 1min 15s\n",
      "Wall time: 1min 15s\n"
     ]
    }
   ],
   "source": [
    "%%time\n",
    "best_trigram_small_state, best_trigram_small_score = MCMC(\n",
    "    small_encrypted,\n",
    "    russian_alphabet,\n",
    "    russian_trigrams,\n",
    "    karenina_trigram_probs,\n",
    "    n=3,\n",
    "    steps=20000,\n",
    "    rounds=10\n",
    ")"
   ]
  },
  {
   "cell_type": "code",
   "execution_count": 61,
   "metadata": {},
   "outputs": [
    {
     "data": {
      "text/plain": [
       "'вологой рьюыра помернулся к сегову оруженосюу подитье воробов листая с челестов пролетели виво и кона ройсы деспокойно чемеланулся'"
      ]
     },
     "execution_count": 61,
     "metadata": {},
     "output_type": "execute_result"
    }
   ],
   "source": [
    "small_trigram_decrypted = decrypt_text_by_sample(small_encrypted, best_trigram_small_state)\n",
    "small_trigram_decrypted"
   ]
  },
  {
   "cell_type": "code",
   "execution_count": 62,
   "metadata": {},
   "outputs": [
    {
     "name": "stdout",
     "output_type": "stream",
     "text": [
      "Точность расшифровки короткого текста на триграммах: 0.8\n"
     ]
    }
   ],
   "source": [
    "print(f\"Точность расшифровки короткого текста на триграммах: {accuracy(small_trigram_decrypted, small_text)}\")"
   ]
  },
  {
   "cell_type": "markdown",
   "metadata": {},
   "source": [
    "И наконец 4-граммы, только возьмем корпус поменьше из-за долгого подсчета частот."
   ]
  },
  {
   "cell_type": "code",
   "execution_count": 63,
   "metadata": {},
   "outputs": [
    {
     "name": "stdout",
     "output_type": "stream",
     "text": [
      "CPU times: user 1h 56min 1s, sys: 3.76 s, total: 1h 56min 5s\n",
      "Wall time: 1h 56min 4s\n"
     ]
    }
   ],
   "source": [
    "%%time\n",
    "russian_fourgrams = create_ngrams(russian_alphabet, 4)\n",
    "war_and_peace_fourgram_cnt = count_n_gram_freq(war_and_peace, russian_fourgrams, n=4)"
   ]
  },
  {
   "cell_type": "code",
   "execution_count": 64,
   "metadata": {},
   "outputs": [],
   "source": [
    "war_and_peace_fourgram_probs = n_gram_probs_smooth(war_and_peace_fourgram_cnt)"
   ]
  },
  {
   "cell_type": "code",
   "execution_count": 71,
   "metadata": {},
   "outputs": [
    {
     "name": "stdout",
     "output_type": "stream",
     "text": [
      "раунд: 1, лучший score: -1498.4764651589333\n",
      "в р й насыюпсжая чесудрлзакалей вда сдгеу людая тоьыеав с и варольжзаламерель ваяс реьероавов аоак у\n",
      "раунд: 2, лучший score: -1384.0244680936814\n",
      "молоход пржюпь созапнелуя в уахоме опечаноуже собигра мопотом лиугья у калаугом сполагали мимо и вон\n",
      "раунд: 3, лучший score: -1459.4380059607863\n",
      "п с й догжыугком негалсрховорей пло гляеа рылом чтьжеоп г и пострькхоробесерь помг сеьестоптп отов а\n",
      "раунд: 4, лучший score: -1482.713933371481\n",
      "ремецеловьяпвсобещивтым кого ицерыоевышите яыобеданьиоревечерома нско ожими неробвеминимаорареоаогет\n",
      "раунд: 5, лучший score: -1372.1331833214326\n",
      "ларажая нымьно зачендурсй к сежалу анубедасму завитые ланахал ристой с перестал знаретери лила и кад\n",
      "раунд: 6, лучший score: -1250.667039788092\n",
      "молодой рыцьра почернулся к седому оруженосцу побитые морогом листая с велестом пролетели мимо и кон\n",
      "раунд: 7, лучший score: -1571.9099199396667\n",
      "отатчтшксйбюсмкутв сплангкыкн чтолктсль птнблкутдрей котстятокарнемгкнки а нетокуста е аркороткркытп\n",
      "раунд: 8, лучший score: -1542.937558957173\n",
      "жеиебечунйфпнлурея надитьувут беждуенды аетфдуреской уженемежуиктольутую и тоежурнеи о икужкжеукувеа\n",
      "раунд: 9, лучший score: -1515.946905824678\n",
      "раказаливыйжвуиная всткомичио зартиавть саойтинаегды иравапарикгодумиоих к одаринвак д кгирграигичас\n",
      "раунд: 10, лучший score: -1530.870497161071\n",
      "девежелитйуцтринея ташвкщимик жедшиетшь аекушинеюсой идетепедивскорщиких в коединтев о всидсдеисимеа\n",
      "лучший score: -1250.667039788092\n",
      "молодой рыцьра почернулся к седому оруженосцу побитые морогом листая с велестом пролетели мимо и кон\n",
      "CPU times: user 1min 17s, sys: 12 ms, total: 1min 17s\n",
      "Wall time: 1min 17s\n"
     ]
    }
   ],
   "source": [
    "%%time\n",
    "best_fourgram_small_state, best_fourgram_small_score = MCMC(\n",
    "    small_encrypted,\n",
    "    russian_alphabet,\n",
    "    russian_fourgrams,\n",
    "    war_and_peace_fourgram_probs,\n",
    "    n=4,\n",
    "    steps=20000,\n",
    "    rounds=10\n",
    ")"
   ]
  },
  {
   "cell_type": "code",
   "execution_count": 72,
   "metadata": {},
   "outputs": [
    {
     "data": {
      "text/plain": [
       "'молодой рыцьра почернулся к седому оруженосцу побитые морогом листая с велестом пролетели мимо и кона ройсь беспокойно вечеланулся'"
      ]
     },
     "execution_count": 72,
     "metadata": {},
     "output_type": "execute_result"
    }
   ],
   "source": [
    "small_fourgram_decrypted = decrypt_text_by_sample(small_encrypted, best_fourgram_small_state)\n",
    "small_fourgram_decrypted"
   ]
  },
  {
   "cell_type": "code",
   "execution_count": 73,
   "metadata": {},
   "outputs": [
    {
     "name": "stdout",
     "output_type": "stream",
     "text": [
      "Точность расшифровки короткого текста на 4-граммах: 0.9153846153846154\n"
     ]
    }
   ],
   "source": [
    "print(f\"Точность расшифровки короткого текста на 4-граммах: {accuracy(small_fourgram_decrypted, small_text)}\")"
   ]
  },
  {
   "cell_type": "markdown",
   "metadata": {},
   "source": [
    "Вывод: с увеличением количества символов в n-граммах качество растет, особенно это хорошо видно на коротких текстах."
   ]
  },
  {
   "cell_type": "markdown",
   "metadata": {},
   "source": [
    "# Задание 6\n",
    "\n",
    "Бонус: какие вы можете придумать применения для этой модели? Пляшущие человечки ведь не так часто встречаются в жизни (хотя встречаются! и это самое потрясающее во всей этой истории, но об этом я расскажу потом)."
   ]
  },
  {
   "cell_type": "markdown",
   "metadata": {},
   "source": [
    "Скорее всего, MCMC-сэмплирование можно применить в раскодировании ДНК, древних текстов утраченных языков."
   ]
  }
 ],
 "metadata": {
  "kernelspec": {
   "display_name": "Python 3",
   "language": "python",
   "name": "python3"
  },
  "language_info": {
   "codemirror_mode": {
    "name": "ipython",
    "version": 3
   },
   "file_extension": ".py",
   "mimetype": "text/x-python",
   "name": "python",
   "nbconvert_exporter": "python",
   "pygments_lexer": "ipython3",
   "version": "3.8.5"
  }
 },
 "nbformat": 4,
 "nbformat_minor": 4
}
