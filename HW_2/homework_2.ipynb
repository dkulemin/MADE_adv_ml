{
 "cells": [
  {
   "cell_type": "code",
   "execution_count": 1,
   "metadata": {},
   "outputs": [],
   "source": [
    "import numpy as np\n",
    "import pandas as pd\n",
    "import pickle\n",
    "from tqdm import tqdm\n",
    "from scipy import sparse\n",
    "from sklearn.linear_model import LogisticRegression\n",
    "import scipy.stats"
   ]
  },
  {
   "cell_type": "code",
   "execution_count": 2,
   "metadata": {},
   "outputs": [],
   "source": [
    "with open('results.pkl', 'rb') as results_file:\n",
    "    raw_results = pickle.load(results_file)"
   ]
  },
  {
   "cell_type": "code",
   "execution_count": 3,
   "metadata": {},
   "outputs": [],
   "source": [
    "with open('tournaments.pkl', 'rb') as tournaments_file:\n",
    "    raw_tournaments = pickle.load(tournaments_file)"
   ]
  },
  {
   "cell_type": "code",
   "execution_count": 4,
   "metadata": {},
   "outputs": [],
   "source": [
    "with open('players.pkl', 'rb') as players_file:\n",
    "    raw_players = pickle.load(players_file)"
   ]
  },
  {
   "cell_type": "markdown",
   "metadata": {},
   "source": [
    "# Задание 1"
   ]
  },
  {
   "cell_type": "markdown",
   "metadata": {},
   "source": [
    "Прочитайте и проанализируйте данные, выберите турниры, в которых есть данные о составах команд и повопросных результатах (поле mask в results.pkl). \n",
    "\n",
    "Для унификации предлагаю:\n",
    "\n",
    "* взять в тренировочный набор турниры с dateStart из 2019 года; \n",
    "\n",
    "* в тестовый — турниры с dateStart из 2020 года.\n"
   ]
  },
  {
   "cell_type": "markdown",
   "metadata": {},
   "source": [
    "Начнем с того, что из raw_results выкинем все турниры раньше 2019 года, содержащие данные о составах комманд и повопросные результаты."
   ]
  },
  {
   "cell_type": "code",
   "execution_count": 5,
   "metadata": {},
   "outputs": [
    {
     "name": "stderr",
     "output_type": "stream",
     "text": [
      "100%|██████████| 5528/5528 [00:01<00:00, 3328.80it/s]\n"
     ]
    },
    {
     "data": {
      "text/plain": [
       "847"
      ]
     },
     "execution_count": 5,
     "metadata": {},
     "output_type": "execute_result"
    }
   ],
   "source": [
    "tournament_keys = [v['id'] for k, v in raw_tournaments.items() if v['dateStart'][:4] == '2019' or v['dateStart'][:4] == '2020']\n",
    "\n",
    "for key in tqdm(list(raw_results.keys())):\n",
    "    if key not in tournament_keys or raw_results[key] == [] or not raw_results[key][0].get('mask', None) or raw_results[key][0]['mask'] == None:\n",
    "        raw_results.pop(key, None)\n",
    "        \n",
    "len(raw_results)"
   ]
  },
  {
   "cell_type": "markdown",
   "metadata": {},
   "source": [
    "Удалим команды с масками ответов не равными максимальной в соревновании, удалим вопросы с пометкой `X` и заменим вопросы с пометкой `?` на `0`."
   ]
  },
  {
   "cell_type": "code",
   "execution_count": 6,
   "metadata": {},
   "outputs": [],
   "source": [
    "def check_if_mask_empty(results):\n",
    "    #Проверка на наличие маски в результатах\n",
    "    for tournament, teams in results.items():\n",
    "        for team in teams:\n",
    "            if not team['mask']:\n",
    "                return True\n",
    "    return False"
   ]
  },
  {
   "cell_type": "code",
   "execution_count": 7,
   "metadata": {},
   "outputs": [],
   "source": [
    "def check_if_mask_small(results):\n",
    "    #проверка длины маски в соревновании\n",
    "    for tournament, teams in results.items():\n",
    "        max_mask_lengt = 0\n",
    "        for team in teams:\n",
    "            if team['mask'] and len(team['mask']) > max_mask_lengt:\n",
    "                max_mask_lengt = len(team['mask'])\n",
    "        for team in teams:\n",
    "            if team['mask'] and len(team['mask']) < max_mask_lengt:\n",
    "                return True\n",
    "    return False"
   ]
  },
  {
   "cell_type": "code",
   "execution_count": 8,
   "metadata": {},
   "outputs": [],
   "source": [
    "def check_X_in_masks(results):\n",
    "    #Проверка на наличие 'X' в результатах\n",
    "    for tournament, teams in results.items():\n",
    "        for team in teams:\n",
    "            if team['mask'] and 'X' in team['mask']:\n",
    "                return True\n",
    "    return False"
   ]
  },
  {
   "cell_type": "code",
   "execution_count": 9,
   "metadata": {},
   "outputs": [],
   "source": [
    "def check_qmark_in_masks(results):\n",
    "    #Проверка на наличие '?' в результатах\n",
    "    for tournament, teams in results.items():\n",
    "        for team in teams:\n",
    "            if team['mask'] and '?' in team['mask']:\n",
    "                return True\n",
    "    return False"
   ]
  },
  {
   "cell_type": "code",
   "execution_count": 10,
   "metadata": {},
   "outputs": [],
   "source": [
    "def clean_masks(results):\n",
    "    for tournament, teams in tqdm(results.items()):\n",
    "        max_mask_lengt = 0\n",
    "        #удалим из масок 'X' и заменим '?' на '0', а так же найдем максимальную маску в соревновании\n",
    "        for team in teams:\n",
    "            if team['mask'] and 'X' in team['mask']:\n",
    "                team['mask'] = team['mask'].replace('X', '')\n",
    "            if team['mask'] and '?' in team['mask']:\n",
    "                team['mask'] = team['mask'].replace('?', '0')\n",
    "            if team['mask'] and len(team['mask']) > max_mask_lengt:\n",
    "                max_mask_lengt = len(team['mask'])\n",
    "        #удалим команды с пустыми полями 'mask' и с короткими масками\n",
    "        for idx, team in list(enumerate(teams))[::-1]:\n",
    "            if not team['mask'] or len(team['mask']) < max_mask_lengt:\n",
    "                teams.pop(idx)"
   ]
  },
  {
   "cell_type": "markdown",
   "metadata": {},
   "source": [
    "Запустим чекеры до очистки данных:"
   ]
  },
  {
   "cell_type": "code",
   "execution_count": 11,
   "metadata": {},
   "outputs": [
    {
     "name": "stdout",
     "output_type": "stream",
     "text": [
      "True\n",
      "True\n",
      "True\n",
      "True\n"
     ]
    }
   ],
   "source": [
    "print(check_if_mask_empty(raw_results))\n",
    "print(check_if_mask_small(raw_results))\n",
    "print(check_X_in_masks(raw_results))\n",
    "print(check_qmark_in_masks(raw_results))"
   ]
  },
  {
   "cell_type": "markdown",
   "metadata": {},
   "source": [
    "Запустим процесс очистки:"
   ]
  },
  {
   "cell_type": "code",
   "execution_count": 12,
   "metadata": {},
   "outputs": [
    {
     "name": "stderr",
     "output_type": "stream",
     "text": [
      "100%|██████████| 847/847 [00:00<00:00, 4375.97it/s]\n"
     ]
    }
   ],
   "source": [
    "clean_masks(raw_results)"
   ]
  },
  {
   "cell_type": "markdown",
   "metadata": {},
   "source": [
    "Теперь чекеры не находят проблем:"
   ]
  },
  {
   "cell_type": "code",
   "execution_count": 13,
   "metadata": {},
   "outputs": [
    {
     "name": "stdout",
     "output_type": "stream",
     "text": [
      "False\n",
      "False\n",
      "False\n",
      "False\n"
     ]
    }
   ],
   "source": [
    "print(check_if_mask_empty(raw_results))\n",
    "print(check_if_mask_small(raw_results))\n",
    "print(check_X_in_masks(raw_results))\n",
    "print(check_qmark_in_masks(raw_results))"
   ]
  },
  {
   "cell_type": "markdown",
   "metadata": {},
   "source": [
    "Составим обучающую и тестовую выборки по турнирам:"
   ]
  },
  {
   "cell_type": "code",
   "execution_count": 14,
   "metadata": {},
   "outputs": [
    {
     "name": "stderr",
     "output_type": "stream",
     "text": [
      "100%|██████████| 847/847 [00:00<00:00, 2749.20it/s]\n"
     ]
    }
   ],
   "source": [
    "tournaments_train = []\n",
    "tournaments_test = []\n",
    "\n",
    "for tournament_id in tqdm(raw_results.keys()):\n",
    "    tournament = dict()\n",
    "    tournament['id'] = tournament_id\n",
    "    teams_list = []\n",
    "    for team in raw_results[tournament_id]:\n",
    "        team_info = dict()\n",
    "        team_info['id'] = team['team']['id']\n",
    "        team_info['mask'] = team['mask']\n",
    "        team_info['players'] = [member['player']['id'] for member in team['teamMembers']]\n",
    "        teams_list.append(team_info)\n",
    "    tournament['teams'] = teams_list\n",
    "    \n",
    "    if raw_tournaments[tournament_id]['dateStart'][:4] == '2019':\n",
    "        tournaments_train.append(tournament)\n",
    "    else:\n",
    "        tournaments_test.append(tournament)"
   ]
  },
  {
   "cell_type": "code",
   "execution_count": 15,
   "metadata": {},
   "outputs": [
    {
     "data": {
      "text/plain": [
       "(674, 173)"
      ]
     },
     "execution_count": 15,
     "metadata": {},
     "output_type": "execute_result"
    }
   ],
   "source": [
    "len(tournaments_train), len(tournaments_test)"
   ]
  },
  {
   "cell_type": "markdown",
   "metadata": {},
   "source": [
    "Удалим исходные данные результатов:"
   ]
  },
  {
   "cell_type": "code",
   "execution_count": 16,
   "metadata": {},
   "outputs": [],
   "source": [
    "del raw_results"
   ]
  },
  {
   "cell_type": "markdown",
   "metadata": {},
   "source": [
    "# Задание 2"
   ]
  },
  {
   "cell_type": "markdown",
   "metadata": {},
   "source": [
    "Постройте baseline-модель на основе линейной или логистической регрессии, которая будет обучать рейтинг-лист игроков. Замечания и подсказки:\n",
    "* повопросные результаты — это фактически результаты броска монетки, и их предсказание скорее всего имеет отношение к бинарной классификации;\n",
    "* в разных турнирах вопросы совсем разного уровня сложности, поэтому модель должна это учитывать; скорее всего, модель должна будет явно обучать не только силу каждого игрока, но и сложность каждого вопроса;\n",
    "* для baseline-модели можно забыть о командах и считать, что повопросные результаты команды просто относятся к каждому из её игроков."
   ]
  },
  {
   "cell_type": "markdown",
   "metadata": {},
   "source": [
    "Присвоим каждому `id` игрока порядковый номер:"
   ]
  },
  {
   "cell_type": "code",
   "execution_count": 17,
   "metadata": {},
   "outputs": [
    {
     "name": "stderr",
     "output_type": "stream",
     "text": [
      "100%|██████████| 674/674 [00:00<00:00, 5849.17it/s]\n"
     ]
    }
   ],
   "source": [
    "players = set()\n",
    "\n",
    "for tournament in tqdm(tournaments_train):\n",
    "    for team in tournament['teams']:\n",
    "        for player in team['players']:\n",
    "            players.add(player)"
   ]
  },
  {
   "cell_type": "code",
   "execution_count": 18,
   "metadata": {},
   "outputs": [],
   "source": [
    "id_to_player = {i: p for i, p in enumerate(players)}\n",
    "player_to_id = {p: i for i, p in id_to_player.items()}"
   ]
  },
  {
   "cell_type": "markdown",
   "metadata": {},
   "source": [
    "Составим таблицу повопросных ответов игроков размерности (все игроки + все вопросы) * (повопросные ответы).\n",
    "\n",
    "Целевая переменная - правильность ответа (`0` или `1`)"
   ]
  },
  {
   "cell_type": "code",
   "execution_count": 19,
   "metadata": {},
   "outputs": [
    {
     "name": "stderr",
     "output_type": "stream",
     "text": [
      "100%|██████████| 674/674 [00:12<00:00, 52.43it/s] "
     ]
    },
    {
     "name": "stdout",
     "output_type": "stream",
     "text": [
      "CPU times: user 12.4 s, sys: 469 ms, total: 12.9 s\n",
      "Wall time: 12.9 s\n"
     ]
    },
    {
     "name": "stderr",
     "output_type": "stream",
     "text": [
      "\n"
     ]
    }
   ],
   "source": [
    "%%time\n",
    "player_ids = []\n",
    "question_ids = []\n",
    "y_labels = []\n",
    "team_ids = []\n",
    "\n",
    "questions_start_index = len(player_to_id)\n",
    "for tournament in tqdm(tournaments_train):\n",
    "    for team in tournament['teams']:\n",
    "        team_mask = team['mask']\n",
    "        for q, answer in enumerate(team_mask, questions_start_index):\n",
    "            for player in team['players']:\n",
    "                player_ids.append(player_to_id[player])\n",
    "                question_ids.append(q)\n",
    "                y_labels.append(int(answer))\n",
    "                team_ids.append(team['id'])\n",
    "    questions_start_index += len(team_mask)"
   ]
  },
  {
   "cell_type": "code",
   "execution_count": 20,
   "metadata": {},
   "outputs": [],
   "source": [
    "y_train = np.array(y_labels)"
   ]
  },
  {
   "cell_type": "code",
   "execution_count": 21,
   "metadata": {},
   "outputs": [
    {
     "name": "stdout",
     "output_type": "stream",
     "text": [
      "CPU times: user 50.3 s, sys: 7.9 s, total: 58.2 s\n",
      "Wall time: 58.1 s\n"
     ]
    }
   ],
   "source": [
    "%%time\n",
    "X_train = sparse.lil_matrix((len(player_ids), questions_start_index), dtype=int)\n",
    "X_train[range(len(player_ids)), player_ids] = 1\n",
    "X_train[range(len(player_ids)), question_ids] = 1"
   ]
  },
  {
   "cell_type": "code",
   "execution_count": 22,
   "metadata": {},
   "outputs": [
    {
     "data": {
      "text/plain": [
       "((17751584, 90656), (17751584,))"
      ]
     },
     "execution_count": 22,
     "metadata": {},
     "output_type": "execute_result"
    }
   ],
   "source": [
    "X_train.shape, y_train.shape"
   ]
  },
  {
   "cell_type": "markdown",
   "metadata": {},
   "source": [
    "Обучим на полученных данных логистическую регрессию:"
   ]
  },
  {
   "cell_type": "code",
   "execution_count": 23,
   "metadata": {},
   "outputs": [],
   "source": [
    "base_model = LogisticRegression()"
   ]
  },
  {
   "cell_type": "code",
   "execution_count": 24,
   "metadata": {},
   "outputs": [
    {
     "name": "stdout",
     "output_type": "stream",
     "text": [
      "CPU times: user 4min 47s, sys: 2min 48s, total: 7min 35s\n",
      "Wall time: 3min 56s\n"
     ]
    },
    {
     "name": "stderr",
     "output_type": "stream",
     "text": [
      "/home/dkulemin/.local/lib/python3.8/site-packages/sklearn/linear_model/_logistic.py:762: ConvergenceWarning: lbfgs failed to converge (status=1):\n",
      "STOP: TOTAL NO. of ITERATIONS REACHED LIMIT.\n",
      "\n",
      "Increase the number of iterations (max_iter) or scale the data as shown in:\n",
      "    https://scikit-learn.org/stable/modules/preprocessing.html\n",
      "Please also refer to the documentation for alternative solver options:\n",
      "    https://scikit-learn.org/stable/modules/linear_model.html#logistic-regression\n",
      "  n_iter_i = _check_optimize_result(\n"
     ]
    },
    {
     "data": {
      "text/plain": [
       "LogisticRegression()"
      ]
     },
     "execution_count": 24,
     "metadata": {},
     "output_type": "execute_result"
    }
   ],
   "source": [
    "%%time\n",
    "base_model.fit(X_train, y_train)"
   ]
  },
  {
   "cell_type": "markdown",
   "metadata": {},
   "source": [
    "В качестве рейтинга игроков возьмем первые коэффициенты модели:"
   ]
  },
  {
   "cell_type": "code",
   "execution_count": 25,
   "metadata": {},
   "outputs": [],
   "source": [
    "player_rating = base_model.coef_[0][:len(player_to_id)]"
   ]
  },
  {
   "cell_type": "markdown",
   "metadata": {},
   "source": [
    "Составим рейтинг лист игроков:"
   ]
  },
  {
   "cell_type": "code",
   "execution_count": 26,
   "metadata": {},
   "outputs": [],
   "source": [
    "rating_table = []\n",
    "\n",
    "for i, rating in enumerate(player_rating):\n",
    "    player_id = id_to_player[i]\n",
    "    rating_table.append([rating, player_id, raw_players[player_id]['name'] + ' ' + raw_players[player_id]['surname']])"
   ]
  },
  {
   "cell_type": "code",
   "execution_count": 27,
   "metadata": {},
   "outputs": [
    {
     "data": {
      "text/html": [
       "<div>\n",
       "<style scoped>\n",
       "    .dataframe tbody tr th:only-of-type {\n",
       "        vertical-align: middle;\n",
       "    }\n",
       "\n",
       "    .dataframe tbody tr th {\n",
       "        vertical-align: top;\n",
       "    }\n",
       "\n",
       "    .dataframe thead th {\n",
       "        text-align: right;\n",
       "    }\n",
       "</style>\n",
       "<table border=\"1\" class=\"dataframe\">\n",
       "  <thead>\n",
       "    <tr style=\"text-align: right;\">\n",
       "      <th></th>\n",
       "      <th>rating</th>\n",
       "      <th>player id</th>\n",
       "      <th>player name</th>\n",
       "    </tr>\n",
       "  </thead>\n",
       "  <tbody>\n",
       "    <tr>\n",
       "      <th>0</th>\n",
       "      <td>3.791533</td>\n",
       "      <td>27403</td>\n",
       "      <td>Максим Руссо</td>\n",
       "    </tr>\n",
       "    <tr>\n",
       "      <th>1</th>\n",
       "      <td>3.635847</td>\n",
       "      <td>4270</td>\n",
       "      <td>Александра Брутер</td>\n",
       "    </tr>\n",
       "    <tr>\n",
       "      <th>2</th>\n",
       "      <td>3.397761</td>\n",
       "      <td>30152</td>\n",
       "      <td>Артём Сорожкин</td>\n",
       "    </tr>\n",
       "    <tr>\n",
       "      <th>3</th>\n",
       "      <td>3.387160</td>\n",
       "      <td>28751</td>\n",
       "      <td>Иван Семушин</td>\n",
       "    </tr>\n",
       "    <tr>\n",
       "      <th>4</th>\n",
       "      <td>3.320266</td>\n",
       "      <td>27822</td>\n",
       "      <td>Михаил Савченков</td>\n",
       "    </tr>\n",
       "    <tr>\n",
       "      <th>5</th>\n",
       "      <td>3.261366</td>\n",
       "      <td>30270</td>\n",
       "      <td>Сергей Спешков</td>\n",
       "    </tr>\n",
       "    <tr>\n",
       "      <th>6</th>\n",
       "      <td>3.197049</td>\n",
       "      <td>20691</td>\n",
       "      <td>Станислав Мереминский</td>\n",
       "    </tr>\n",
       "    <tr>\n",
       "      <th>7</th>\n",
       "      <td>3.184139</td>\n",
       "      <td>34328</td>\n",
       "      <td>Михаил Царёв</td>\n",
       "    </tr>\n",
       "    <tr>\n",
       "      <th>8</th>\n",
       "      <td>3.158918</td>\n",
       "      <td>37047</td>\n",
       "      <td>Мария Юнгер</td>\n",
       "    </tr>\n",
       "    <tr>\n",
       "      <th>9</th>\n",
       "      <td>3.158539</td>\n",
       "      <td>18036</td>\n",
       "      <td>Михаил Левандовский</td>\n",
       "    </tr>\n",
       "    <tr>\n",
       "      <th>10</th>\n",
       "      <td>3.129191</td>\n",
       "      <td>3843</td>\n",
       "      <td>Светлана Бомешко</td>\n",
       "    </tr>\n",
       "    <tr>\n",
       "      <th>11</th>\n",
       "      <td>3.128260</td>\n",
       "      <td>56647</td>\n",
       "      <td>Наталья Горелова</td>\n",
       "    </tr>\n",
       "    <tr>\n",
       "      <th>12</th>\n",
       "      <td>3.104622</td>\n",
       "      <td>22935</td>\n",
       "      <td>Илья Новиков</td>\n",
       "    </tr>\n",
       "    <tr>\n",
       "      <th>13</th>\n",
       "      <td>3.093651</td>\n",
       "      <td>216863</td>\n",
       "      <td>Глеб Гаврилов</td>\n",
       "    </tr>\n",
       "    <tr>\n",
       "      <th>14</th>\n",
       "      <td>3.089993</td>\n",
       "      <td>22799</td>\n",
       "      <td>Сергей Николенко</td>\n",
       "    </tr>\n",
       "    <tr>\n",
       "      <th>15</th>\n",
       "      <td>3.067932</td>\n",
       "      <td>7008</td>\n",
       "      <td>Алексей Гилёв</td>\n",
       "    </tr>\n",
       "    <tr>\n",
       "      <th>16</th>\n",
       "      <td>3.057887</td>\n",
       "      <td>9061</td>\n",
       "      <td>Евгений Дёмин</td>\n",
       "    </tr>\n",
       "    <tr>\n",
       "      <th>17</th>\n",
       "      <td>3.051666</td>\n",
       "      <td>16332</td>\n",
       "      <td>Николай Крапиль</td>\n",
       "    </tr>\n",
       "    <tr>\n",
       "      <th>18</th>\n",
       "      <td>3.045103</td>\n",
       "      <td>27622</td>\n",
       "      <td>Николай Рябых</td>\n",
       "    </tr>\n",
       "    <tr>\n",
       "      <th>19</th>\n",
       "      <td>3.044481</td>\n",
       "      <td>38196</td>\n",
       "      <td>Артём Митрофанов</td>\n",
       "    </tr>\n",
       "    <tr>\n",
       "      <th>20</th>\n",
       "      <td>3.042967</td>\n",
       "      <td>18332</td>\n",
       "      <td>Александр Либер</td>\n",
       "    </tr>\n",
       "    <tr>\n",
       "      <th>21</th>\n",
       "      <td>3.019503</td>\n",
       "      <td>5483</td>\n",
       "      <td>Иван Веселов</td>\n",
       "    </tr>\n",
       "    <tr>\n",
       "      <th>22</th>\n",
       "      <td>3.018905</td>\n",
       "      <td>1585</td>\n",
       "      <td>Юлия Архангельская</td>\n",
       "    </tr>\n",
       "    <tr>\n",
       "      <th>23</th>\n",
       "      <td>3.005570</td>\n",
       "      <td>222188</td>\n",
       "      <td>Арина Гринко</td>\n",
       "    </tr>\n",
       "    <tr>\n",
       "      <th>24</th>\n",
       "      <td>2.992967</td>\n",
       "      <td>74001</td>\n",
       "      <td>Игорь Мокин</td>\n",
       "    </tr>\n",
       "    <tr>\n",
       "      <th>25</th>\n",
       "      <td>2.985704</td>\n",
       "      <td>505</td>\n",
       "      <td>Иделия Айзятулова</td>\n",
       "    </tr>\n",
       "    <tr>\n",
       "      <th>26</th>\n",
       "      <td>2.976112</td>\n",
       "      <td>16837</td>\n",
       "      <td>Наталья Кудряшова</td>\n",
       "    </tr>\n",
       "    <tr>\n",
       "      <th>27</th>\n",
       "      <td>2.975165</td>\n",
       "      <td>19915</td>\n",
       "      <td>Александр Марков</td>\n",
       "    </tr>\n",
       "    <tr>\n",
       "      <th>28</th>\n",
       "      <td>2.960505</td>\n",
       "      <td>15727</td>\n",
       "      <td>Александр Коробейников</td>\n",
       "    </tr>\n",
       "    <tr>\n",
       "      <th>29</th>\n",
       "      <td>2.957829</td>\n",
       "      <td>34846</td>\n",
       "      <td>Антон Чернин</td>\n",
       "    </tr>\n",
       "  </tbody>\n",
       "</table>\n",
       "</div>"
      ],
      "text/plain": [
       "      rating  player id             player name\n",
       "0   3.791533      27403            Максим Руссо\n",
       "1   3.635847       4270       Александра Брутер\n",
       "2   3.397761      30152          Артём Сорожкин\n",
       "3   3.387160      28751            Иван Семушин\n",
       "4   3.320266      27822        Михаил Савченков\n",
       "5   3.261366      30270          Сергей Спешков\n",
       "6   3.197049      20691   Станислав Мереминский\n",
       "7   3.184139      34328            Михаил Царёв\n",
       "8   3.158918      37047             Мария Юнгер\n",
       "9   3.158539      18036     Михаил Левандовский\n",
       "10  3.129191       3843        Светлана Бомешко\n",
       "11  3.128260      56647        Наталья Горелова\n",
       "12  3.104622      22935            Илья Новиков\n",
       "13  3.093651     216863           Глеб Гаврилов\n",
       "14  3.089993      22799        Сергей Николенко\n",
       "15  3.067932       7008           Алексей Гилёв\n",
       "16  3.057887       9061           Евгений Дёмин\n",
       "17  3.051666      16332         Николай Крапиль\n",
       "18  3.045103      27622           Николай Рябых\n",
       "19  3.044481      38196        Артём Митрофанов\n",
       "20  3.042967      18332         Александр Либер\n",
       "21  3.019503       5483            Иван Веселов\n",
       "22  3.018905       1585      Юлия Архангельская\n",
       "23  3.005570     222188            Арина Гринко\n",
       "24  2.992967      74001             Игорь Мокин\n",
       "25  2.985704        505       Иделия Айзятулова\n",
       "26  2.976112      16837       Наталья Кудряшова\n",
       "27  2.975165      19915        Александр Марков\n",
       "28  2.960505      15727  Александр Коробейников\n",
       "29  2.957829      34846            Антон Чернин"
      ]
     },
     "execution_count": 27,
     "metadata": {},
     "output_type": "execute_result"
    }
   ],
   "source": [
    "rating_list = pd.DataFrame(sorted(rating_table, reverse=True), columns=['rating', 'player id', 'player name'])\n",
    "rating_list.head(30)"
   ]
  },
  {
   "cell_type": "markdown",
   "metadata": {},
   "source": [
    "# Задание 3"
   ]
  },
  {
   "cell_type": "markdown",
   "metadata": {},
   "source": [
    "Качество рейтинг-системы оценивается качеством предсказаний результатов турниров. Но сами повопросные результаты наши модели предсказывать вряд ли смогут, ведь неизвестно, насколько сложными окажутся вопросы в будущих турнирах; да и не нужны эти предсказания сами по себе. Поэтому:\n",
    "* предложите способ предсказать результаты нового турнира с известными составами, но неизвестными вопросами, в виде ранжирования команд;\n",
    "* в качестве метрики качества на тестовом наборе давайте считать ранговые корреляции Спирмена и Кендалла (их можно взять в пакете scipy) между реальным ранжированием в результатах турнира и предсказанным моделью, усреднённые по тестовому множеству турниров.\n"
   ]
  },
  {
   "cell_type": "markdown",
   "metadata": {},
   "source": [
    "Оценим позицию команды в рейтинге, исходя из вероятности того, что хотябы один игрок команды правильно ответил на вопрос."
   ]
  },
  {
   "cell_type": "markdown",
   "metadata": {},
   "source": [
    "Для начала посчитаем число правильных ответов в командах:"
   ]
  },
  {
   "cell_type": "code",
   "execution_count": 28,
   "metadata": {},
   "outputs": [
    {
     "name": "stderr",
     "output_type": "stream",
     "text": [
      "100%|██████████| 173/173 [00:00<00:00, 651.67it/s]\n"
     ]
    }
   ],
   "source": [
    "tournaments_answers_count = []\n",
    "\n",
    "for tournament in tqdm(tournaments_test):\n",
    "    teams_answers_count = []\n",
    "    for team in tournament['teams']:  \n",
    "        test_player_ids = [player_to_id[player] for player in team['players'] if player in player_to_id.keys()]\n",
    "        if len(test_player_ids):\n",
    "            team_answers = list(map(int, team['mask']))\n",
    "            teams_answers_count.append(sum(team_answers))\n",
    "    tournaments_answers_count.append(teams_answers_count)"
   ]
  },
  {
   "cell_type": "markdown",
   "metadata": {},
   "source": [
    "Теперь предскажем рейтинги команд, интересующие вероятности расчитаем по формуле:\n",
    "\n",
    "$$P(team=1) = 1 - \\prod P(player=0)$$"
   ]
  },
  {
   "cell_type": "code",
   "execution_count": 29,
   "metadata": {},
   "outputs": [],
   "source": [
    "def tournaments_rating_predict(tournaments, to_id, start_index, model_predict_func):\n",
    "    rating_pred = []\n",
    "    for torunament in tqdm(tournaments):\n",
    "        preds = []\n",
    "        for team in torunament['teams']:\n",
    "            test_player_ids = [to_id[player] for player in team['players'] if player in to_id.keys()]\n",
    "            if len(test_player_ids):\n",
    "                X = sparse.lil_matrix((len(test_player_ids), start_index))\n",
    "                X[range(len(test_player_ids)), test_player_ids] = 1\n",
    "                q = model_predict_func(X)[:, 0]\n",
    "                p = 1 - q.prod()\n",
    "                preds.append(p)\n",
    "        rating_pred.append(preds)\n",
    "    return rating_pred"
   ]
  },
  {
   "cell_type": "code",
   "execution_count": 30,
   "metadata": {},
   "outputs": [
    {
     "name": "stderr",
     "output_type": "stream",
     "text": [
      "100%|██████████| 173/173 [00:13<00:00, 12.46it/s]\n"
     ]
    }
   ],
   "source": [
    "tournaments_rating_pred = tournaments_rating_predict(\n",
    "    tournaments_test, \n",
    "    player_to_id, \n",
    "    questions_start_index, \n",
    "    base_model.predict_proba\n",
    ")"
   ]
  },
  {
   "cell_type": "markdown",
   "metadata": {},
   "source": [
    "Расчитаем коеффициенты корреляции:"
   ]
  },
  {
   "cell_type": "code",
   "execution_count": 31,
   "metadata": {},
   "outputs": [],
   "source": [
    "def compute_correlations(preds, true_answers):\n",
    "    spearman_corrs = []\n",
    "    kendall_corrs = []\n",
    "    for i in range(len(true_answers)):\n",
    "        if len(true_answers[i]) > 1:\n",
    "            spearman_corrs.append(scipy.stats.spearmanr(true_answers[i], preds[i]).correlation)\n",
    "            kendall_corrs.append(scipy.stats.kendalltau(true_answers[i], preds[i]).correlation)\n",
    "    return np.mean(spearman_corrs), np.mean(kendall_corrs)"
   ]
  },
  {
   "cell_type": "code",
   "execution_count": 32,
   "metadata": {},
   "outputs": [
    {
     "name": "stdout",
     "output_type": "stream",
     "text": [
      "Spearman mean corr: 0.7631\n",
      "Kendall mean corr: 0.6084\n"
     ]
    }
   ],
   "source": [
    "spearman_means, kendall_means = compute_correlations(tournaments_rating_pred, tournaments_answers_count)\n",
    "print(f'Spearman mean corr: {np.round(spearman_means, 4)}')\n",
    "print(f'Kendall mean corr: {np.round(kendall_means, 4)}')"
   ]
  },
  {
   "cell_type": "markdown",
   "metadata": {},
   "source": [
    "# Задание 4"
   ]
  },
  {
   "cell_type": "markdown",
   "metadata": {},
   "source": [
    "Теперь главное: ЧГК — это всё-таки командная игра. Поэтому:\n",
    "* предложите способ учитывать то, что на вопрос отвечают сразу несколько игроков; скорее всего, понадобятся скрытые переменные; не стесняйтесь делать упрощающие предположения, но теперь переменные “игрок X ответил на вопрос Y” при условии данных должны стать зависимыми для игроков одной и той же команды;\n",
    "* разработайте EM-схему для обучения этой модели, реализуйте её в коде;\n",
    "* обучите несколько итераций, убедитесь, что целевые метрики со временем растут (скорее всего, ненамного, но расти должны), выберите лучшую модель, используя целевые метрики.\n"
   ]
  },
  {
   "cell_type": "markdown",
   "metadata": {},
   "source": [
    "Вектор скрытых переменных - вероятность дать правильный ответ игроку при условии ответа команды:\n",
    "\n",
    "$$z = P(player = 1 | team)$$\n",
    "\n",
    "Предположим, что если команда не ответила на вопрос, тогда вероятность ответа всех игроков команды равна `0`, в получившемся векторе `z` занулим ответы у игроков таких команд"
   ]
  },
  {
   "cell_type": "code",
   "execution_count": 33,
   "metadata": {},
   "outputs": [],
   "source": [
    "def sigmoid(X):\n",
    "    return 1 / (1 + np.exp(-X))"
   ]
  },
  {
   "cell_type": "code",
   "execution_count": 34,
   "metadata": {},
   "outputs": [],
   "source": [
    "def log_loss(y_pred, y_true):\n",
    "    return -np.mean(y_true * np.log(y_pred) + (1 - y_true) * np.log(1 - y_pred))"
   ]
  },
  {
   "cell_type": "code",
   "execution_count": 35,
   "metadata": {},
   "outputs": [],
   "source": [
    "def count_correlations():\n",
    "    tournaments_rating_pred = []\n",
    "    for torunament in tournaments_test:\n",
    "        preds = []\n",
    "        for team in torunament['teams']:\n",
    "            test_player_ids = [player_to_id[player] for player in team['players'] if player in player_to_id.keys()]\n",
    "            if len(test_player_ids):\n",
    "                X = sparse.lil_matrix((len(test_player_ids), questions_start_index), dtype=int)\n",
    "                X[range(len(test_player_ids)), test_player_ids] = 1\n",
    "                X = sparse.hstack([np.ones(X.shape[0]).reshape(-1, 1), X])\n",
    "                q = 1 - sigmoid(X @ weights)\n",
    "                p = 1 - q.prod()\n",
    "                preds.append(p)\n",
    "        tournaments_rating_pred.append(preds)\n",
    "\n",
    "    return compute_correlations(tournaments_rating_pred, tournaments_answers_count)"
   ]
  },
  {
   "cell_type": "markdown",
   "metadata": {},
   "source": [
    "Проинициируем начальные веса из baseline модели:"
   ]
  },
  {
   "cell_type": "code",
   "execution_count": 59,
   "metadata": {},
   "outputs": [],
   "source": [
    "weights = np.hstack((base_model.intercept_, base_model.coef_[0]))"
   ]
  },
  {
   "cell_type": "markdown",
   "metadata": {},
   "source": [
    "На E-шаге будем предсказывать вероятности ответа игроков при условии команды:\n",
    "\n",
    "$$P(player = 1 | team = 1) = \\frac{P(team = 1 | player = 1)P(player = 1)}{P(team = 1)}$$\n",
    "\n",
    "По предположению следует, что $P(team = 1 | player = 1) = 1$, тогда:\n",
    "\n",
    "$$P(player = 1 | team = 1) = \\frac{P(player = 1)}{P(team = 1)}$$"
   ]
  },
  {
   "cell_type": "code",
   "execution_count": 37,
   "metadata": {},
   "outputs": [],
   "source": [
    "def E_step(X, y, weights):\n",
    "    X = sparse.hstack([np.ones(X.shape[0]).reshape(-1, 1), X])\n",
    "    preds = sigmoid(X @ weights)\n",
    "    preds = np.hstack(((1 - preds).reshape(-1, 1), preds.reshape(-1, 1)))\n",
    "    array = np.hstack(\n",
    "        [\n",
    "            np.array(team_ids).reshape(-1, 1), \n",
    "            np.array(question_ids).reshape(-1, 1), \n",
    "            preds[:, 0].reshape(-1, 1),\n",
    "            preds[:, 1].reshape(-1, 1)\n",
    "        ]\n",
    "    )\n",
    "    df_team = pd.DataFrame(array, columns=['team', 'question', 'q', 'p'])\n",
    "    df_team_by_question = (\n",
    "        df_team\n",
    "        .groupby(['team', 'question'])\n",
    "        .agg({'q': 'prod'})\n",
    "        .reset_index()\n",
    "    )\n",
    "    df_team_by_question['p'] = 1 - df_team_by_question['q']\n",
    "    df_team_by_question.drop(columns=['q'], inplace=True)\n",
    "    df_team = pd.merge(df_team, df_team_by_question, on=['team', 'question'], suffixes=('_player', '_team'))\n",
    "    z = (df_team['p_player'] / df_team['p_team']).clip(0, 1)\n",
    "    z[y == 0] = 0\n",
    "    return z"
   ]
  },
  {
   "cell_type": "markdown",
   "metadata": {},
   "source": [
    "На M-шаге будем максимизировать правдоподобие, на вход будут передаваться вероятности `z`."
   ]
  },
  {
   "cell_type": "code",
   "execution_count": 38,
   "metadata": {},
   "outputs": [],
   "source": [
    "def M_step(X, y, weights, max_iters=100000, lr=20, batch_size=1000, tol=1e-04, check_loss_every=1000):\n",
    "    X = sparse.hstack([np.ones(len(y)).reshape(-1, 1), X], format='csr')\n",
    "    losses = []\n",
    "    prev_mean_loss = np.inf\n",
    "\n",
    "    data_len = X.shape[0]\n",
    "    for i in tqdm(range(max_iters)):\n",
    "        batch = np.random.choice(data_len, batch_size)\n",
    "        X_batch = X[batch, :]\n",
    "        y_batch = y[batch]\n",
    "        preds = sigmoid(X_batch @ weights)\n",
    "        losses.append(log_loss(preds, y_batch))\n",
    "        if i and i % check_loss_every == 0:\n",
    "            new_mean_loss = np.mean(losses)\n",
    "            if (prev_mean_loss - new_mean_loss) < tol:\n",
    "                print(f'Converged with mean loss: {new_mean_loss}')\n",
    "                break                    \n",
    "            losses = []\n",
    "            prev_mean_loss = new_mean_loss\n",
    "\n",
    "        grad = -X_batch.T @ (y_batch - preds) / len(y_batch)\n",
    "        weights -= lr * grad"
   ]
  },
  {
   "cell_type": "code",
   "execution_count": 60,
   "metadata": {},
   "outputs": [
    {
     "name": "stdout",
     "output_type": "stream",
     "text": [
      "Spearman mean corr: 0.7631\n",
      "Kendall mean corr: 0.6084\n"
     ]
    },
    {
     "name": "stderr",
     "output_type": "stream",
     "text": [
      " 11%|█         | 11000/100000 [06:16<50:49, 29.19it/s]\n"
     ]
    },
    {
     "name": "stdout",
     "output_type": "stream",
     "text": [
      "Converged with mean loss: 0.5485125062719673\n",
      "Spearman mean corr: 0.7684\n",
      "Kendall mean corr: 0.6132\n",
      "0.7683709212278544 0.6132006701508964\n"
     ]
    },
    {
     "name": "stderr",
     "output_type": "stream",
     "text": [
      " 10%|█         | 10000/100000 [05:39<50:59, 29.42it/s]\n"
     ]
    },
    {
     "name": "stdout",
     "output_type": "stream",
     "text": [
      "Converged with mean loss: 0.48463493664496726\n",
      "Spearman mean corr: 0.777\n",
      "Kendall mean corr: 0.6205\n",
      "0.7770151356434697 0.620535134771498\n"
     ]
    },
    {
     "name": "stderr",
     "output_type": "stream",
     "text": [
      "  4%|▍         | 4000/100000 [02:15<54:15, 29.49it/s] \n"
     ]
    },
    {
     "name": "stdout",
     "output_type": "stream",
     "text": [
      "Converged with mean loss: 0.4434362979225341\n",
      "Spearman mean corr: 0.7779\n",
      "Kendall mean corr: 0.6215\n",
      "0.7778509691747048 0.6214619077988748\n"
     ]
    },
    {
     "name": "stderr",
     "output_type": "stream",
     "text": [
      "  2%|▏         | 2000/100000 [01:08<56:11, 29.07it/s]  \n"
     ]
    },
    {
     "name": "stdout",
     "output_type": "stream",
     "text": [
      "Converged with mean loss: 0.42375184335261545\n",
      "Spearman mean corr: 0.7797\n",
      "Kendall mean corr: 0.6226\n",
      "0.7796583543111939 0.6226058325304789\n"
     ]
    },
    {
     "name": "stderr",
     "output_type": "stream",
     "text": [
      "  2%|▏         | 2000/100000 [01:08<55:53, 29.23it/s] \n"
     ]
    },
    {
     "name": "stdout",
     "output_type": "stream",
     "text": [
      "Converged with mean loss: 0.3570463365287853\n",
      "Spearman mean corr: 0.7818\n",
      "Kendall mean corr: 0.6251\n",
      "0.7818054198609524 0.6251249708984118\n"
     ]
    },
    {
     "name": "stderr",
     "output_type": "stream",
     "text": [
      "  2%|▏         | 2000/100000 [01:09<56:45, 28.78it/s] \n"
     ]
    },
    {
     "name": "stdout",
     "output_type": "stream",
     "text": [
      "Converged with mean loss: 0.3324998193443116\n",
      "Spearman mean corr: 0.7833\n",
      "Kendall mean corr: 0.6263\n",
      "0.7832805362500707 0.6262630409380289\n"
     ]
    },
    {
     "name": "stderr",
     "output_type": "stream",
     "text": [
      "  3%|▎         | 3000/100000 [01:43<55:53, 28.92it/s] \n"
     ]
    },
    {
     "name": "stdout",
     "output_type": "stream",
     "text": [
      "Converged with mean loss: 0.3308440177488145\n",
      "Spearman mean corr: 0.7851\n",
      "Kendall mean corr: 0.6277\n",
      "0.7851002885119546 0.6277369509096665\n"
     ]
    },
    {
     "name": "stderr",
     "output_type": "stream",
     "text": [
      "  7%|▋         | 7000/100000 [04:01<53:23, 29.03it/s] \n"
     ]
    },
    {
     "name": "stdout",
     "output_type": "stream",
     "text": [
      "Converged with mean loss: 0.316822354065772\n",
      "Spearman mean corr: 0.7891\n",
      "Kendall mean corr: 0.6318\n",
      "0.7890969563744611 0.6317787513678648\n"
     ]
    },
    {
     "name": "stderr",
     "output_type": "stream",
     "text": [
      "  2%|▏         | 2000/100000 [01:09<56:31, 28.89it/s] \n"
     ]
    },
    {
     "name": "stdout",
     "output_type": "stream",
     "text": [
      "Converged with mean loss: 0.316118443433843\n",
      "Spearman mean corr: 0.7901\n",
      "Kendall mean corr: 0.6331\n",
      "0.790096682986628 0.6330618973457726\n"
     ]
    },
    {
     "name": "stderr",
     "output_type": "stream",
     "text": [
      "  2%|▏         | 2000/100000 [01:10<57:39, 28.33it/s] \n"
     ]
    },
    {
     "name": "stdout",
     "output_type": "stream",
     "text": [
      "Converged with mean loss: 0.3150953525081251\n",
      "Spearman mean corr: 0.7917\n",
      "Kendall mean corr: 0.6356\n",
      "0.7916683900613833 0.6355852539768445\n"
     ]
    },
    {
     "name": "stderr",
     "output_type": "stream",
     "text": [
      "  5%|▌         | 5000/100000 [02:50<54:02, 29.29it/s] \n"
     ]
    },
    {
     "name": "stdout",
     "output_type": "stream",
     "text": [
      "Converged with mean loss: 0.31275410021500943\n",
      "Spearman mean corr: 0.7929\n",
      "Kendall mean corr: 0.6368\n",
      "0.7929275231596623 0.6367898885537262\n"
     ]
    },
    {
     "name": "stderr",
     "output_type": "stream",
     "text": [
      "  2%|▏         | 2000/100000 [01:09<56:55, 28.69it/s] \n"
     ]
    },
    {
     "name": "stdout",
     "output_type": "stream",
     "text": [
      "Converged with mean loss: 0.3132904839776118\n",
      "Spearman mean corr: 0.7936\n",
      "Kendall mean corr: 0.6383\n",
      "0.793556673688113 0.6382790009749562\n"
     ]
    },
    {
     "name": "stderr",
     "output_type": "stream",
     "text": [
      "  4%|▍         | 4000/100000 [02:18<55:23, 28.88it/s] \n"
     ]
    },
    {
     "name": "stdout",
     "output_type": "stream",
     "text": [
      "Converged with mean loss: 0.307388248426907\n",
      "Spearman mean corr: 0.7898\n",
      "Kendall mean corr: 0.6363\n"
     ]
    },
    {
     "name": "stderr",
     "output_type": "stream",
     "text": [
      "  3%|▎         | 3000/100000 [01:44<56:28, 28.63it/s] \n"
     ]
    },
    {
     "name": "stdout",
     "output_type": "stream",
     "text": [
      "Converged with mean loss: 0.3119565528580819\n",
      "Spearman mean corr: 0.7905\n",
      "Kendall mean corr: 0.6368\n"
     ]
    },
    {
     "name": "stderr",
     "output_type": "stream",
     "text": [
      "  3%|▎         | 3000/100000 [01:44<56:05, 28.82it/s] \n"
     ]
    },
    {
     "name": "stdout",
     "output_type": "stream",
     "text": [
      "Converged with mean loss: 0.3147855412360782\n",
      "Spearman mean corr: 0.792\n",
      "Kendall mean corr: 0.6385\n"
     ]
    },
    {
     "name": "stderr",
     "output_type": "stream",
     "text": [
      "  4%|▍         | 4000/100000 [02:17<55:04, 29.06it/s]  \n"
     ]
    },
    {
     "name": "stdout",
     "output_type": "stream",
     "text": [
      "Converged with mean loss: 0.30838443176638\n",
      "Spearman mean corr: 0.7925\n",
      "Kendall mean corr: 0.6384\n"
     ]
    },
    {
     "name": "stderr",
     "output_type": "stream",
     "text": [
      "  3%|▎         | 3000/100000 [01:43<55:46, 28.98it/s]  \n"
     ]
    },
    {
     "name": "stdout",
     "output_type": "stream",
     "text": [
      "Converged with mean loss: 0.3156339273064968\n",
      "Spearman mean corr: 0.792\n",
      "Kendall mean corr: 0.6379\n"
     ]
    },
    {
     "name": "stderr",
     "output_type": "stream",
     "text": [
      "  3%|▎         | 3000/100000 [01:43<55:59, 28.88it/s] \n"
     ]
    },
    {
     "name": "stdout",
     "output_type": "stream",
     "text": [
      "Converged with mean loss: 0.3186407629473839\n",
      "Spearman mean corr: 0.7936\n",
      "Kendall mean corr: 0.6406\n",
      "0.7935784156554919 0.6405879947621976\n"
     ]
    },
    {
     "name": "stderr",
     "output_type": "stream",
     "text": [
      "  2%|▏         | 2000/100000 [01:09<56:55, 28.69it/s] \n"
     ]
    },
    {
     "name": "stdout",
     "output_type": "stream",
     "text": [
      "Converged with mean loss: 0.3096060408518282\n",
      "Spearman mean corr: 0.794\n",
      "Kendall mean corr: 0.6417\n",
      "0.7940460718267298 0.641695703438298\n"
     ]
    },
    {
     "name": "stderr",
     "output_type": "stream",
     "text": [
      "  3%|▎         | 3000/100000 [01:42<55:26, 29.16it/s] \n"
     ]
    },
    {
     "name": "stdout",
     "output_type": "stream",
     "text": [
      "Converged with mean loss: 0.30347720670772244\n",
      "Spearman mean corr: 0.7936\n",
      "Kendall mean corr: 0.6404\n"
     ]
    },
    {
     "name": "stderr",
     "output_type": "stream",
     "text": [
      "  3%|▎         | 3000/100000 [01:43<55:54, 28.92it/s] \n"
     ]
    },
    {
     "name": "stdout",
     "output_type": "stream",
     "text": [
      "Converged with mean loss: 0.30985815614339196\n",
      "Spearman mean corr: 0.7945\n",
      "Kendall mean corr: 0.6416\n"
     ]
    },
    {
     "name": "stderr",
     "output_type": "stream",
     "text": [
      "  2%|▏         | 2000/100000 [01:09<56:37, 28.85it/s] \n"
     ]
    },
    {
     "name": "stdout",
     "output_type": "stream",
     "text": [
      "Converged with mean loss: 0.31244704967581494\n",
      "Spearman mean corr: 0.7947\n",
      "Kendall mean corr: 0.6418\n",
      "0.7946614291407 0.641770208325392\n"
     ]
    },
    {
     "name": "stderr",
     "output_type": "stream",
     "text": [
      "  2%|▏         | 2000/100000 [01:09<56:24, 28.95it/s] \n"
     ]
    },
    {
     "name": "stdout",
     "output_type": "stream",
     "text": [
      "Converged with mean loss: 0.30336656285135233\n",
      "Spearman mean corr: 0.795\n",
      "Kendall mean corr: 0.6421\n",
      "0.7950169187356881 0.6421109733862335\n"
     ]
    },
    {
     "name": "stderr",
     "output_type": "stream",
     "text": [
      "  4%|▍         | 4000/100000 [02:17<55:09, 29.01it/s] \n"
     ]
    },
    {
     "name": "stdout",
     "output_type": "stream",
     "text": [
      "Converged with mean loss: 0.3066077288341027\n",
      "Spearman mean corr: 0.7962\n",
      "Kendall mean corr: 0.644\n",
      "0.796185553344632 0.6439977205620419\n"
     ]
    },
    {
     "name": "stderr",
     "output_type": "stream",
     "text": [
      "  2%|▏         | 2000/100000 [01:09<56:38, 28.84it/s] \n"
     ]
    },
    {
     "name": "stdout",
     "output_type": "stream",
     "text": [
      "Converged with mean loss: 0.30824473425690585\n",
      "Spearman mean corr: 0.7959\n",
      "Kendall mean corr: 0.6428\n"
     ]
    },
    {
     "name": "stderr",
     "output_type": "stream",
     "text": [
      "  4%|▍         | 4000/100000 [02:16<54:36, 29.30it/s] \n"
     ]
    },
    {
     "name": "stdout",
     "output_type": "stream",
     "text": [
      "Converged with mean loss: 0.3105525250280299\n",
      "Spearman mean corr: 0.796\n",
      "Kendall mean corr: 0.6429\n"
     ]
    },
    {
     "name": "stderr",
     "output_type": "stream",
     "text": [
      "  2%|▏         | 2000/100000 [01:10<57:37, 28.34it/s] \n"
     ]
    },
    {
     "name": "stdout",
     "output_type": "stream",
     "text": [
      "Converged with mean loss: 0.30821857245184303\n",
      "Spearman mean corr: 0.7963\n",
      "Kendall mean corr: 0.6438\n"
     ]
    },
    {
     "name": "stderr",
     "output_type": "stream",
     "text": [
      "  2%|▏         | 2000/100000 [01:08<56:20, 28.99it/s] \n"
     ]
    },
    {
     "name": "stdout",
     "output_type": "stream",
     "text": [
      "Converged with mean loss: 0.31351860537532433\n",
      "Spearman mean corr: 0.7967\n",
      "Kendall mean corr: 0.6444\n",
      "0.7967072287708057 0.6443581750350759\n"
     ]
    },
    {
     "name": "stderr",
     "output_type": "stream",
     "text": [
      "  2%|▏         | 2000/100000 [01:09<56:31, 28.90it/s] \n"
     ]
    },
    {
     "name": "stdout",
     "output_type": "stream",
     "text": [
      "Converged with mean loss: 0.31090733290131833\n",
      "Spearman mean corr: 0.7965\n",
      "Kendall mean corr: 0.6444\n"
     ]
    },
    {
     "name": "stderr",
     "output_type": "stream",
     "text": [
      "  2%|▏         | 2000/100000 [01:08<56:06, 29.11it/s] \n"
     ]
    },
    {
     "name": "stdout",
     "output_type": "stream",
     "text": [
      "Converged with mean loss: 0.31791941977200777\n",
      "Spearman mean corr: 0.7964\n",
      "Kendall mean corr: 0.6444\n",
      "CPU times: user 54min 40s, sys: 31min 35s, total: 1h 26min 16s\n",
      "Wall time: 1h 25min 38s\n"
     ]
    }
   ],
   "source": [
    "%%time\n",
    "spearman_means, kendall_means = count_correlations()\n",
    "print(f'Spearman mean corr: {np.round(spearman_means, 4)}')\n",
    "print(f'Kendall mean corr: {np.round(kendall_means, 4)}')\n",
    "\n",
    "best_model = weights.copy()\n",
    "best_spearman = spearman_means\n",
    "best_kendall = kendall_means\n",
    "\n",
    "for _ in range(30):\n",
    "    z = E_step(X_train, y_train, weights)\n",
    "    M_step(X_train, z, weights)\n",
    "    \n",
    "    spearman_means, kendall_means = count_correlations()\n",
    "    print(f'Spearman mean corr: {np.round(spearman_means, 4)}')\n",
    "    print(f'Kendall mean corr: {np.round(kendall_means, 4)}')\n",
    "    if spearman_means > best_spearman and kendall_means > best_kendall:\n",
    "        best_model = weights.copy()\n",
    "        best_spearman = spearman_means\n",
    "        best_kendall = kendall_means\n",
    "        print(best_spearman, best_kendall)"
   ]
  },
  {
   "cell_type": "markdown",
   "metadata": {},
   "source": [
    "Наблюдается постепенный рост метрик корреляции. Построим рейтинг-лист."
   ]
  },
  {
   "cell_type": "code",
   "execution_count": 69,
   "metadata": {},
   "outputs": [
    {
     "data": {
      "text/html": [
       "<div>\n",
       "<style scoped>\n",
       "    .dataframe tbody tr th:only-of-type {\n",
       "        vertical-align: middle;\n",
       "    }\n",
       "\n",
       "    .dataframe tbody tr th {\n",
       "        vertical-align: top;\n",
       "    }\n",
       "\n",
       "    .dataframe thead th {\n",
       "        text-align: right;\n",
       "    }\n",
       "</style>\n",
       "<table border=\"1\" class=\"dataframe\">\n",
       "  <thead>\n",
       "    <tr style=\"text-align: right;\">\n",
       "      <th></th>\n",
       "      <th>rating</th>\n",
       "      <th>player id</th>\n",
       "      <th>player name</th>\n",
       "    </tr>\n",
       "  </thead>\n",
       "  <tbody>\n",
       "    <tr>\n",
       "      <th>0</th>\n",
       "      <td>4.284867</td>\n",
       "      <td>74001</td>\n",
       "      <td>Игорь Мокин</td>\n",
       "    </tr>\n",
       "    <tr>\n",
       "      <th>1</th>\n",
       "      <td>3.984195</td>\n",
       "      <td>222188</td>\n",
       "      <td>Арина Гринко</td>\n",
       "    </tr>\n",
       "    <tr>\n",
       "      <th>2</th>\n",
       "      <td>3.921629</td>\n",
       "      <td>34328</td>\n",
       "      <td>Михаил Царёв</td>\n",
       "    </tr>\n",
       "    <tr>\n",
       "      <th>3</th>\n",
       "      <td>3.902055</td>\n",
       "      <td>20691</td>\n",
       "      <td>Станислав Мереминский</td>\n",
       "    </tr>\n",
       "    <tr>\n",
       "      <th>4</th>\n",
       "      <td>3.883733</td>\n",
       "      <td>15727</td>\n",
       "      <td>Александр Коробейников</td>\n",
       "    </tr>\n",
       "    <tr>\n",
       "      <th>5</th>\n",
       "      <td>3.859326</td>\n",
       "      <td>7008</td>\n",
       "      <td>Алексей Гилёв</td>\n",
       "    </tr>\n",
       "    <tr>\n",
       "      <th>6</th>\n",
       "      <td>3.782159</td>\n",
       "      <td>19915</td>\n",
       "      <td>Александр Марков</td>\n",
       "    </tr>\n",
       "    <tr>\n",
       "      <th>7</th>\n",
       "      <td>3.760534</td>\n",
       "      <td>38196</td>\n",
       "      <td>Артём Митрофанов</td>\n",
       "    </tr>\n",
       "    <tr>\n",
       "      <th>8</th>\n",
       "      <td>3.730272</td>\n",
       "      <td>27403</td>\n",
       "      <td>Максим Руссо</td>\n",
       "    </tr>\n",
       "    <tr>\n",
       "      <th>9</th>\n",
       "      <td>3.617605</td>\n",
       "      <td>21137</td>\n",
       "      <td>Кирилл Михайлов</td>\n",
       "    </tr>\n",
       "    <tr>\n",
       "      <th>10</th>\n",
       "      <td>3.593084</td>\n",
       "      <td>22935</td>\n",
       "      <td>Илья Новиков</td>\n",
       "    </tr>\n",
       "    <tr>\n",
       "      <th>11</th>\n",
       "      <td>3.585081</td>\n",
       "      <td>20700</td>\n",
       "      <td>Максим Мерзляков</td>\n",
       "    </tr>\n",
       "    <tr>\n",
       "      <th>12</th>\n",
       "      <td>3.582615</td>\n",
       "      <td>18332</td>\n",
       "      <td>Александр Либер</td>\n",
       "    </tr>\n",
       "    <tr>\n",
       "      <th>13</th>\n",
       "      <td>3.563888</td>\n",
       "      <td>9834</td>\n",
       "      <td>Ольга Дубинская</td>\n",
       "    </tr>\n",
       "    <tr>\n",
       "      <th>14</th>\n",
       "      <td>3.559099</td>\n",
       "      <td>15123</td>\n",
       "      <td>Ирина Колесникова</td>\n",
       "    </tr>\n",
       "    <tr>\n",
       "      <th>15</th>\n",
       "      <td>3.555229</td>\n",
       "      <td>9061</td>\n",
       "      <td>Евгений Дёмин</td>\n",
       "    </tr>\n",
       "    <tr>\n",
       "      <th>16</th>\n",
       "      <td>3.551840</td>\n",
       "      <td>30152</td>\n",
       "      <td>Артём Сорожкин</td>\n",
       "    </tr>\n",
       "    <tr>\n",
       "      <th>17</th>\n",
       "      <td>3.550264</td>\n",
       "      <td>4063</td>\n",
       "      <td>Дмитрий Борок</td>\n",
       "    </tr>\n",
       "    <tr>\n",
       "      <th>18</th>\n",
       "      <td>3.531923</td>\n",
       "      <td>216863</td>\n",
       "      <td>Глеб Гаврилов</td>\n",
       "    </tr>\n",
       "    <tr>\n",
       "      <th>19</th>\n",
       "      <td>3.516284</td>\n",
       "      <td>4270</td>\n",
       "      <td>Александра Брутер</td>\n",
       "    </tr>\n",
       "    <tr>\n",
       "      <th>20</th>\n",
       "      <td>3.508472</td>\n",
       "      <td>21698</td>\n",
       "      <td>Александр Мосягин</td>\n",
       "    </tr>\n",
       "    <tr>\n",
       "      <th>21</th>\n",
       "      <td>3.500773</td>\n",
       "      <td>18194</td>\n",
       "      <td>Мария Кленницкая</td>\n",
       "    </tr>\n",
       "    <tr>\n",
       "      <th>22</th>\n",
       "      <td>3.487363</td>\n",
       "      <td>28751</td>\n",
       "      <td>Иван Семушин</td>\n",
       "    </tr>\n",
       "    <tr>\n",
       "      <th>23</th>\n",
       "      <td>3.479365</td>\n",
       "      <td>27822</td>\n",
       "      <td>Михаил Савченков</td>\n",
       "    </tr>\n",
       "    <tr>\n",
       "      <th>24</th>\n",
       "      <td>3.448446</td>\n",
       "      <td>24006</td>\n",
       "      <td>Дмитрий Панайотти</td>\n",
       "    </tr>\n",
       "    <tr>\n",
       "      <th>25</th>\n",
       "      <td>3.442097</td>\n",
       "      <td>15226</td>\n",
       "      <td>Мария Колосовская</td>\n",
       "    </tr>\n",
       "    <tr>\n",
       "      <th>26</th>\n",
       "      <td>3.425925</td>\n",
       "      <td>37047</td>\n",
       "      <td>Мария Юнгер</td>\n",
       "    </tr>\n",
       "    <tr>\n",
       "      <th>27</th>\n",
       "      <td>3.423606</td>\n",
       "      <td>4226</td>\n",
       "      <td>Сусанна Бровер</td>\n",
       "    </tr>\n",
       "    <tr>\n",
       "      <th>28</th>\n",
       "      <td>3.423258</td>\n",
       "      <td>5990</td>\n",
       "      <td>Андрей Волыхов</td>\n",
       "    </tr>\n",
       "    <tr>\n",
       "      <th>29</th>\n",
       "      <td>3.406858</td>\n",
       "      <td>4414</td>\n",
       "      <td>Александр Булавчук</td>\n",
       "    </tr>\n",
       "  </tbody>\n",
       "</table>\n",
       "</div>"
      ],
      "text/plain": [
       "      rating  player id             player name\n",
       "0   4.284867      74001             Игорь Мокин\n",
       "1   3.984195     222188            Арина Гринко\n",
       "2   3.921629      34328            Михаил Царёв\n",
       "3   3.902055      20691   Станислав Мереминский\n",
       "4   3.883733      15727  Александр Коробейников\n",
       "5   3.859326       7008           Алексей Гилёв\n",
       "6   3.782159      19915        Александр Марков\n",
       "7   3.760534      38196        Артём Митрофанов\n",
       "8   3.730272      27403            Максим Руссо\n",
       "9   3.617605      21137         Кирилл Михайлов\n",
       "10  3.593084      22935            Илья Новиков\n",
       "11  3.585081      20700        Максим Мерзляков\n",
       "12  3.582615      18332         Александр Либер\n",
       "13  3.563888       9834         Ольга Дубинская\n",
       "14  3.559099      15123       Ирина Колесникова\n",
       "15  3.555229       9061           Евгений Дёмин\n",
       "16  3.551840      30152          Артём Сорожкин\n",
       "17  3.550264       4063           Дмитрий Борок\n",
       "18  3.531923     216863           Глеб Гаврилов\n",
       "19  3.516284       4270       Александра Брутер\n",
       "20  3.508472      21698       Александр Мосягин\n",
       "21  3.500773      18194        Мария Кленницкая\n",
       "22  3.487363      28751            Иван Семушин\n",
       "23  3.479365      27822        Михаил Савченков\n",
       "24  3.448446      24006       Дмитрий Панайотти\n",
       "25  3.442097      15226       Мария Колосовская\n",
       "26  3.425925      37047             Мария Юнгер\n",
       "27  3.423606       4226          Сусанна Бровер\n",
       "28  3.423258       5990          Андрей Волыхов\n",
       "29  3.406858       4414      Александр Булавчук"
      ]
     },
     "execution_count": 69,
     "metadata": {},
     "output_type": "execute_result"
    }
   ],
   "source": [
    "player_rating = best_model[1:len(player_to_id) + 1]\n",
    "rating_table = []\n",
    "\n",
    "for i, rating in enumerate(player_rating):\n",
    "    player_id = id_to_player[i]\n",
    "    rating_table.append([rating, player_id, raw_players[player_id]['name'] + ' ' + raw_players[player_id]['surname']])\n",
    "\n",
    "rating_list = pd.DataFrame(sorted(rating_table, reverse=True), columns=['rating', 'player id', 'player name'])\n",
    "rating_list.head(30)"
   ]
  },
  {
   "cell_type": "markdown",
   "metadata": {},
   "source": [
    "# Задание 5"
   ]
  },
  {
   "cell_type": "markdown",
   "metadata": {},
   "source": [
    "А что там с вопросами? Постройте “рейтинг-лист” турниров по сложности вопросов. Соответствует ли он интуиции (например, на чемпионате мира в целом должны быть сложные вопросы, а на турнирах для школьников — простые)? Если будет интересно: постройте топ сложных и простых вопросов со ссылками на конкретные записи в базе вопросов ЧГК (это чисто техническое дело, тут никакого ML нету)."
   ]
  },
  {
   "cell_type": "code",
   "execution_count": 71,
   "metadata": {},
   "outputs": [],
   "source": [
    "question_rating = best_model[len(player_to_id) + 1:]\n",
    "\n",
    "tournament_rating = dict()\n",
    "questions_pointer = 0\n",
    "for tournament in tournaments_train:\n",
    "    tournament_mask = tournament['teams'][0]['mask']\n",
    "    start, end = questions_pointer, questions_pointer + len(team_mask)\n",
    "    tournament_rating[tournament['id']] = np.mean(question_rating[start:end])\n",
    "    questions_pointer += len(tournament_mask)\n",
    "    \n",
    "df_tournament_rating = pd.DataFrame(\n",
    "    np.array(\n",
    "        sorted(\n",
    "            tournament_rating.items(), \n",
    "            key=lambda x: x[1]\n",
    "        )\n",
    "    )[:, 0], \n",
    "    columns=['id']\n",
    ")\n",
    "df_tournament_rating['tournament'] = df_tournament_rating['id'].apply(lambda x: raw_tournaments[x]['name'])"
   ]
  },
  {
   "cell_type": "code",
   "execution_count": 72,
   "metadata": {},
   "outputs": [
    {
     "data": {
      "text/html": [
       "<div>\n",
       "<style scoped>\n",
       "    .dataframe tbody tr th:only-of-type {\n",
       "        vertical-align: middle;\n",
       "    }\n",
       "\n",
       "    .dataframe tbody tr th {\n",
       "        vertical-align: top;\n",
       "    }\n",
       "\n",
       "    .dataframe thead th {\n",
       "        text-align: right;\n",
       "    }\n",
       "</style>\n",
       "<table border=\"1\" class=\"dataframe\">\n",
       "  <thead>\n",
       "    <tr style=\"text-align: right;\">\n",
       "      <th></th>\n",
       "      <th>id</th>\n",
       "      <th>tournament</th>\n",
       "    </tr>\n",
       "  </thead>\n",
       "  <tbody>\n",
       "    <tr>\n",
       "      <th>0</th>\n",
       "      <td>6149.0</td>\n",
       "      <td>Чемпионат Санкт-Петербурга. Первая лига</td>\n",
       "    </tr>\n",
       "    <tr>\n",
       "      <th>1</th>\n",
       "      <td>6147.0</td>\n",
       "      <td>Открытый зимний чемпионат ТИУ</td>\n",
       "    </tr>\n",
       "    <tr>\n",
       "      <th>2</th>\n",
       "      <td>6146.0</td>\n",
       "      <td>Избранное Осеннего Кубка Барнаула</td>\n",
       "    </tr>\n",
       "    <tr>\n",
       "      <th>3</th>\n",
       "      <td>5940.0</td>\n",
       "      <td>Чемпионат Мира. Этап 1. Группа С</td>\n",
       "    </tr>\n",
       "    <tr>\n",
       "      <th>4</th>\n",
       "      <td>5941.0</td>\n",
       "      <td>Чемпионат Мира. Этап 2. Группа А</td>\n",
       "    </tr>\n",
       "    <tr>\n",
       "      <th>5</th>\n",
       "      <td>5945.0</td>\n",
       "      <td>Чемпионат Мира. Этап 3. Группа А</td>\n",
       "    </tr>\n",
       "    <tr>\n",
       "      <th>6</th>\n",
       "      <td>5938.0</td>\n",
       "      <td>Чемпионат Мира. Этап 1. Группа А</td>\n",
       "    </tr>\n",
       "    <tr>\n",
       "      <th>7</th>\n",
       "      <td>5939.0</td>\n",
       "      <td>Чемпионат Мира. Этап 1. Группа В</td>\n",
       "    </tr>\n",
       "    <tr>\n",
       "      <th>8</th>\n",
       "      <td>5942.0</td>\n",
       "      <td>Чемпионат Мира. Этап 2. Группа В</td>\n",
       "    </tr>\n",
       "    <tr>\n",
       "      <th>9</th>\n",
       "      <td>5943.0</td>\n",
       "      <td>Чемпионат Мира. Этап 2 Группа С</td>\n",
       "    </tr>\n",
       "    <tr>\n",
       "      <th>10</th>\n",
       "      <td>5944.0</td>\n",
       "      <td>Dichtenszeit-1</td>\n",
       "    </tr>\n",
       "    <tr>\n",
       "      <th>11</th>\n",
       "      <td>5937.0</td>\n",
       "      <td>Квизобрейн - глава 2. New Year edition.</td>\n",
       "    </tr>\n",
       "    <tr>\n",
       "      <th>12</th>\n",
       "      <td>6145.0</td>\n",
       "      <td>Кубок Караганды</td>\n",
       "    </tr>\n",
       "    <tr>\n",
       "      <th>13</th>\n",
       "      <td>5946.0</td>\n",
       "      <td>Чемпионат Мира. Этап 3. Группа В</td>\n",
       "    </tr>\n",
       "    <tr>\n",
       "      <th>14</th>\n",
       "      <td>5154.0</td>\n",
       "      <td>Синхрон Студенческого Кубка Княгини Ольги</td>\n",
       "    </tr>\n",
       "    <tr>\n",
       "      <th>15</th>\n",
       "      <td>5155.0</td>\n",
       "      <td>Студенческий чемпионат Беларуси</td>\n",
       "    </tr>\n",
       "    <tr>\n",
       "      <th>16</th>\n",
       "      <td>6150.0</td>\n",
       "      <td>Чемпионат Санкт-Петербурга. Высшая лига</td>\n",
       "    </tr>\n",
       "    <tr>\n",
       "      <th>17</th>\n",
       "      <td>5773.0</td>\n",
       "      <td>Кубок Европы среди студентов</td>\n",
       "    </tr>\n",
       "    <tr>\n",
       "      <th>18</th>\n",
       "      <td>5927.0</td>\n",
       "      <td>Кубок пустого стула</td>\n",
       "    </tr>\n",
       "    <tr>\n",
       "      <th>19</th>\n",
       "      <td>5993.0</td>\n",
       "      <td>Енисейская знать</td>\n",
       "    </tr>\n",
       "  </tbody>\n",
       "</table>\n",
       "</div>"
      ],
      "text/plain": [
       "        id                                 tournament\n",
       "0   6149.0    Чемпионат Санкт-Петербурга. Первая лига\n",
       "1   6147.0              Открытый зимний чемпионат ТИУ\n",
       "2   6146.0          Избранное Осеннего Кубка Барнаула\n",
       "3   5940.0           Чемпионат Мира. Этап 1. Группа С\n",
       "4   5941.0           Чемпионат Мира. Этап 2. Группа А\n",
       "5   5945.0           Чемпионат Мира. Этап 3. Группа А\n",
       "6   5938.0           Чемпионат Мира. Этап 1. Группа А\n",
       "7   5939.0           Чемпионат Мира. Этап 1. Группа В\n",
       "8   5942.0           Чемпионат Мира. Этап 2. Группа В\n",
       "9   5943.0            Чемпионат Мира. Этап 2 Группа С\n",
       "10  5944.0                             Dichtenszeit-1\n",
       "11  5937.0    Квизобрейн - глава 2. New Year edition.\n",
       "12  6145.0                            Кубок Караганды\n",
       "13  5946.0           Чемпионат Мира. Этап 3. Группа В\n",
       "14  5154.0  Синхрон Студенческого Кубка Княгини Ольги\n",
       "15  5155.0            Студенческий чемпионат Беларуси\n",
       "16  6150.0    Чемпионат Санкт-Петербурга. Высшая лига\n",
       "17  5773.0               Кубок Европы среди студентов\n",
       "18  5927.0                        Кубок пустого стула\n",
       "19  5993.0                           Енисейская знать"
      ]
     },
     "execution_count": 72,
     "metadata": {},
     "output_type": "execute_result"
    }
   ],
   "source": [
    "df_tournament_rating.head(20)"
   ]
  },
  {
   "cell_type": "code",
   "execution_count": 73,
   "metadata": {},
   "outputs": [
    {
     "data": {
      "text/html": [
       "<div>\n",
       "<style scoped>\n",
       "    .dataframe tbody tr th:only-of-type {\n",
       "        vertical-align: middle;\n",
       "    }\n",
       "\n",
       "    .dataframe tbody tr th {\n",
       "        vertical-align: top;\n",
       "    }\n",
       "\n",
       "    .dataframe thead th {\n",
       "        text-align: right;\n",
       "    }\n",
       "</style>\n",
       "<table border=\"1\" class=\"dataframe\">\n",
       "  <thead>\n",
       "    <tr style=\"text-align: right;\">\n",
       "      <th></th>\n",
       "      <th>id</th>\n",
       "      <th>tournament</th>\n",
       "    </tr>\n",
       "  </thead>\n",
       "  <tbody>\n",
       "    <tr>\n",
       "      <th>654</th>\n",
       "      <td>5965.0</td>\n",
       "      <td>ОЧВР. 1 тур</td>\n",
       "    </tr>\n",
       "    <tr>\n",
       "      <th>655</th>\n",
       "      <td>6005.0</td>\n",
       "      <td>Кубок ректора ДВФУ</td>\n",
       "    </tr>\n",
       "    <tr>\n",
       "      <th>656</th>\n",
       "      <td>5010.0</td>\n",
       "      <td>Школьный Синхрон-lite. Выпуск 2.4</td>\n",
       "    </tr>\n",
       "    <tr>\n",
       "      <th>657</th>\n",
       "      <td>5702.0</td>\n",
       "      <td>(а)Синхрон-lite. Лига старта. Эпизод IX</td>\n",
       "    </tr>\n",
       "    <tr>\n",
       "      <th>658</th>\n",
       "      <td>6006.0</td>\n",
       "      <td>Зимняя кинолига</td>\n",
       "    </tr>\n",
       "    <tr>\n",
       "      <th>659</th>\n",
       "      <td>5112.0</td>\n",
       "      <td>Mediterranean Cup</td>\n",
       "    </tr>\n",
       "    <tr>\n",
       "      <th>660</th>\n",
       "      <td>6003.0</td>\n",
       "      <td>Второй тематический турнир имени Джоуи Триббиани</td>\n",
       "    </tr>\n",
       "    <tr>\n",
       "      <th>661</th>\n",
       "      <td>5724.0</td>\n",
       "      <td>Загадочный ларец</td>\n",
       "    </tr>\n",
       "    <tr>\n",
       "      <th>662</th>\n",
       "      <td>5725.0</td>\n",
       "      <td>Синхрон-lite. Выпуск XXVII</td>\n",
       "    </tr>\n",
       "    <tr>\n",
       "      <th>663</th>\n",
       "      <td>6001.0</td>\n",
       "      <td>Из Минска с любовью. Этап 1.</td>\n",
       "    </tr>\n",
       "    <tr>\n",
       "      <th>664</th>\n",
       "      <td>4986.0</td>\n",
       "      <td>ОВСЧ. 6 этап</td>\n",
       "    </tr>\n",
       "    <tr>\n",
       "      <th>665</th>\n",
       "      <td>5851.0</td>\n",
       "      <td>Кубок метаморфоз</td>\n",
       "    </tr>\n",
       "    <tr>\n",
       "      <th>666</th>\n",
       "      <td>5701.0</td>\n",
       "      <td>Школьный Синхрон-lite. Выпуск 3.3</td>\n",
       "    </tr>\n",
       "    <tr>\n",
       "      <th>667</th>\n",
       "      <td>5700.0</td>\n",
       "      <td>(а)Синхрон-lite. Лига старта. Эпизод VIII</td>\n",
       "    </tr>\n",
       "    <tr>\n",
       "      <th>668</th>\n",
       "      <td>5699.0</td>\n",
       "      <td>Школьный Синхрон-lite. Выпуск 3.2</td>\n",
       "    </tr>\n",
       "    <tr>\n",
       "      <th>669</th>\n",
       "      <td>5698.0</td>\n",
       "      <td>(а)Синхрон-lite. Лига старта. Эпизод VII</td>\n",
       "    </tr>\n",
       "    <tr>\n",
       "      <th>670</th>\n",
       "      <td>5697.0</td>\n",
       "      <td>Школьный Синхрон-lite. Выпуск 3.1</td>\n",
       "    </tr>\n",
       "    <tr>\n",
       "      <th>671</th>\n",
       "      <td>5000.0</td>\n",
       "      <td>Чёрная Быль</td>\n",
       "    </tr>\n",
       "    <tr>\n",
       "      <th>672</th>\n",
       "      <td>5009.0</td>\n",
       "      <td>(а)Синхрон-lite. Лига старта. Эпизод III</td>\n",
       "    </tr>\n",
       "    <tr>\n",
       "      <th>673</th>\n",
       "      <td>5008.0</td>\n",
       "      <td>Школьный Синхрон-lite. Выпуск 2.3</td>\n",
       "    </tr>\n",
       "  </tbody>\n",
       "</table>\n",
       "</div>"
      ],
      "text/plain": [
       "         id                                        tournament\n",
       "654  5965.0                                       ОЧВР. 1 тур\n",
       "655  6005.0                                Кубок ректора ДВФУ\n",
       "656  5010.0                 Школьный Синхрон-lite. Выпуск 2.4\n",
       "657  5702.0           (а)Синхрон-lite. Лига старта. Эпизод IX\n",
       "658  6006.0                                   Зимняя кинолига\n",
       "659  5112.0                                 Mediterranean Cup\n",
       "660  6003.0  Второй тематический турнир имени Джоуи Триббиани\n",
       "661  5724.0                                  Загадочный ларец\n",
       "662  5725.0                        Синхрон-lite. Выпуск XXVII\n",
       "663  6001.0                      Из Минска с любовью. Этап 1.\n",
       "664  4986.0                                      ОВСЧ. 6 этап\n",
       "665  5851.0                                  Кубок метаморфоз\n",
       "666  5701.0                 Школьный Синхрон-lite. Выпуск 3.3\n",
       "667  5700.0         (а)Синхрон-lite. Лига старта. Эпизод VIII\n",
       "668  5699.0                 Школьный Синхрон-lite. Выпуск 3.2\n",
       "669  5698.0          (а)Синхрон-lite. Лига старта. Эпизод VII\n",
       "670  5697.0                 Школьный Синхрон-lite. Выпуск 3.1\n",
       "671  5000.0                                       Чёрная Быль\n",
       "672  5009.0          (а)Синхрон-lite. Лига старта. Эпизод III\n",
       "673  5008.0                 Школьный Синхрон-lite. Выпуск 2.3"
      ]
     },
     "execution_count": 73,
     "metadata": {},
     "output_type": "execute_result"
    }
   ],
   "source": [
    "df_tournament_rating.tail(20)"
   ]
  },
  {
   "cell_type": "markdown",
   "metadata": {},
   "source": [
    "Действительно, в начале рейтинг-листа идут крупные соревнования, а в конце школьные турниры."
   ]
  }
 ],
 "metadata": {
  "kernelspec": {
   "display_name": "Python 3",
   "language": "python",
   "name": "python3"
  },
  "language_info": {
   "codemirror_mode": {
    "name": "ipython",
    "version": 3
   },
   "file_extension": ".py",
   "mimetype": "text/x-python",
   "name": "python",
   "nbconvert_exporter": "python",
   "pygments_lexer": "ipython3",
   "version": "3.8.5"
  }
 },
 "nbformat": 4,
 "nbformat_minor": 4
}
